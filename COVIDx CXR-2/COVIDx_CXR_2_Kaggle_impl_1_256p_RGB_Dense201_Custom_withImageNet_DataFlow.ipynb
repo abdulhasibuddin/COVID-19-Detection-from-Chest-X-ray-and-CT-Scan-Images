{
  "nbformat": 4,
  "nbformat_minor": 0,
  "metadata": {
    "colab": {
      "name": "COVIDx_CXR_2_Kaggle_impl_1_256p_RGB_Dense201_Custom_withImageNet_DataFlow.ipynb",
      "provenance": [],
      "collapsed_sections": []
    },
    "kernelspec": {
      "display_name": "Python 3",
      "name": "python3"
    },
    "accelerator": "GPU"
  },
  "cells": [
    {
      "cell_type": "code",
      "metadata": {
        "colab": {
          "base_uri": "https://localhost:8080/"
        },
        "id": "w35zPOcMyNwJ",
        "outputId": "d513bbcd-5c89-42f2-e9f4-208733697a94"
      },
      "source": [
        "from google.colab import drive \n",
        "drive.mount('/content/drive', force_remount=True)"
      ],
      "execution_count": 1,
      "outputs": [
        {
          "output_type": "stream",
          "text": [
            "Mounted at /content/drive\n"
          ],
          "name": "stdout"
        }
      ]
    },
    {
      "cell_type": "code",
      "metadata": {
        "id": "ph-qNIaajXGT"
      },
      "source": [
        "#drive.flush_and_unmount(timeout_ms=24)"
      ],
      "execution_count": 2,
      "outputs": []
    },
    {
      "cell_type": "code",
      "metadata": {
        "id": "9xc7MvTxyQd7"
      },
      "source": [
        "\n",
        "import numpy as np\n",
        "import pandas as pd\n",
        "import pickle\n",
        "import numpy as np\n",
        "import random\n",
        "import time\n",
        "import os\n",
        "#os.environ[\"OPENCV_IO_MAX_IMAGE_PIXELS\"] = pow(2,40).__str__()\n",
        "import cv2\n",
        "from tqdm import tqdm\n",
        "\n",
        "import tensorflow as tf\n",
        "from tensorflow.python.keras import Sequential\n",
        "from tensorflow.keras import layers, optimizers\n",
        "from tensorflow.keras.applications import DenseNet121\n",
        "from tensorflow.keras.applications.resnet50 import ResNet50\n",
        "from tensorflow.keras.layers import *\n",
        "from tensorflow.keras.models import Model, load_model\n",
        "from tensorflow.keras.initializers import glorot_uniform\n",
        "from tensorflow.keras.utils import plot_model\n",
        "from tensorflow.keras.callbacks import ReduceLROnPlateau, EarlyStopping, ModelCheckpoint, LearningRateScheduler\n",
        "from IPython.display import display\n",
        "from tensorflow.keras import backend as K\n",
        "import matplotlib.pyplot as plt\n",
        "import matplotlib.image as mpimg\n",
        "from sklearn.model_selection import train_test_split\n",
        "from keras import optimizers\n",
        "#from sklearn.metrics import classification_report, confusion_matrix\n",
        "import sklearn\n",
        "import seaborn as sn\n",
        "from keras.callbacks import CSVLogger, LambdaCallback\n",
        "from tensorflow.keras.preprocessing.image import ImageDataGenerator"
      ],
      "execution_count": 3,
      "outputs": []
    },
    {
      "cell_type": "code",
      "metadata": {
        "id": "0Bpa74kr60p9"
      },
      "source": [
        ""
      ],
      "execution_count": 3,
      "outputs": []
    },
    {
      "cell_type": "code",
      "metadata": {
        "colab": {
          "base_uri": "https://localhost:8080/",
          "height": 206
        },
        "id": "rQbFaGlX60ym",
        "outputId": "09ee8ce1-2892-44ca-fdc8-43c70e038907"
      },
      "source": [
        "train_file = \"drive/My Drive/COVID_19_Dataset/COVIDx CXR-2 Kaggle/train.txt\"\n",
        "train_df_original = pd.read_csv(train_file, delimiter = \" \", header=None)\n",
        "train_df_original.columns = ['Column_1', 'filename', 'label', 'Column_2']\n",
        "train_df_original.head()"
      ],
      "execution_count": 4,
      "outputs": [
        {
          "output_type": "execute_result",
          "data": {
            "text/html": [
              "<div>\n",
              "<style scoped>\n",
              "    .dataframe tbody tr th:only-of-type {\n",
              "        vertical-align: middle;\n",
              "    }\n",
              "\n",
              "    .dataframe tbody tr th {\n",
              "        vertical-align: top;\n",
              "    }\n",
              "\n",
              "    .dataframe thead th {\n",
              "        text-align: right;\n",
              "    }\n",
              "</style>\n",
              "<table border=\"1\" class=\"dataframe\">\n",
              "  <thead>\n",
              "    <tr style=\"text-align: right;\">\n",
              "      <th></th>\n",
              "      <th>Column_1</th>\n",
              "      <th>filename</th>\n",
              "      <th>label</th>\n",
              "      <th>Column_2</th>\n",
              "    </tr>\n",
              "  </thead>\n",
              "  <tbody>\n",
              "    <tr>\n",
              "      <th>0</th>\n",
              "      <td>5</td>\n",
              "      <td>ARDSSevere.png</td>\n",
              "      <td>negative</td>\n",
              "      <td>cohen</td>\n",
              "    </tr>\n",
              "    <tr>\n",
              "      <th>1</th>\n",
              "      <td>25</td>\n",
              "      <td>acute-respiratory-distress-syndrome-ards-1.jpg</td>\n",
              "      <td>negative</td>\n",
              "      <td>cohen</td>\n",
              "    </tr>\n",
              "    <tr>\n",
              "      <th>2</th>\n",
              "      <td>26</td>\n",
              "      <td>acute-respiratory-distress-syndrome-ards.jpg</td>\n",
              "      <td>negative</td>\n",
              "      <td>cohen</td>\n",
              "    </tr>\n",
              "    <tr>\n",
              "      <th>3</th>\n",
              "      <td>27</td>\n",
              "      <td>ards-secondary-to-tiger-snake-bite.png</td>\n",
              "      <td>negative</td>\n",
              "      <td>cohen</td>\n",
              "    </tr>\n",
              "    <tr>\n",
              "      <th>4</th>\n",
              "      <td>28</td>\n",
              "      <td>pneumocystis-pneumonia-2-PA.png</td>\n",
              "      <td>negative</td>\n",
              "      <td>cohen</td>\n",
              "    </tr>\n",
              "  </tbody>\n",
              "</table>\n",
              "</div>"
            ],
            "text/plain": [
              "  Column_1                                        filename     label Column_2\n",
              "0        5                                  ARDSSevere.png  negative    cohen\n",
              "1       25  acute-respiratory-distress-syndrome-ards-1.jpg  negative    cohen\n",
              "2       26    acute-respiratory-distress-syndrome-ards.jpg  negative    cohen\n",
              "3       27          ards-secondary-to-tiger-snake-bite.png  negative    cohen\n",
              "4       28                 pneumocystis-pneumonia-2-PA.png  negative    cohen"
            ]
          },
          "metadata": {
            "tags": []
          },
          "execution_count": 4
        }
      ]
    },
    {
      "cell_type": "code",
      "metadata": {
        "colab": {
          "base_uri": "https://localhost:8080/",
          "height": 316
        },
        "id": "wJzw3qmCFgWi",
        "outputId": "5126bb38-4c7e-4415-e1a8-944fad0b52f2"
      },
      "source": [
        "train_df = train_df_original[['filename', 'label']]\n",
        "\n",
        "for i in range(train_df.shape[0]):\n",
        "    filename = train_df['filename'][i]\n",
        "    file_full_path = f\"drive/My Drive/COVID_19_Dataset/COVIDx CXR-2 Kaggle/train/{filename}\"\n",
        "    train_df['filename'][i] = file_full_path\n",
        "\n",
        "print(f\"train_df['filename'][0] = {train_df['filename'][0]}\")\n",
        "train_df.tail()"
      ],
      "execution_count": 5,
      "outputs": [
        {
          "output_type": "stream",
          "text": [
            "/usr/local/lib/python3.7/dist-packages/IPython/core/interactiveshell.py:2882: SettingWithCopyWarning: \n",
            "A value is trying to be set on a copy of a slice from a DataFrame\n",
            "\n",
            "See the caveats in the documentation: https://pandas.pydata.org/pandas-docs/stable/user_guide/indexing.html#returning-a-view-versus-a-copy\n",
            "  exec(code_obj, self.user_global_ns, self.user_ns)\n"
          ],
          "name": "stderr"
        },
        {
          "output_type": "stream",
          "text": [
            "train_df['filename'][0] = drive/My Drive/COVID_19_Dataset/COVIDx CXR-2 Kaggle/train/ARDSSevere.png\n"
          ],
          "name": "stdout"
        },
        {
          "output_type": "execute_result",
          "data": {
            "text/html": [
              "<div>\n",
              "<style scoped>\n",
              "    .dataframe tbody tr th:only-of-type {\n",
              "        vertical-align: middle;\n",
              "    }\n",
              "\n",
              "    .dataframe tbody tr th {\n",
              "        vertical-align: top;\n",
              "    }\n",
              "\n",
              "    .dataframe thead th {\n",
              "        text-align: right;\n",
              "    }\n",
              "</style>\n",
              "<table border=\"1\" class=\"dataframe\">\n",
              "  <thead>\n",
              "    <tr style=\"text-align: right;\">\n",
              "      <th></th>\n",
              "      <th>filename</th>\n",
              "      <th>label</th>\n",
              "    </tr>\n",
              "  </thead>\n",
              "  <tbody>\n",
              "    <tr>\n",
              "      <th>15946</th>\n",
              "      <td>drive/My Drive/COVID_19_Dataset/COVIDx CXR-2 K...</td>\n",
              "      <td>negative</td>\n",
              "    </tr>\n",
              "    <tr>\n",
              "      <th>15947</th>\n",
              "      <td>drive/My Drive/COVID_19_Dataset/COVIDx CXR-2 K...</td>\n",
              "      <td>negative</td>\n",
              "    </tr>\n",
              "    <tr>\n",
              "      <th>15948</th>\n",
              "      <td>drive/My Drive/COVID_19_Dataset/COVIDx CXR-2 K...</td>\n",
              "      <td>negative</td>\n",
              "    </tr>\n",
              "    <tr>\n",
              "      <th>15949</th>\n",
              "      <td>drive/My Drive/COVID_19_Dataset/COVIDx CXR-2 K...</td>\n",
              "      <td>negative</td>\n",
              "    </tr>\n",
              "    <tr>\n",
              "      <th>15950</th>\n",
              "      <td>drive/My Drive/COVID_19_Dataset/COVIDx CXR-2 K...</td>\n",
              "      <td>negative</td>\n",
              "    </tr>\n",
              "  </tbody>\n",
              "</table>\n",
              "</div>"
            ],
            "text/plain": [
              "                                                filename     label\n",
              "15946  drive/My Drive/COVID_19_Dataset/COVIDx CXR-2 K...  negative\n",
              "15947  drive/My Drive/COVID_19_Dataset/COVIDx CXR-2 K...  negative\n",
              "15948  drive/My Drive/COVID_19_Dataset/COVIDx CXR-2 K...  negative\n",
              "15949  drive/My Drive/COVID_19_Dataset/COVIDx CXR-2 K...  negative\n",
              "15950  drive/My Drive/COVID_19_Dataset/COVIDx CXR-2 K...  negative"
            ]
          },
          "metadata": {
            "tags": []
          },
          "execution_count": 5
        }
      ]
    },
    {
      "cell_type": "code",
      "metadata": {
        "id": "6JiFrPrI604V"
      },
      "source": [
        ""
      ],
      "execution_count": 5,
      "outputs": []
    },
    {
      "cell_type": "code",
      "metadata": {
        "colab": {
          "base_uri": "https://localhost:8080/",
          "height": 206
        },
        "id": "aCuuHYAy607Y",
        "outputId": "b39a8a76-d7ae-40c6-991a-2fd381775bd9"
      },
      "source": [
        "test_file = \"drive/My Drive/COVID_19_Dataset/COVIDx CXR-2 Kaggle/test.txt\"\n",
        "test_df_original = pd.read_csv(test_file, delimiter = \" \", header=None)\n",
        "test_df_original.columns = ['Column_1', 'filename', 'label', 'Column_2']\n",
        "test_df_original.head()"
      ],
      "execution_count": 6,
      "outputs": [
        {
          "output_type": "execute_result",
          "data": {
            "text/html": [
              "<div>\n",
              "<style scoped>\n",
              "    .dataframe tbody tr th:only-of-type {\n",
              "        vertical-align: middle;\n",
              "    }\n",
              "\n",
              "    .dataframe tbody tr th {\n",
              "        vertical-align: top;\n",
              "    }\n",
              "\n",
              "    .dataframe thead th {\n",
              "        text-align: right;\n",
              "    }\n",
              "</style>\n",
              "<table border=\"1\" class=\"dataframe\">\n",
              "  <thead>\n",
              "    <tr style=\"text-align: right;\">\n",
              "      <th></th>\n",
              "      <th>Column_1</th>\n",
              "      <th>filename</th>\n",
              "      <th>label</th>\n",
              "      <th>Column_2</th>\n",
              "    </tr>\n",
              "  </thead>\n",
              "  <tbody>\n",
              "    <tr>\n",
              "      <th>0</th>\n",
              "      <td>419639-003251</td>\n",
              "      <td>MIDRC-RICORD-1C-419639-003251-46647-0.png</td>\n",
              "      <td>positive</td>\n",
              "      <td>ricord</td>\n",
              "    </tr>\n",
              "    <tr>\n",
              "      <th>1</th>\n",
              "      <td>419639-001464</td>\n",
              "      <td>MIDRC-RICORD-1C-419639-001464-39871-0.png</td>\n",
              "      <td>positive</td>\n",
              "      <td>ricord</td>\n",
              "    </tr>\n",
              "    <tr>\n",
              "      <th>2</th>\n",
              "      <td>419639-000918</td>\n",
              "      <td>MIDRC-RICORD-1C-419639-000918-78965-0.png</td>\n",
              "      <td>positive</td>\n",
              "      <td>ricord</td>\n",
              "    </tr>\n",
              "    <tr>\n",
              "      <th>3</th>\n",
              "      <td>419639-003318</td>\n",
              "      <td>MIDRC-RICORD-1C-419639-003318-64285-0.png</td>\n",
              "      <td>positive</td>\n",
              "      <td>ricord</td>\n",
              "    </tr>\n",
              "    <tr>\n",
              "      <th>4</th>\n",
              "      <td>419639-001015</td>\n",
              "      <td>MIDRC-RICORD-1C-419639-001015-81591-0.png</td>\n",
              "      <td>positive</td>\n",
              "      <td>ricord</td>\n",
              "    </tr>\n",
              "  </tbody>\n",
              "</table>\n",
              "</div>"
            ],
            "text/plain": [
              "        Column_1                                   filename     label Column_2\n",
              "0  419639-003251  MIDRC-RICORD-1C-419639-003251-46647-0.png  positive   ricord\n",
              "1  419639-001464  MIDRC-RICORD-1C-419639-001464-39871-0.png  positive   ricord\n",
              "2  419639-000918  MIDRC-RICORD-1C-419639-000918-78965-0.png  positive   ricord\n",
              "3  419639-003318  MIDRC-RICORD-1C-419639-003318-64285-0.png  positive   ricord\n",
              "4  419639-001015  MIDRC-RICORD-1C-419639-001015-81591-0.png  positive   ricord"
            ]
          },
          "metadata": {
            "tags": []
          },
          "execution_count": 6
        }
      ]
    },
    {
      "cell_type": "code",
      "metadata": {
        "colab": {
          "base_uri": "https://localhost:8080/",
          "height": 316
        },
        "id": "DMnGI2yS60-M",
        "outputId": "000f5b88-9703-4048-8b35-a017638803f5"
      },
      "source": [
        "test_df = test_df_original[['filename', 'label']]\n",
        "\n",
        "for i in range(test_df.shape[0]):\n",
        "    filename = test_df['filename'][i]\n",
        "    file_full_path = f\"drive/My Drive/COVID_19_Dataset/COVIDx CXR-2 Kaggle/test/{filename}\"\n",
        "    test_df['filename'][i] = file_full_path\n",
        "    \n",
        "print(f\"test_df['filename'][0] = {test_df['filename'][0]}\")\n",
        "test_df.tail()"
      ],
      "execution_count": 7,
      "outputs": [
        {
          "output_type": "stream",
          "text": [
            "test_df['filename'][0] = drive/My Drive/COVID_19_Dataset/COVIDx CXR-2 Kaggle/test/MIDRC-RICORD-1C-419639-003251-46647-0.png\n"
          ],
          "name": "stdout"
        },
        {
          "output_type": "stream",
          "text": [
            "/usr/local/lib/python3.7/dist-packages/IPython/core/interactiveshell.py:2882: SettingWithCopyWarning: \n",
            "A value is trying to be set on a copy of a slice from a DataFrame\n",
            "\n",
            "See the caveats in the documentation: https://pandas.pydata.org/pandas-docs/stable/user_guide/indexing.html#returning-a-view-versus-a-copy\n",
            "  exec(code_obj, self.user_global_ns, self.user_ns)\n"
          ],
          "name": "stderr"
        },
        {
          "output_type": "execute_result",
          "data": {
            "text/html": [
              "<div>\n",
              "<style scoped>\n",
              "    .dataframe tbody tr th:only-of-type {\n",
              "        vertical-align: middle;\n",
              "    }\n",
              "\n",
              "    .dataframe tbody tr th {\n",
              "        vertical-align: top;\n",
              "    }\n",
              "\n",
              "    .dataframe thead th {\n",
              "        text-align: right;\n",
              "    }\n",
              "</style>\n",
              "<table border=\"1\" class=\"dataframe\">\n",
              "  <thead>\n",
              "    <tr style=\"text-align: right;\">\n",
              "      <th></th>\n",
              "      <th>filename</th>\n",
              "      <th>label</th>\n",
              "    </tr>\n",
              "  </thead>\n",
              "  <tbody>\n",
              "    <tr>\n",
              "      <th>395</th>\n",
              "      <td>drive/My Drive/COVID_19_Dataset/COVIDx CXR-2 K...</td>\n",
              "      <td>negative</td>\n",
              "    </tr>\n",
              "    <tr>\n",
              "      <th>396</th>\n",
              "      <td>drive/My Drive/COVID_19_Dataset/COVIDx CXR-2 K...</td>\n",
              "      <td>negative</td>\n",
              "    </tr>\n",
              "    <tr>\n",
              "      <th>397</th>\n",
              "      <td>drive/My Drive/COVID_19_Dataset/COVIDx CXR-2 K...</td>\n",
              "      <td>negative</td>\n",
              "    </tr>\n",
              "    <tr>\n",
              "      <th>398</th>\n",
              "      <td>drive/My Drive/COVID_19_Dataset/COVIDx CXR-2 K...</td>\n",
              "      <td>negative</td>\n",
              "    </tr>\n",
              "    <tr>\n",
              "      <th>399</th>\n",
              "      <td>drive/My Drive/COVID_19_Dataset/COVIDx CXR-2 K...</td>\n",
              "      <td>negative</td>\n",
              "    </tr>\n",
              "  </tbody>\n",
              "</table>\n",
              "</div>"
            ],
            "text/plain": [
              "                                              filename     label\n",
              "395  drive/My Drive/COVID_19_Dataset/COVIDx CXR-2 K...  negative\n",
              "396  drive/My Drive/COVID_19_Dataset/COVIDx CXR-2 K...  negative\n",
              "397  drive/My Drive/COVID_19_Dataset/COVIDx CXR-2 K...  negative\n",
              "398  drive/My Drive/COVID_19_Dataset/COVIDx CXR-2 K...  negative\n",
              "399  drive/My Drive/COVID_19_Dataset/COVIDx CXR-2 K...  negative"
            ]
          },
          "metadata": {
            "tags": []
          },
          "execution_count": 7
        }
      ]
    },
    {
      "cell_type": "code",
      "metadata": {
        "id": "jpJX-a3R61HH"
      },
      "source": [
        ""
      ],
      "execution_count": 7,
      "outputs": []
    },
    {
      "cell_type": "code",
      "metadata": {
        "id": "LLy6y_e1yQhC"
      },
      "source": [
        "Dataset_Name = \"COVIDx_CXR_2_Kaggle\"\n",
        "work_dir = \"drive/My Drive/COVID_19_Dataset/Records/\"\n",
        "\n",
        "color_type = 'rgb' # rgb, grayscale"
      ],
      "execution_count": 8,
      "outputs": []
    },
    {
      "cell_type": "code",
      "metadata": {
        "id": "LnYytOrbKGMH"
      },
      "source": [
        "train_datagen = ImageDataGenerator(rescale=1./255)\n",
        "test_datagen = ImageDataGenerator(rescale=1./255)"
      ],
      "execution_count": 9,
      "outputs": []
    },
    {
      "cell_type": "code",
      "metadata": {
        "id": "3mgmPRJEKk3r"
      },
      "source": [
        "BATCH_SIZE = 16"
      ],
      "execution_count": 10,
      "outputs": []
    },
    {
      "cell_type": "code",
      "metadata": {
        "id": "qG4nma2UP_F0"
      },
      "source": [
        ""
      ],
      "execution_count": 10,
      "outputs": []
    },
    {
      "cell_type": "code",
      "metadata": {
        "colab": {
          "base_uri": "https://localhost:8080/"
        },
        "id": "rga2byZPKPQt",
        "outputId": "7189b72b-ca08-43de-f9ef-e931902048bc"
      },
      "source": [
        "train_generator = train_datagen.flow_from_dataframe(\n",
        "        train_df,\n",
        "        directory=None,\n",
        "        x_col='filename', \n",
        "        y_col='label',\n",
        "        #target_size=(800, 804),  # target images are automatically resized to (256, 256)\n",
        "        batch_size=BATCH_SIZE,\n",
        "        shuffle = True,\n",
        "        color_mode=color_type, # grayscale, rgb\n",
        "        class_mode='categorical')"
      ],
      "execution_count": 11,
      "outputs": [
        {
          "output_type": "stream",
          "text": [
            "Found 15951 validated image filenames belonging to 2 classes.\n"
          ],
          "name": "stdout"
        }
      ]
    },
    {
      "cell_type": "code",
      "metadata": {
        "colab": {
          "base_uri": "https://localhost:8080/"
        },
        "id": "uwy6M8sgK1KT",
        "outputId": "d0e7fa13-3a1a-45a2-afe6-4a875a9ec32d"
      },
      "source": [
        "num_classes = len(train_generator.class_indices)\n",
        "total_train_data = train_generator.samples\n",
        "\n",
        "print(f\"total_train_data = {total_train_data}\")\n",
        "print(f\"train_generator.image_shape = {train_generator.image_shape}\")\n",
        "print(f\"num_classes = {num_classes}\")"
      ],
      "execution_count": 12,
      "outputs": [
        {
          "output_type": "stream",
          "text": [
            "total_train_data = 15951\n",
            "train_generator.image_shape = (256, 256, 3)\n",
            "num_classes = 2\n"
          ],
          "name": "stdout"
        }
      ]
    },
    {
      "cell_type": "code",
      "metadata": {
        "colab": {
          "base_uri": "https://localhost:8080/"
        },
        "id": "YsvrZgrALXMl",
        "outputId": "a59e6f53-06de-4732-ca5a-52005a0f8883"
      },
      "source": [
        "test_generator = test_datagen.flow_from_dataframe(\n",
        "        test_df,\n",
        "        directory=None,\n",
        "        x_col='filename', \n",
        "        y_col='label',\n",
        "        #target_size=(800, 804),  # target images are automatically resized to (256, 256)\n",
        "        batch_size=BATCH_SIZE,\n",
        "        shuffle = False,\n",
        "        color_mode=color_type, # grayscale, rgb\n",
        "        class_mode='categorical')"
      ],
      "execution_count": 13,
      "outputs": [
        {
          "output_type": "stream",
          "text": [
            "Found 400 validated image filenames belonging to 2 classes.\n"
          ],
          "name": "stdout"
        }
      ]
    },
    {
      "cell_type": "code",
      "metadata": {
        "colab": {
          "base_uri": "https://localhost:8080/"
        },
        "id": "HxU0D6TuOOOL",
        "outputId": "a950121f-7429-4805-9171-dbfd3b26d980"
      },
      "source": [
        "total_test_data = test_generator.samples\n",
        "print(f\"total_test_data = {total_test_data}\")"
      ],
      "execution_count": 14,
      "outputs": [
        {
          "output_type": "stream",
          "text": [
            "total_test_data = 400\n"
          ],
          "name": "stdout"
        }
      ]
    },
    {
      "cell_type": "code",
      "metadata": {
        "id": "roidu5RmFRJq"
      },
      "source": [
        ""
      ],
      "execution_count": 14,
      "outputs": []
    },
    {
      "cell_type": "code",
      "metadata": {
        "id": "XRwynF9xPBWy",
        "colab": {
          "base_uri": "https://localhost:8080/",
          "height": 36
        },
        "outputId": "d0e9ded7-4435-4004-c187-e4ac2d7405b1"
      },
      "source": [
        "# DenseNet121 ResNet101 ResNet50 DenseNet201 InceptionV3 Xception NASNetLarge ResNet152V2 InceptionResNetV2 EfficientNetB7\n",
        "impl_type = \"TransferLearning3D.DenseNet201\" # TransferLearning3D \n",
        "dataset = f\"{Dataset_Name}.{color_type}.{train_generator.image_shape[:2]}.DataFlow\" # +str(img_size)+\"p\"\n",
        "dataset"
      ],
      "execution_count": 15,
      "outputs": [
        {
          "output_type": "execute_result",
          "data": {
            "application/vnd.google.colaboratory.intrinsic+json": {
              "type": "string"
            },
            "text/plain": [
              "'COVIDx_CXR_2_Kaggle.rgb.(256, 256).DataFlow'"
            ]
          },
          "metadata": {
            "tags": []
          },
          "execution_count": 15
        }
      ]
    },
    {
      "cell_type": "code",
      "metadata": {
        "id": "rLVsewD-O3gl",
        "colab": {
          "base_uri": "https://localhost:8080/",
          "height": 36
        },
        "outputId": "d5e5d307-7db1-4fc6-a3fc-15701e28c965"
      },
      "source": [
        "'''\n",
        "count_no_improvement = 0\n",
        "epoch_initial = True\n",
        "#'''"
      ],
      "execution_count": 16,
      "outputs": [
        {
          "output_type": "execute_result",
          "data": {
            "application/vnd.google.colaboratory.intrinsic+json": {
              "type": "string"
            },
            "text/plain": [
              "'\\ncount_no_improvement = 0\\nepoch_initial = True\\n#'"
            ]
          },
          "metadata": {
            "tags": []
          },
          "execution_count": 16
        }
      ]
    },
    {
      "cell_type": "code",
      "metadata": {
        "colab": {
          "base_uri": "https://localhost:8080/"
        },
        "id": "OxppPm7hO3l8",
        "outputId": "820a0927-fcc9-47b7-c19e-e06d166e35b2"
      },
      "source": [
        "#NUM_NEURONS = 16\n",
        "#NUM_LAYERS = 3\n",
        "#BATCH_SIZE = 16 # 10\n",
        "NUM_EPOCHS = 300\n",
        "epochs_completed = 0\n",
        "LEARNING_RATE = 0.00001\n",
        "EPSILON = 1e-4\n",
        "early_stop_after_epochs = 5\n",
        "DROPOUT = 0.5 # 0.5 0.0\n",
        "pad = 0\n",
        "\n",
        "LOSS = 'categorical_crossentropy'\n",
        "ACTIVATION_FUNCTION = 'elu' # relu sigmoid elu\n",
        "FINAL_ACTIVATION_FUNCTION = 'softmax'\n",
        "validation_split = 0.1\n",
        "kernel_size=(1,1)\n",
        "pointTrainableAfter = \"allDefault\" # \"allDefault\" 160 170\n",
        "OPTIMIZER = \"Adam\" # Adam SGD RMSProp\n",
        "init_weights = \"imagenet\" # \"imagenet\" None\n",
        "modelExt = \".Dense.1024.1024.2048\" # .Dense.128.256.512, .512.512.512 .Dense.512.512.512.512.Res\n",
        "l2_val = 0.001\n",
        "\n",
        "# +\"_kernel\"+str(kernel_size)+\"_lr\"+str(LEARNING_RATE)+\"_batch\"+str(BATCH_SIZE)+\"_epochs\"+str(NUM_EPOCHS)\n",
        "#checkpointer_name  = \"weights_\"+dataset+\"_\"+impl_type+\"_nLayers\"+str(NUM_LAYERS)+\"_nNeurons\"+str(NUM_NEURONS)+\".hdf5\"\n",
        "ext = f\".Flatten.l2.{str(l2_val)}.run_1\" # run_1 run_2 .DropAfter .momentum0.9\n",
        "#'''\n",
        "checkpointer_name  = \"weights.\"+dataset+\".pad\"+str(pad)+\".\"+impl_type+\".wInit.\"+str(init_weights)+\".TrainableAfter.\"+str(pointTrainableAfter)+\\\n",
        "                     modelExt+\".actF.\"+ACTIVATION_FUNCTION+\".opt.\"+OPTIMIZER+\".drop.\"+str(DROPOUT)+\".batch\"+str(BATCH_SIZE)+ext+\".hdf5\"\n",
        "log_name = \"log.\"+checkpointer_name[8:-5]+\".log\"\n",
        "\n",
        "print('checkpointer_name =', checkpointer_name)\n",
        "print('log_name =', log_name)\n",
        "#'''"
      ],
      "execution_count": 17,
      "outputs": [
        {
          "output_type": "stream",
          "text": [
            "checkpointer_name = weights.COVIDx_CXR_2_Kaggle.rgb.(256, 256).DataFlow.pad0.TransferLearning3D.DenseNet201.wInit.imagenet.TrainableAfter.allDefault.Dense.1024.1024.2048.actF.elu.opt.Adam.drop.0.5.batch16.Flatten.l2.0.001.run_1.hdf5\n",
            "log_name = log.COVIDx_CXR_2_Kaggle.rgb.(256, 256).DataFlow.pad0.TransferLearning3D.DenseNet201.wInit.imagenet.TrainableAfter.allDefault.Dense.1024.1024.2048.actF.elu.opt.Adam.drop.0.5.batch16.Flatten.l2.0.001.run_1.log\n"
          ],
          "name": "stdout"
        }
      ]
    },
    {
      "cell_type": "code",
      "metadata": {
        "colab": {
          "base_uri": "https://localhost:8080/"
        },
        "id": "hcB3WVaWO6BV",
        "outputId": "07fe4c09-3121-4161-c75b-9773fc8f2cd5"
      },
      "source": [
        "train_generator.image_shape"
      ],
      "execution_count": 18,
      "outputs": [
        {
          "output_type": "execute_result",
          "data": {
            "text/plain": [
              "(256, 256, 3)"
            ]
          },
          "metadata": {
            "tags": []
          },
          "execution_count": 18
        }
      ]
    },
    {
      "cell_type": "code",
      "metadata": {
        "colab": {
          "base_uri": "https://localhost:8080/"
        },
        "id": "XyK6ZbJOOsjV",
        "outputId": "d5bebbb8-e89d-4f4b-d6a1-53c97870147f"
      },
      "source": [
        "#'''\n",
        "#base_model=DenseNet121(weights=None, include_top=False, input_shape=np_train_dataset2.shape[1:]) # `None` (random initialization)\n",
        "#base_model=ResNet152V2(weights=None, include_top=False, input_shape=np_train_dataset2.shape[1:])\n",
        "# ResNet152V2 ResNet50 ResNet101 ResNet152 DenseNet201 InceptionV3 Xception NASNetLarge 'imagenet' ResNet152V2 DenseNet121\n",
        "#inputs = Input(final_train_imageset.shape[1:])\n",
        "#x = ZeroPadding2D(padding=(pad,pad))(inputs)\n",
        "#base_model=tf.keras.applications.ResNet50(weights=init_weights, include_top=False, input_tensor=x)\n",
        "base_model=tf.keras.applications.DenseNet201(weights=init_weights, include_top=False, input_shape=train_generator.image_shape)\n",
        "x=base_model.output\n",
        "\n",
        "x = Flatten()(x)\n",
        "\n",
        "#'''\n",
        "x = Dense(1024, kernel_regularizer=tf.keras.regularizers.l2(l2_val), activation=ACTIVATION_FUNCTION)(x)\n",
        "#x_copy = x\n",
        "x = Dropout(DROPOUT)(x)\n",
        "x = Dense(1024, kernel_regularizer=tf.keras.regularizers.l2(l2_val), activation=ACTIVATION_FUNCTION)(x)\n",
        "x = Dropout(DROPOUT)(x)\n",
        "x = Dense(2048, kernel_regularizer=tf.keras.regularizers.l2(l2_val), activation=ACTIVATION_FUNCTION)(x)\n",
        "x = Dropout(DROPOUT)(x)\n",
        "#x = Add()([x,x_copy])\n",
        "#'''\n",
        "outputs=Dense(num_classes,activation='softmax')(x)\n",
        "\n",
        "model=Model(inputs=base_model.input,outputs=outputs)\n",
        "model.summary()\n",
        "#'''"
      ],
      "execution_count": 19,
      "outputs": [
        {
          "output_type": "stream",
          "text": [
            "Downloading data from https://storage.googleapis.com/tensorflow/keras-applications/densenet/densenet201_weights_tf_dim_ordering_tf_kernels_notop.h5\n",
            "74842112/74836368 [==============================] - 0s 0us/step\n",
            "Model: \"model\"\n",
            "__________________________________________________________________________________________________\n",
            "Layer (type)                    Output Shape         Param #     Connected to                     \n",
            "==================================================================================================\n",
            "input_1 (InputLayer)            [(None, 256, 256, 3) 0                                            \n",
            "__________________________________________________________________________________________________\n",
            "zero_padding2d (ZeroPadding2D)  (None, 262, 262, 3)  0           input_1[0][0]                    \n",
            "__________________________________________________________________________________________________\n",
            "conv1/conv (Conv2D)             (None, 128, 128, 64) 9408        zero_padding2d[0][0]             \n",
            "__________________________________________________________________________________________________\n",
            "conv1/bn (BatchNormalization)   (None, 128, 128, 64) 256         conv1/conv[0][0]                 \n",
            "__________________________________________________________________________________________________\n",
            "conv1/relu (Activation)         (None, 128, 128, 64) 0           conv1/bn[0][0]                   \n",
            "__________________________________________________________________________________________________\n",
            "zero_padding2d_1 (ZeroPadding2D (None, 130, 130, 64) 0           conv1/relu[0][0]                 \n",
            "__________________________________________________________________________________________________\n",
            "pool1 (MaxPooling2D)            (None, 64, 64, 64)   0           zero_padding2d_1[0][0]           \n",
            "__________________________________________________________________________________________________\n",
            "conv2_block1_0_bn (BatchNormali (None, 64, 64, 64)   256         pool1[0][0]                      \n",
            "__________________________________________________________________________________________________\n",
            "conv2_block1_0_relu (Activation (None, 64, 64, 64)   0           conv2_block1_0_bn[0][0]          \n",
            "__________________________________________________________________________________________________\n",
            "conv2_block1_1_conv (Conv2D)    (None, 64, 64, 128)  8192        conv2_block1_0_relu[0][0]        \n",
            "__________________________________________________________________________________________________\n",
            "conv2_block1_1_bn (BatchNormali (None, 64, 64, 128)  512         conv2_block1_1_conv[0][0]        \n",
            "__________________________________________________________________________________________________\n",
            "conv2_block1_1_relu (Activation (None, 64, 64, 128)  0           conv2_block1_1_bn[0][0]          \n",
            "__________________________________________________________________________________________________\n",
            "conv2_block1_2_conv (Conv2D)    (None, 64, 64, 32)   36864       conv2_block1_1_relu[0][0]        \n",
            "__________________________________________________________________________________________________\n",
            "conv2_block1_concat (Concatenat (None, 64, 64, 96)   0           pool1[0][0]                      \n",
            "                                                                 conv2_block1_2_conv[0][0]        \n",
            "__________________________________________________________________________________________________\n",
            "conv2_block2_0_bn (BatchNormali (None, 64, 64, 96)   384         conv2_block1_concat[0][0]        \n",
            "__________________________________________________________________________________________________\n",
            "conv2_block2_0_relu (Activation (None, 64, 64, 96)   0           conv2_block2_0_bn[0][0]          \n",
            "__________________________________________________________________________________________________\n",
            "conv2_block2_1_conv (Conv2D)    (None, 64, 64, 128)  12288       conv2_block2_0_relu[0][0]        \n",
            "__________________________________________________________________________________________________\n",
            "conv2_block2_1_bn (BatchNormali (None, 64, 64, 128)  512         conv2_block2_1_conv[0][0]        \n",
            "__________________________________________________________________________________________________\n",
            "conv2_block2_1_relu (Activation (None, 64, 64, 128)  0           conv2_block2_1_bn[0][0]          \n",
            "__________________________________________________________________________________________________\n",
            "conv2_block2_2_conv (Conv2D)    (None, 64, 64, 32)   36864       conv2_block2_1_relu[0][0]        \n",
            "__________________________________________________________________________________________________\n",
            "conv2_block2_concat (Concatenat (None, 64, 64, 128)  0           conv2_block1_concat[0][0]        \n",
            "                                                                 conv2_block2_2_conv[0][0]        \n",
            "__________________________________________________________________________________________________\n",
            "conv2_block3_0_bn (BatchNormali (None, 64, 64, 128)  512         conv2_block2_concat[0][0]        \n",
            "__________________________________________________________________________________________________\n",
            "conv2_block3_0_relu (Activation (None, 64, 64, 128)  0           conv2_block3_0_bn[0][0]          \n",
            "__________________________________________________________________________________________________\n",
            "conv2_block3_1_conv (Conv2D)    (None, 64, 64, 128)  16384       conv2_block3_0_relu[0][0]        \n",
            "__________________________________________________________________________________________________\n",
            "conv2_block3_1_bn (BatchNormali (None, 64, 64, 128)  512         conv2_block3_1_conv[0][0]        \n",
            "__________________________________________________________________________________________________\n",
            "conv2_block3_1_relu (Activation (None, 64, 64, 128)  0           conv2_block3_1_bn[0][0]          \n",
            "__________________________________________________________________________________________________\n",
            "conv2_block3_2_conv (Conv2D)    (None, 64, 64, 32)   36864       conv2_block3_1_relu[0][0]        \n",
            "__________________________________________________________________________________________________\n",
            "conv2_block3_concat (Concatenat (None, 64, 64, 160)  0           conv2_block2_concat[0][0]        \n",
            "                                                                 conv2_block3_2_conv[0][0]        \n",
            "__________________________________________________________________________________________________\n",
            "conv2_block4_0_bn (BatchNormali (None, 64, 64, 160)  640         conv2_block3_concat[0][0]        \n",
            "__________________________________________________________________________________________________\n",
            "conv2_block4_0_relu (Activation (None, 64, 64, 160)  0           conv2_block4_0_bn[0][0]          \n",
            "__________________________________________________________________________________________________\n",
            "conv2_block4_1_conv (Conv2D)    (None, 64, 64, 128)  20480       conv2_block4_0_relu[0][0]        \n",
            "__________________________________________________________________________________________________\n",
            "conv2_block4_1_bn (BatchNormali (None, 64, 64, 128)  512         conv2_block4_1_conv[0][0]        \n",
            "__________________________________________________________________________________________________\n",
            "conv2_block4_1_relu (Activation (None, 64, 64, 128)  0           conv2_block4_1_bn[0][0]          \n",
            "__________________________________________________________________________________________________\n",
            "conv2_block4_2_conv (Conv2D)    (None, 64, 64, 32)   36864       conv2_block4_1_relu[0][0]        \n",
            "__________________________________________________________________________________________________\n",
            "conv2_block4_concat (Concatenat (None, 64, 64, 192)  0           conv2_block3_concat[0][0]        \n",
            "                                                                 conv2_block4_2_conv[0][0]        \n",
            "__________________________________________________________________________________________________\n",
            "conv2_block5_0_bn (BatchNormali (None, 64, 64, 192)  768         conv2_block4_concat[0][0]        \n",
            "__________________________________________________________________________________________________\n",
            "conv2_block5_0_relu (Activation (None, 64, 64, 192)  0           conv2_block5_0_bn[0][0]          \n",
            "__________________________________________________________________________________________________\n",
            "conv2_block5_1_conv (Conv2D)    (None, 64, 64, 128)  24576       conv2_block5_0_relu[0][0]        \n",
            "__________________________________________________________________________________________________\n",
            "conv2_block5_1_bn (BatchNormali (None, 64, 64, 128)  512         conv2_block5_1_conv[0][0]        \n",
            "__________________________________________________________________________________________________\n",
            "conv2_block5_1_relu (Activation (None, 64, 64, 128)  0           conv2_block5_1_bn[0][0]          \n",
            "__________________________________________________________________________________________________\n",
            "conv2_block5_2_conv (Conv2D)    (None, 64, 64, 32)   36864       conv2_block5_1_relu[0][0]        \n",
            "__________________________________________________________________________________________________\n",
            "conv2_block5_concat (Concatenat (None, 64, 64, 224)  0           conv2_block4_concat[0][0]        \n",
            "                                                                 conv2_block5_2_conv[0][0]        \n",
            "__________________________________________________________________________________________________\n",
            "conv2_block6_0_bn (BatchNormali (None, 64, 64, 224)  896         conv2_block5_concat[0][0]        \n",
            "__________________________________________________________________________________________________\n",
            "conv2_block6_0_relu (Activation (None, 64, 64, 224)  0           conv2_block6_0_bn[0][0]          \n",
            "__________________________________________________________________________________________________\n",
            "conv2_block6_1_conv (Conv2D)    (None, 64, 64, 128)  28672       conv2_block6_0_relu[0][0]        \n",
            "__________________________________________________________________________________________________\n",
            "conv2_block6_1_bn (BatchNormali (None, 64, 64, 128)  512         conv2_block6_1_conv[0][0]        \n",
            "__________________________________________________________________________________________________\n",
            "conv2_block6_1_relu (Activation (None, 64, 64, 128)  0           conv2_block6_1_bn[0][0]          \n",
            "__________________________________________________________________________________________________\n",
            "conv2_block6_2_conv (Conv2D)    (None, 64, 64, 32)   36864       conv2_block6_1_relu[0][0]        \n",
            "__________________________________________________________________________________________________\n",
            "conv2_block6_concat (Concatenat (None, 64, 64, 256)  0           conv2_block5_concat[0][0]        \n",
            "                                                                 conv2_block6_2_conv[0][0]        \n",
            "__________________________________________________________________________________________________\n",
            "pool2_bn (BatchNormalization)   (None, 64, 64, 256)  1024        conv2_block6_concat[0][0]        \n",
            "__________________________________________________________________________________________________\n",
            "pool2_relu (Activation)         (None, 64, 64, 256)  0           pool2_bn[0][0]                   \n",
            "__________________________________________________________________________________________________\n",
            "pool2_conv (Conv2D)             (None, 64, 64, 128)  32768       pool2_relu[0][0]                 \n",
            "__________________________________________________________________________________________________\n",
            "pool2_pool (AveragePooling2D)   (None, 32, 32, 128)  0           pool2_conv[0][0]                 \n",
            "__________________________________________________________________________________________________\n",
            "conv3_block1_0_bn (BatchNormali (None, 32, 32, 128)  512         pool2_pool[0][0]                 \n",
            "__________________________________________________________________________________________________\n",
            "conv3_block1_0_relu (Activation (None, 32, 32, 128)  0           conv3_block1_0_bn[0][0]          \n",
            "__________________________________________________________________________________________________\n",
            "conv3_block1_1_conv (Conv2D)    (None, 32, 32, 128)  16384       conv3_block1_0_relu[0][0]        \n",
            "__________________________________________________________________________________________________\n",
            "conv3_block1_1_bn (BatchNormali (None, 32, 32, 128)  512         conv3_block1_1_conv[0][0]        \n",
            "__________________________________________________________________________________________________\n",
            "conv3_block1_1_relu (Activation (None, 32, 32, 128)  0           conv3_block1_1_bn[0][0]          \n",
            "__________________________________________________________________________________________________\n",
            "conv3_block1_2_conv (Conv2D)    (None, 32, 32, 32)   36864       conv3_block1_1_relu[0][0]        \n",
            "__________________________________________________________________________________________________\n",
            "conv3_block1_concat (Concatenat (None, 32, 32, 160)  0           pool2_pool[0][0]                 \n",
            "                                                                 conv3_block1_2_conv[0][0]        \n",
            "__________________________________________________________________________________________________\n",
            "conv3_block2_0_bn (BatchNormali (None, 32, 32, 160)  640         conv3_block1_concat[0][0]        \n",
            "__________________________________________________________________________________________________\n",
            "conv3_block2_0_relu (Activation (None, 32, 32, 160)  0           conv3_block2_0_bn[0][0]          \n",
            "__________________________________________________________________________________________________\n",
            "conv3_block2_1_conv (Conv2D)    (None, 32, 32, 128)  20480       conv3_block2_0_relu[0][0]        \n",
            "__________________________________________________________________________________________________\n",
            "conv3_block2_1_bn (BatchNormali (None, 32, 32, 128)  512         conv3_block2_1_conv[0][0]        \n",
            "__________________________________________________________________________________________________\n",
            "conv3_block2_1_relu (Activation (None, 32, 32, 128)  0           conv3_block2_1_bn[0][0]          \n",
            "__________________________________________________________________________________________________\n",
            "conv3_block2_2_conv (Conv2D)    (None, 32, 32, 32)   36864       conv3_block2_1_relu[0][0]        \n",
            "__________________________________________________________________________________________________\n",
            "conv3_block2_concat (Concatenat (None, 32, 32, 192)  0           conv3_block1_concat[0][0]        \n",
            "                                                                 conv3_block2_2_conv[0][0]        \n",
            "__________________________________________________________________________________________________\n",
            "conv3_block3_0_bn (BatchNormali (None, 32, 32, 192)  768         conv3_block2_concat[0][0]        \n",
            "__________________________________________________________________________________________________\n",
            "conv3_block3_0_relu (Activation (None, 32, 32, 192)  0           conv3_block3_0_bn[0][0]          \n",
            "__________________________________________________________________________________________________\n",
            "conv3_block3_1_conv (Conv2D)    (None, 32, 32, 128)  24576       conv3_block3_0_relu[0][0]        \n",
            "__________________________________________________________________________________________________\n",
            "conv3_block3_1_bn (BatchNormali (None, 32, 32, 128)  512         conv3_block3_1_conv[0][0]        \n",
            "__________________________________________________________________________________________________\n",
            "conv3_block3_1_relu (Activation (None, 32, 32, 128)  0           conv3_block3_1_bn[0][0]          \n",
            "__________________________________________________________________________________________________\n",
            "conv3_block3_2_conv (Conv2D)    (None, 32, 32, 32)   36864       conv3_block3_1_relu[0][0]        \n",
            "__________________________________________________________________________________________________\n",
            "conv3_block3_concat (Concatenat (None, 32, 32, 224)  0           conv3_block2_concat[0][0]        \n",
            "                                                                 conv3_block3_2_conv[0][0]        \n",
            "__________________________________________________________________________________________________\n",
            "conv3_block4_0_bn (BatchNormali (None, 32, 32, 224)  896         conv3_block3_concat[0][0]        \n",
            "__________________________________________________________________________________________________\n",
            "conv3_block4_0_relu (Activation (None, 32, 32, 224)  0           conv3_block4_0_bn[0][0]          \n",
            "__________________________________________________________________________________________________\n",
            "conv3_block4_1_conv (Conv2D)    (None, 32, 32, 128)  28672       conv3_block4_0_relu[0][0]        \n",
            "__________________________________________________________________________________________________\n",
            "conv3_block4_1_bn (BatchNormali (None, 32, 32, 128)  512         conv3_block4_1_conv[0][0]        \n",
            "__________________________________________________________________________________________________\n",
            "conv3_block4_1_relu (Activation (None, 32, 32, 128)  0           conv3_block4_1_bn[0][0]          \n",
            "__________________________________________________________________________________________________\n",
            "conv3_block4_2_conv (Conv2D)    (None, 32, 32, 32)   36864       conv3_block4_1_relu[0][0]        \n",
            "__________________________________________________________________________________________________\n",
            "conv3_block4_concat (Concatenat (None, 32, 32, 256)  0           conv3_block3_concat[0][0]        \n",
            "                                                                 conv3_block4_2_conv[0][0]        \n",
            "__________________________________________________________________________________________________\n",
            "conv3_block5_0_bn (BatchNormali (None, 32, 32, 256)  1024        conv3_block4_concat[0][0]        \n",
            "__________________________________________________________________________________________________\n",
            "conv3_block5_0_relu (Activation (None, 32, 32, 256)  0           conv3_block5_0_bn[0][0]          \n",
            "__________________________________________________________________________________________________\n",
            "conv3_block5_1_conv (Conv2D)    (None, 32, 32, 128)  32768       conv3_block5_0_relu[0][0]        \n",
            "__________________________________________________________________________________________________\n",
            "conv3_block5_1_bn (BatchNormali (None, 32, 32, 128)  512         conv3_block5_1_conv[0][0]        \n",
            "__________________________________________________________________________________________________\n",
            "conv3_block5_1_relu (Activation (None, 32, 32, 128)  0           conv3_block5_1_bn[0][0]          \n",
            "__________________________________________________________________________________________________\n",
            "conv3_block5_2_conv (Conv2D)    (None, 32, 32, 32)   36864       conv3_block5_1_relu[0][0]        \n",
            "__________________________________________________________________________________________________\n",
            "conv3_block5_concat (Concatenat (None, 32, 32, 288)  0           conv3_block4_concat[0][0]        \n",
            "                                                                 conv3_block5_2_conv[0][0]        \n",
            "__________________________________________________________________________________________________\n",
            "conv3_block6_0_bn (BatchNormali (None, 32, 32, 288)  1152        conv3_block5_concat[0][0]        \n",
            "__________________________________________________________________________________________________\n",
            "conv3_block6_0_relu (Activation (None, 32, 32, 288)  0           conv3_block6_0_bn[0][0]          \n",
            "__________________________________________________________________________________________________\n",
            "conv3_block6_1_conv (Conv2D)    (None, 32, 32, 128)  36864       conv3_block6_0_relu[0][0]        \n",
            "__________________________________________________________________________________________________\n",
            "conv3_block6_1_bn (BatchNormali (None, 32, 32, 128)  512         conv3_block6_1_conv[0][0]        \n",
            "__________________________________________________________________________________________________\n",
            "conv3_block6_1_relu (Activation (None, 32, 32, 128)  0           conv3_block6_1_bn[0][0]          \n",
            "__________________________________________________________________________________________________\n",
            "conv3_block6_2_conv (Conv2D)    (None, 32, 32, 32)   36864       conv3_block6_1_relu[0][0]        \n",
            "__________________________________________________________________________________________________\n",
            "conv3_block6_concat (Concatenat (None, 32, 32, 320)  0           conv3_block5_concat[0][0]        \n",
            "                                                                 conv3_block6_2_conv[0][0]        \n",
            "__________________________________________________________________________________________________\n",
            "conv3_block7_0_bn (BatchNormali (None, 32, 32, 320)  1280        conv3_block6_concat[0][0]        \n",
            "__________________________________________________________________________________________________\n",
            "conv3_block7_0_relu (Activation (None, 32, 32, 320)  0           conv3_block7_0_bn[0][0]          \n",
            "__________________________________________________________________________________________________\n",
            "conv3_block7_1_conv (Conv2D)    (None, 32, 32, 128)  40960       conv3_block7_0_relu[0][0]        \n",
            "__________________________________________________________________________________________________\n",
            "conv3_block7_1_bn (BatchNormali (None, 32, 32, 128)  512         conv3_block7_1_conv[0][0]        \n",
            "__________________________________________________________________________________________________\n",
            "conv3_block7_1_relu (Activation (None, 32, 32, 128)  0           conv3_block7_1_bn[0][0]          \n",
            "__________________________________________________________________________________________________\n",
            "conv3_block7_2_conv (Conv2D)    (None, 32, 32, 32)   36864       conv3_block7_1_relu[0][0]        \n",
            "__________________________________________________________________________________________________\n",
            "conv3_block7_concat (Concatenat (None, 32, 32, 352)  0           conv3_block6_concat[0][0]        \n",
            "                                                                 conv3_block7_2_conv[0][0]        \n",
            "__________________________________________________________________________________________________\n",
            "conv3_block8_0_bn (BatchNormali (None, 32, 32, 352)  1408        conv3_block7_concat[0][0]        \n",
            "__________________________________________________________________________________________________\n",
            "conv3_block8_0_relu (Activation (None, 32, 32, 352)  0           conv3_block8_0_bn[0][0]          \n",
            "__________________________________________________________________________________________________\n",
            "conv3_block8_1_conv (Conv2D)    (None, 32, 32, 128)  45056       conv3_block8_0_relu[0][0]        \n",
            "__________________________________________________________________________________________________\n",
            "conv3_block8_1_bn (BatchNormali (None, 32, 32, 128)  512         conv3_block8_1_conv[0][0]        \n",
            "__________________________________________________________________________________________________\n",
            "conv3_block8_1_relu (Activation (None, 32, 32, 128)  0           conv3_block8_1_bn[0][0]          \n",
            "__________________________________________________________________________________________________\n",
            "conv3_block8_2_conv (Conv2D)    (None, 32, 32, 32)   36864       conv3_block8_1_relu[0][0]        \n",
            "__________________________________________________________________________________________________\n",
            "conv3_block8_concat (Concatenat (None, 32, 32, 384)  0           conv3_block7_concat[0][0]        \n",
            "                                                                 conv3_block8_2_conv[0][0]        \n",
            "__________________________________________________________________________________________________\n",
            "conv3_block9_0_bn (BatchNormali (None, 32, 32, 384)  1536        conv3_block8_concat[0][0]        \n",
            "__________________________________________________________________________________________________\n",
            "conv3_block9_0_relu (Activation (None, 32, 32, 384)  0           conv3_block9_0_bn[0][0]          \n",
            "__________________________________________________________________________________________________\n",
            "conv3_block9_1_conv (Conv2D)    (None, 32, 32, 128)  49152       conv3_block9_0_relu[0][0]        \n",
            "__________________________________________________________________________________________________\n",
            "conv3_block9_1_bn (BatchNormali (None, 32, 32, 128)  512         conv3_block9_1_conv[0][0]        \n",
            "__________________________________________________________________________________________________\n",
            "conv3_block9_1_relu (Activation (None, 32, 32, 128)  0           conv3_block9_1_bn[0][0]          \n",
            "__________________________________________________________________________________________________\n",
            "conv3_block9_2_conv (Conv2D)    (None, 32, 32, 32)   36864       conv3_block9_1_relu[0][0]        \n",
            "__________________________________________________________________________________________________\n",
            "conv3_block9_concat (Concatenat (None, 32, 32, 416)  0           conv3_block8_concat[0][0]        \n",
            "                                                                 conv3_block9_2_conv[0][0]        \n",
            "__________________________________________________________________________________________________\n",
            "conv3_block10_0_bn (BatchNormal (None, 32, 32, 416)  1664        conv3_block9_concat[0][0]        \n",
            "__________________________________________________________________________________________________\n",
            "conv3_block10_0_relu (Activatio (None, 32, 32, 416)  0           conv3_block10_0_bn[0][0]         \n",
            "__________________________________________________________________________________________________\n",
            "conv3_block10_1_conv (Conv2D)   (None, 32, 32, 128)  53248       conv3_block10_0_relu[0][0]       \n",
            "__________________________________________________________________________________________________\n",
            "conv3_block10_1_bn (BatchNormal (None, 32, 32, 128)  512         conv3_block10_1_conv[0][0]       \n",
            "__________________________________________________________________________________________________\n",
            "conv3_block10_1_relu (Activatio (None, 32, 32, 128)  0           conv3_block10_1_bn[0][0]         \n",
            "__________________________________________________________________________________________________\n",
            "conv3_block10_2_conv (Conv2D)   (None, 32, 32, 32)   36864       conv3_block10_1_relu[0][0]       \n",
            "__________________________________________________________________________________________________\n",
            "conv3_block10_concat (Concatena (None, 32, 32, 448)  0           conv3_block9_concat[0][0]        \n",
            "                                                                 conv3_block10_2_conv[0][0]       \n",
            "__________________________________________________________________________________________________\n",
            "conv3_block11_0_bn (BatchNormal (None, 32, 32, 448)  1792        conv3_block10_concat[0][0]       \n",
            "__________________________________________________________________________________________________\n",
            "conv3_block11_0_relu (Activatio (None, 32, 32, 448)  0           conv3_block11_0_bn[0][0]         \n",
            "__________________________________________________________________________________________________\n",
            "conv3_block11_1_conv (Conv2D)   (None, 32, 32, 128)  57344       conv3_block11_0_relu[0][0]       \n",
            "__________________________________________________________________________________________________\n",
            "conv3_block11_1_bn (BatchNormal (None, 32, 32, 128)  512         conv3_block11_1_conv[0][0]       \n",
            "__________________________________________________________________________________________________\n",
            "conv3_block11_1_relu (Activatio (None, 32, 32, 128)  0           conv3_block11_1_bn[0][0]         \n",
            "__________________________________________________________________________________________________\n",
            "conv3_block11_2_conv (Conv2D)   (None, 32, 32, 32)   36864       conv3_block11_1_relu[0][0]       \n",
            "__________________________________________________________________________________________________\n",
            "conv3_block11_concat (Concatena (None, 32, 32, 480)  0           conv3_block10_concat[0][0]       \n",
            "                                                                 conv3_block11_2_conv[0][0]       \n",
            "__________________________________________________________________________________________________\n",
            "conv3_block12_0_bn (BatchNormal (None, 32, 32, 480)  1920        conv3_block11_concat[0][0]       \n",
            "__________________________________________________________________________________________________\n",
            "conv3_block12_0_relu (Activatio (None, 32, 32, 480)  0           conv3_block12_0_bn[0][0]         \n",
            "__________________________________________________________________________________________________\n",
            "conv3_block12_1_conv (Conv2D)   (None, 32, 32, 128)  61440       conv3_block12_0_relu[0][0]       \n",
            "__________________________________________________________________________________________________\n",
            "conv3_block12_1_bn (BatchNormal (None, 32, 32, 128)  512         conv3_block12_1_conv[0][0]       \n",
            "__________________________________________________________________________________________________\n",
            "conv3_block12_1_relu (Activatio (None, 32, 32, 128)  0           conv3_block12_1_bn[0][0]         \n",
            "__________________________________________________________________________________________________\n",
            "conv3_block12_2_conv (Conv2D)   (None, 32, 32, 32)   36864       conv3_block12_1_relu[0][0]       \n",
            "__________________________________________________________________________________________________\n",
            "conv3_block12_concat (Concatena (None, 32, 32, 512)  0           conv3_block11_concat[0][0]       \n",
            "                                                                 conv3_block12_2_conv[0][0]       \n",
            "__________________________________________________________________________________________________\n",
            "pool3_bn (BatchNormalization)   (None, 32, 32, 512)  2048        conv3_block12_concat[0][0]       \n",
            "__________________________________________________________________________________________________\n",
            "pool3_relu (Activation)         (None, 32, 32, 512)  0           pool3_bn[0][0]                   \n",
            "__________________________________________________________________________________________________\n",
            "pool3_conv (Conv2D)             (None, 32, 32, 256)  131072      pool3_relu[0][0]                 \n",
            "__________________________________________________________________________________________________\n",
            "pool3_pool (AveragePooling2D)   (None, 16, 16, 256)  0           pool3_conv[0][0]                 \n",
            "__________________________________________________________________________________________________\n",
            "conv4_block1_0_bn (BatchNormali (None, 16, 16, 256)  1024        pool3_pool[0][0]                 \n",
            "__________________________________________________________________________________________________\n",
            "conv4_block1_0_relu (Activation (None, 16, 16, 256)  0           conv4_block1_0_bn[0][0]          \n",
            "__________________________________________________________________________________________________\n",
            "conv4_block1_1_conv (Conv2D)    (None, 16, 16, 128)  32768       conv4_block1_0_relu[0][0]        \n",
            "__________________________________________________________________________________________________\n",
            "conv4_block1_1_bn (BatchNormali (None, 16, 16, 128)  512         conv4_block1_1_conv[0][0]        \n",
            "__________________________________________________________________________________________________\n",
            "conv4_block1_1_relu (Activation (None, 16, 16, 128)  0           conv4_block1_1_bn[0][0]          \n",
            "__________________________________________________________________________________________________\n",
            "conv4_block1_2_conv (Conv2D)    (None, 16, 16, 32)   36864       conv4_block1_1_relu[0][0]        \n",
            "__________________________________________________________________________________________________\n",
            "conv4_block1_concat (Concatenat (None, 16, 16, 288)  0           pool3_pool[0][0]                 \n",
            "                                                                 conv4_block1_2_conv[0][0]        \n",
            "__________________________________________________________________________________________________\n",
            "conv4_block2_0_bn (BatchNormali (None, 16, 16, 288)  1152        conv4_block1_concat[0][0]        \n",
            "__________________________________________________________________________________________________\n",
            "conv4_block2_0_relu (Activation (None, 16, 16, 288)  0           conv4_block2_0_bn[0][0]          \n",
            "__________________________________________________________________________________________________\n",
            "conv4_block2_1_conv (Conv2D)    (None, 16, 16, 128)  36864       conv4_block2_0_relu[0][0]        \n",
            "__________________________________________________________________________________________________\n",
            "conv4_block2_1_bn (BatchNormali (None, 16, 16, 128)  512         conv4_block2_1_conv[0][0]        \n",
            "__________________________________________________________________________________________________\n",
            "conv4_block2_1_relu (Activation (None, 16, 16, 128)  0           conv4_block2_1_bn[0][0]          \n",
            "__________________________________________________________________________________________________\n",
            "conv4_block2_2_conv (Conv2D)    (None, 16, 16, 32)   36864       conv4_block2_1_relu[0][0]        \n",
            "__________________________________________________________________________________________________\n",
            "conv4_block2_concat (Concatenat (None, 16, 16, 320)  0           conv4_block1_concat[0][0]        \n",
            "                                                                 conv4_block2_2_conv[0][0]        \n",
            "__________________________________________________________________________________________________\n",
            "conv4_block3_0_bn (BatchNormali (None, 16, 16, 320)  1280        conv4_block2_concat[0][0]        \n",
            "__________________________________________________________________________________________________\n",
            "conv4_block3_0_relu (Activation (None, 16, 16, 320)  0           conv4_block3_0_bn[0][0]          \n",
            "__________________________________________________________________________________________________\n",
            "conv4_block3_1_conv (Conv2D)    (None, 16, 16, 128)  40960       conv4_block3_0_relu[0][0]        \n",
            "__________________________________________________________________________________________________\n",
            "conv4_block3_1_bn (BatchNormali (None, 16, 16, 128)  512         conv4_block3_1_conv[0][0]        \n",
            "__________________________________________________________________________________________________\n",
            "conv4_block3_1_relu (Activation (None, 16, 16, 128)  0           conv4_block3_1_bn[0][0]          \n",
            "__________________________________________________________________________________________________\n",
            "conv4_block3_2_conv (Conv2D)    (None, 16, 16, 32)   36864       conv4_block3_1_relu[0][0]        \n",
            "__________________________________________________________________________________________________\n",
            "conv4_block3_concat (Concatenat (None, 16, 16, 352)  0           conv4_block2_concat[0][0]        \n",
            "                                                                 conv4_block3_2_conv[0][0]        \n",
            "__________________________________________________________________________________________________\n",
            "conv4_block4_0_bn (BatchNormali (None, 16, 16, 352)  1408        conv4_block3_concat[0][0]        \n",
            "__________________________________________________________________________________________________\n",
            "conv4_block4_0_relu (Activation (None, 16, 16, 352)  0           conv4_block4_0_bn[0][0]          \n",
            "__________________________________________________________________________________________________\n",
            "conv4_block4_1_conv (Conv2D)    (None, 16, 16, 128)  45056       conv4_block4_0_relu[0][0]        \n",
            "__________________________________________________________________________________________________\n",
            "conv4_block4_1_bn (BatchNormali (None, 16, 16, 128)  512         conv4_block4_1_conv[0][0]        \n",
            "__________________________________________________________________________________________________\n",
            "conv4_block4_1_relu (Activation (None, 16, 16, 128)  0           conv4_block4_1_bn[0][0]          \n",
            "__________________________________________________________________________________________________\n",
            "conv4_block4_2_conv (Conv2D)    (None, 16, 16, 32)   36864       conv4_block4_1_relu[0][0]        \n",
            "__________________________________________________________________________________________________\n",
            "conv4_block4_concat (Concatenat (None, 16, 16, 384)  0           conv4_block3_concat[0][0]        \n",
            "                                                                 conv4_block4_2_conv[0][0]        \n",
            "__________________________________________________________________________________________________\n",
            "conv4_block5_0_bn (BatchNormali (None, 16, 16, 384)  1536        conv4_block4_concat[0][0]        \n",
            "__________________________________________________________________________________________________\n",
            "conv4_block5_0_relu (Activation (None, 16, 16, 384)  0           conv4_block5_0_bn[0][0]          \n",
            "__________________________________________________________________________________________________\n",
            "conv4_block5_1_conv (Conv2D)    (None, 16, 16, 128)  49152       conv4_block5_0_relu[0][0]        \n",
            "__________________________________________________________________________________________________\n",
            "conv4_block5_1_bn (BatchNormali (None, 16, 16, 128)  512         conv4_block5_1_conv[0][0]        \n",
            "__________________________________________________________________________________________________\n",
            "conv4_block5_1_relu (Activation (None, 16, 16, 128)  0           conv4_block5_1_bn[0][0]          \n",
            "__________________________________________________________________________________________________\n",
            "conv4_block5_2_conv (Conv2D)    (None, 16, 16, 32)   36864       conv4_block5_1_relu[0][0]        \n",
            "__________________________________________________________________________________________________\n",
            "conv4_block5_concat (Concatenat (None, 16, 16, 416)  0           conv4_block4_concat[0][0]        \n",
            "                                                                 conv4_block5_2_conv[0][0]        \n",
            "__________________________________________________________________________________________________\n",
            "conv4_block6_0_bn (BatchNormali (None, 16, 16, 416)  1664        conv4_block5_concat[0][0]        \n",
            "__________________________________________________________________________________________________\n",
            "conv4_block6_0_relu (Activation (None, 16, 16, 416)  0           conv4_block6_0_bn[0][0]          \n",
            "__________________________________________________________________________________________________\n",
            "conv4_block6_1_conv (Conv2D)    (None, 16, 16, 128)  53248       conv4_block6_0_relu[0][0]        \n",
            "__________________________________________________________________________________________________\n",
            "conv4_block6_1_bn (BatchNormali (None, 16, 16, 128)  512         conv4_block6_1_conv[0][0]        \n",
            "__________________________________________________________________________________________________\n",
            "conv4_block6_1_relu (Activation (None, 16, 16, 128)  0           conv4_block6_1_bn[0][0]          \n",
            "__________________________________________________________________________________________________\n",
            "conv4_block6_2_conv (Conv2D)    (None, 16, 16, 32)   36864       conv4_block6_1_relu[0][0]        \n",
            "__________________________________________________________________________________________________\n",
            "conv4_block6_concat (Concatenat (None, 16, 16, 448)  0           conv4_block5_concat[0][0]        \n",
            "                                                                 conv4_block6_2_conv[0][0]        \n",
            "__________________________________________________________________________________________________\n",
            "conv4_block7_0_bn (BatchNormali (None, 16, 16, 448)  1792        conv4_block6_concat[0][0]        \n",
            "__________________________________________________________________________________________________\n",
            "conv4_block7_0_relu (Activation (None, 16, 16, 448)  0           conv4_block7_0_bn[0][0]          \n",
            "__________________________________________________________________________________________________\n",
            "conv4_block7_1_conv (Conv2D)    (None, 16, 16, 128)  57344       conv4_block7_0_relu[0][0]        \n",
            "__________________________________________________________________________________________________\n",
            "conv4_block7_1_bn (BatchNormali (None, 16, 16, 128)  512         conv4_block7_1_conv[0][0]        \n",
            "__________________________________________________________________________________________________\n",
            "conv4_block7_1_relu (Activation (None, 16, 16, 128)  0           conv4_block7_1_bn[0][0]          \n",
            "__________________________________________________________________________________________________\n",
            "conv4_block7_2_conv (Conv2D)    (None, 16, 16, 32)   36864       conv4_block7_1_relu[0][0]        \n",
            "__________________________________________________________________________________________________\n",
            "conv4_block7_concat (Concatenat (None, 16, 16, 480)  0           conv4_block6_concat[0][0]        \n",
            "                                                                 conv4_block7_2_conv[0][0]        \n",
            "__________________________________________________________________________________________________\n",
            "conv4_block8_0_bn (BatchNormali (None, 16, 16, 480)  1920        conv4_block7_concat[0][0]        \n",
            "__________________________________________________________________________________________________\n",
            "conv4_block8_0_relu (Activation (None, 16, 16, 480)  0           conv4_block8_0_bn[0][0]          \n",
            "__________________________________________________________________________________________________\n",
            "conv4_block8_1_conv (Conv2D)    (None, 16, 16, 128)  61440       conv4_block8_0_relu[0][0]        \n",
            "__________________________________________________________________________________________________\n",
            "conv4_block8_1_bn (BatchNormali (None, 16, 16, 128)  512         conv4_block8_1_conv[0][0]        \n",
            "__________________________________________________________________________________________________\n",
            "conv4_block8_1_relu (Activation (None, 16, 16, 128)  0           conv4_block8_1_bn[0][0]          \n",
            "__________________________________________________________________________________________________\n",
            "conv4_block8_2_conv (Conv2D)    (None, 16, 16, 32)   36864       conv4_block8_1_relu[0][0]        \n",
            "__________________________________________________________________________________________________\n",
            "conv4_block8_concat (Concatenat (None, 16, 16, 512)  0           conv4_block7_concat[0][0]        \n",
            "                                                                 conv4_block8_2_conv[0][0]        \n",
            "__________________________________________________________________________________________________\n",
            "conv4_block9_0_bn (BatchNormali (None, 16, 16, 512)  2048        conv4_block8_concat[0][0]        \n",
            "__________________________________________________________________________________________________\n",
            "conv4_block9_0_relu (Activation (None, 16, 16, 512)  0           conv4_block9_0_bn[0][0]          \n",
            "__________________________________________________________________________________________________\n",
            "conv4_block9_1_conv (Conv2D)    (None, 16, 16, 128)  65536       conv4_block9_0_relu[0][0]        \n",
            "__________________________________________________________________________________________________\n",
            "conv4_block9_1_bn (BatchNormali (None, 16, 16, 128)  512         conv4_block9_1_conv[0][0]        \n",
            "__________________________________________________________________________________________________\n",
            "conv4_block9_1_relu (Activation (None, 16, 16, 128)  0           conv4_block9_1_bn[0][0]          \n",
            "__________________________________________________________________________________________________\n",
            "conv4_block9_2_conv (Conv2D)    (None, 16, 16, 32)   36864       conv4_block9_1_relu[0][0]        \n",
            "__________________________________________________________________________________________________\n",
            "conv4_block9_concat (Concatenat (None, 16, 16, 544)  0           conv4_block8_concat[0][0]        \n",
            "                                                                 conv4_block9_2_conv[0][0]        \n",
            "__________________________________________________________________________________________________\n",
            "conv4_block10_0_bn (BatchNormal (None, 16, 16, 544)  2176        conv4_block9_concat[0][0]        \n",
            "__________________________________________________________________________________________________\n",
            "conv4_block10_0_relu (Activatio (None, 16, 16, 544)  0           conv4_block10_0_bn[0][0]         \n",
            "__________________________________________________________________________________________________\n",
            "conv4_block10_1_conv (Conv2D)   (None, 16, 16, 128)  69632       conv4_block10_0_relu[0][0]       \n",
            "__________________________________________________________________________________________________\n",
            "conv4_block10_1_bn (BatchNormal (None, 16, 16, 128)  512         conv4_block10_1_conv[0][0]       \n",
            "__________________________________________________________________________________________________\n",
            "conv4_block10_1_relu (Activatio (None, 16, 16, 128)  0           conv4_block10_1_bn[0][0]         \n",
            "__________________________________________________________________________________________________\n",
            "conv4_block10_2_conv (Conv2D)   (None, 16, 16, 32)   36864       conv4_block10_1_relu[0][0]       \n",
            "__________________________________________________________________________________________________\n",
            "conv4_block10_concat (Concatena (None, 16, 16, 576)  0           conv4_block9_concat[0][0]        \n",
            "                                                                 conv4_block10_2_conv[0][0]       \n",
            "__________________________________________________________________________________________________\n",
            "conv4_block11_0_bn (BatchNormal (None, 16, 16, 576)  2304        conv4_block10_concat[0][0]       \n",
            "__________________________________________________________________________________________________\n",
            "conv4_block11_0_relu (Activatio (None, 16, 16, 576)  0           conv4_block11_0_bn[0][0]         \n",
            "__________________________________________________________________________________________________\n",
            "conv4_block11_1_conv (Conv2D)   (None, 16, 16, 128)  73728       conv4_block11_0_relu[0][0]       \n",
            "__________________________________________________________________________________________________\n",
            "conv4_block11_1_bn (BatchNormal (None, 16, 16, 128)  512         conv4_block11_1_conv[0][0]       \n",
            "__________________________________________________________________________________________________\n",
            "conv4_block11_1_relu (Activatio (None, 16, 16, 128)  0           conv4_block11_1_bn[0][0]         \n",
            "__________________________________________________________________________________________________\n",
            "conv4_block11_2_conv (Conv2D)   (None, 16, 16, 32)   36864       conv4_block11_1_relu[0][0]       \n",
            "__________________________________________________________________________________________________\n",
            "conv4_block11_concat (Concatena (None, 16, 16, 608)  0           conv4_block10_concat[0][0]       \n",
            "                                                                 conv4_block11_2_conv[0][0]       \n",
            "__________________________________________________________________________________________________\n",
            "conv4_block12_0_bn (BatchNormal (None, 16, 16, 608)  2432        conv4_block11_concat[0][0]       \n",
            "__________________________________________________________________________________________________\n",
            "conv4_block12_0_relu (Activatio (None, 16, 16, 608)  0           conv4_block12_0_bn[0][0]         \n",
            "__________________________________________________________________________________________________\n",
            "conv4_block12_1_conv (Conv2D)   (None, 16, 16, 128)  77824       conv4_block12_0_relu[0][0]       \n",
            "__________________________________________________________________________________________________\n",
            "conv4_block12_1_bn (BatchNormal (None, 16, 16, 128)  512         conv4_block12_1_conv[0][0]       \n",
            "__________________________________________________________________________________________________\n",
            "conv4_block12_1_relu (Activatio (None, 16, 16, 128)  0           conv4_block12_1_bn[0][0]         \n",
            "__________________________________________________________________________________________________\n",
            "conv4_block12_2_conv (Conv2D)   (None, 16, 16, 32)   36864       conv4_block12_1_relu[0][0]       \n",
            "__________________________________________________________________________________________________\n",
            "conv4_block12_concat (Concatena (None, 16, 16, 640)  0           conv4_block11_concat[0][0]       \n",
            "                                                                 conv4_block12_2_conv[0][0]       \n",
            "__________________________________________________________________________________________________\n",
            "conv4_block13_0_bn (BatchNormal (None, 16, 16, 640)  2560        conv4_block12_concat[0][0]       \n",
            "__________________________________________________________________________________________________\n",
            "conv4_block13_0_relu (Activatio (None, 16, 16, 640)  0           conv4_block13_0_bn[0][0]         \n",
            "__________________________________________________________________________________________________\n",
            "conv4_block13_1_conv (Conv2D)   (None, 16, 16, 128)  81920       conv4_block13_0_relu[0][0]       \n",
            "__________________________________________________________________________________________________\n",
            "conv4_block13_1_bn (BatchNormal (None, 16, 16, 128)  512         conv4_block13_1_conv[0][0]       \n",
            "__________________________________________________________________________________________________\n",
            "conv4_block13_1_relu (Activatio (None, 16, 16, 128)  0           conv4_block13_1_bn[0][0]         \n",
            "__________________________________________________________________________________________________\n",
            "conv4_block13_2_conv (Conv2D)   (None, 16, 16, 32)   36864       conv4_block13_1_relu[0][0]       \n",
            "__________________________________________________________________________________________________\n",
            "conv4_block13_concat (Concatena (None, 16, 16, 672)  0           conv4_block12_concat[0][0]       \n",
            "                                                                 conv4_block13_2_conv[0][0]       \n",
            "__________________________________________________________________________________________________\n",
            "conv4_block14_0_bn (BatchNormal (None, 16, 16, 672)  2688        conv4_block13_concat[0][0]       \n",
            "__________________________________________________________________________________________________\n",
            "conv4_block14_0_relu (Activatio (None, 16, 16, 672)  0           conv4_block14_0_bn[0][0]         \n",
            "__________________________________________________________________________________________________\n",
            "conv4_block14_1_conv (Conv2D)   (None, 16, 16, 128)  86016       conv4_block14_0_relu[0][0]       \n",
            "__________________________________________________________________________________________________\n",
            "conv4_block14_1_bn (BatchNormal (None, 16, 16, 128)  512         conv4_block14_1_conv[0][0]       \n",
            "__________________________________________________________________________________________________\n",
            "conv4_block14_1_relu (Activatio (None, 16, 16, 128)  0           conv4_block14_1_bn[0][0]         \n",
            "__________________________________________________________________________________________________\n",
            "conv4_block14_2_conv (Conv2D)   (None, 16, 16, 32)   36864       conv4_block14_1_relu[0][0]       \n",
            "__________________________________________________________________________________________________\n",
            "conv4_block14_concat (Concatena (None, 16, 16, 704)  0           conv4_block13_concat[0][0]       \n",
            "                                                                 conv4_block14_2_conv[0][0]       \n",
            "__________________________________________________________________________________________________\n",
            "conv4_block15_0_bn (BatchNormal (None, 16, 16, 704)  2816        conv4_block14_concat[0][0]       \n",
            "__________________________________________________________________________________________________\n",
            "conv4_block15_0_relu (Activatio (None, 16, 16, 704)  0           conv4_block15_0_bn[0][0]         \n",
            "__________________________________________________________________________________________________\n",
            "conv4_block15_1_conv (Conv2D)   (None, 16, 16, 128)  90112       conv4_block15_0_relu[0][0]       \n",
            "__________________________________________________________________________________________________\n",
            "conv4_block15_1_bn (BatchNormal (None, 16, 16, 128)  512         conv4_block15_1_conv[0][0]       \n",
            "__________________________________________________________________________________________________\n",
            "conv4_block15_1_relu (Activatio (None, 16, 16, 128)  0           conv4_block15_1_bn[0][0]         \n",
            "__________________________________________________________________________________________________\n",
            "conv4_block15_2_conv (Conv2D)   (None, 16, 16, 32)   36864       conv4_block15_1_relu[0][0]       \n",
            "__________________________________________________________________________________________________\n",
            "conv4_block15_concat (Concatena (None, 16, 16, 736)  0           conv4_block14_concat[0][0]       \n",
            "                                                                 conv4_block15_2_conv[0][0]       \n",
            "__________________________________________________________________________________________________\n",
            "conv4_block16_0_bn (BatchNormal (None, 16, 16, 736)  2944        conv4_block15_concat[0][0]       \n",
            "__________________________________________________________________________________________________\n",
            "conv4_block16_0_relu (Activatio (None, 16, 16, 736)  0           conv4_block16_0_bn[0][0]         \n",
            "__________________________________________________________________________________________________\n",
            "conv4_block16_1_conv (Conv2D)   (None, 16, 16, 128)  94208       conv4_block16_0_relu[0][0]       \n",
            "__________________________________________________________________________________________________\n",
            "conv4_block16_1_bn (BatchNormal (None, 16, 16, 128)  512         conv4_block16_1_conv[0][0]       \n",
            "__________________________________________________________________________________________________\n",
            "conv4_block16_1_relu (Activatio (None, 16, 16, 128)  0           conv4_block16_1_bn[0][0]         \n",
            "__________________________________________________________________________________________________\n",
            "conv4_block16_2_conv (Conv2D)   (None, 16, 16, 32)   36864       conv4_block16_1_relu[0][0]       \n",
            "__________________________________________________________________________________________________\n",
            "conv4_block16_concat (Concatena (None, 16, 16, 768)  0           conv4_block15_concat[0][0]       \n",
            "                                                                 conv4_block16_2_conv[0][0]       \n",
            "__________________________________________________________________________________________________\n",
            "conv4_block17_0_bn (BatchNormal (None, 16, 16, 768)  3072        conv4_block16_concat[0][0]       \n",
            "__________________________________________________________________________________________________\n",
            "conv4_block17_0_relu (Activatio (None, 16, 16, 768)  0           conv4_block17_0_bn[0][0]         \n",
            "__________________________________________________________________________________________________\n",
            "conv4_block17_1_conv (Conv2D)   (None, 16, 16, 128)  98304       conv4_block17_0_relu[0][0]       \n",
            "__________________________________________________________________________________________________\n",
            "conv4_block17_1_bn (BatchNormal (None, 16, 16, 128)  512         conv4_block17_1_conv[0][0]       \n",
            "__________________________________________________________________________________________________\n",
            "conv4_block17_1_relu (Activatio (None, 16, 16, 128)  0           conv4_block17_1_bn[0][0]         \n",
            "__________________________________________________________________________________________________\n",
            "conv4_block17_2_conv (Conv2D)   (None, 16, 16, 32)   36864       conv4_block17_1_relu[0][0]       \n",
            "__________________________________________________________________________________________________\n",
            "conv4_block17_concat (Concatena (None, 16, 16, 800)  0           conv4_block16_concat[0][0]       \n",
            "                                                                 conv4_block17_2_conv[0][0]       \n",
            "__________________________________________________________________________________________________\n",
            "conv4_block18_0_bn (BatchNormal (None, 16, 16, 800)  3200        conv4_block17_concat[0][0]       \n",
            "__________________________________________________________________________________________________\n",
            "conv4_block18_0_relu (Activatio (None, 16, 16, 800)  0           conv4_block18_0_bn[0][0]         \n",
            "__________________________________________________________________________________________________\n",
            "conv4_block18_1_conv (Conv2D)   (None, 16, 16, 128)  102400      conv4_block18_0_relu[0][0]       \n",
            "__________________________________________________________________________________________________\n",
            "conv4_block18_1_bn (BatchNormal (None, 16, 16, 128)  512         conv4_block18_1_conv[0][0]       \n",
            "__________________________________________________________________________________________________\n",
            "conv4_block18_1_relu (Activatio (None, 16, 16, 128)  0           conv4_block18_1_bn[0][0]         \n",
            "__________________________________________________________________________________________________\n",
            "conv4_block18_2_conv (Conv2D)   (None, 16, 16, 32)   36864       conv4_block18_1_relu[0][0]       \n",
            "__________________________________________________________________________________________________\n",
            "conv4_block18_concat (Concatena (None, 16, 16, 832)  0           conv4_block17_concat[0][0]       \n",
            "                                                                 conv4_block18_2_conv[0][0]       \n",
            "__________________________________________________________________________________________________\n",
            "conv4_block19_0_bn (BatchNormal (None, 16, 16, 832)  3328        conv4_block18_concat[0][0]       \n",
            "__________________________________________________________________________________________________\n",
            "conv4_block19_0_relu (Activatio (None, 16, 16, 832)  0           conv4_block19_0_bn[0][0]         \n",
            "__________________________________________________________________________________________________\n",
            "conv4_block19_1_conv (Conv2D)   (None, 16, 16, 128)  106496      conv4_block19_0_relu[0][0]       \n",
            "__________________________________________________________________________________________________\n",
            "conv4_block19_1_bn (BatchNormal (None, 16, 16, 128)  512         conv4_block19_1_conv[0][0]       \n",
            "__________________________________________________________________________________________________\n",
            "conv4_block19_1_relu (Activatio (None, 16, 16, 128)  0           conv4_block19_1_bn[0][0]         \n",
            "__________________________________________________________________________________________________\n",
            "conv4_block19_2_conv (Conv2D)   (None, 16, 16, 32)   36864       conv4_block19_1_relu[0][0]       \n",
            "__________________________________________________________________________________________________\n",
            "conv4_block19_concat (Concatena (None, 16, 16, 864)  0           conv4_block18_concat[0][0]       \n",
            "                                                                 conv4_block19_2_conv[0][0]       \n",
            "__________________________________________________________________________________________________\n",
            "conv4_block20_0_bn (BatchNormal (None, 16, 16, 864)  3456        conv4_block19_concat[0][0]       \n",
            "__________________________________________________________________________________________________\n",
            "conv4_block20_0_relu (Activatio (None, 16, 16, 864)  0           conv4_block20_0_bn[0][0]         \n",
            "__________________________________________________________________________________________________\n",
            "conv4_block20_1_conv (Conv2D)   (None, 16, 16, 128)  110592      conv4_block20_0_relu[0][0]       \n",
            "__________________________________________________________________________________________________\n",
            "conv4_block20_1_bn (BatchNormal (None, 16, 16, 128)  512         conv4_block20_1_conv[0][0]       \n",
            "__________________________________________________________________________________________________\n",
            "conv4_block20_1_relu (Activatio (None, 16, 16, 128)  0           conv4_block20_1_bn[0][0]         \n",
            "__________________________________________________________________________________________________\n",
            "conv4_block20_2_conv (Conv2D)   (None, 16, 16, 32)   36864       conv4_block20_1_relu[0][0]       \n",
            "__________________________________________________________________________________________________\n",
            "conv4_block20_concat (Concatena (None, 16, 16, 896)  0           conv4_block19_concat[0][0]       \n",
            "                                                                 conv4_block20_2_conv[0][0]       \n",
            "__________________________________________________________________________________________________\n",
            "conv4_block21_0_bn (BatchNormal (None, 16, 16, 896)  3584        conv4_block20_concat[0][0]       \n",
            "__________________________________________________________________________________________________\n",
            "conv4_block21_0_relu (Activatio (None, 16, 16, 896)  0           conv4_block21_0_bn[0][0]         \n",
            "__________________________________________________________________________________________________\n",
            "conv4_block21_1_conv (Conv2D)   (None, 16, 16, 128)  114688      conv4_block21_0_relu[0][0]       \n",
            "__________________________________________________________________________________________________\n",
            "conv4_block21_1_bn (BatchNormal (None, 16, 16, 128)  512         conv4_block21_1_conv[0][0]       \n",
            "__________________________________________________________________________________________________\n",
            "conv4_block21_1_relu (Activatio (None, 16, 16, 128)  0           conv4_block21_1_bn[0][0]         \n",
            "__________________________________________________________________________________________________\n",
            "conv4_block21_2_conv (Conv2D)   (None, 16, 16, 32)   36864       conv4_block21_1_relu[0][0]       \n",
            "__________________________________________________________________________________________________\n",
            "conv4_block21_concat (Concatena (None, 16, 16, 928)  0           conv4_block20_concat[0][0]       \n",
            "                                                                 conv4_block21_2_conv[0][0]       \n",
            "__________________________________________________________________________________________________\n",
            "conv4_block22_0_bn (BatchNormal (None, 16, 16, 928)  3712        conv4_block21_concat[0][0]       \n",
            "__________________________________________________________________________________________________\n",
            "conv4_block22_0_relu (Activatio (None, 16, 16, 928)  0           conv4_block22_0_bn[0][0]         \n",
            "__________________________________________________________________________________________________\n",
            "conv4_block22_1_conv (Conv2D)   (None, 16, 16, 128)  118784      conv4_block22_0_relu[0][0]       \n",
            "__________________________________________________________________________________________________\n",
            "conv4_block22_1_bn (BatchNormal (None, 16, 16, 128)  512         conv4_block22_1_conv[0][0]       \n",
            "__________________________________________________________________________________________________\n",
            "conv4_block22_1_relu (Activatio (None, 16, 16, 128)  0           conv4_block22_1_bn[0][0]         \n",
            "__________________________________________________________________________________________________\n",
            "conv4_block22_2_conv (Conv2D)   (None, 16, 16, 32)   36864       conv4_block22_1_relu[0][0]       \n",
            "__________________________________________________________________________________________________\n",
            "conv4_block22_concat (Concatena (None, 16, 16, 960)  0           conv4_block21_concat[0][0]       \n",
            "                                                                 conv4_block22_2_conv[0][0]       \n",
            "__________________________________________________________________________________________________\n",
            "conv4_block23_0_bn (BatchNormal (None, 16, 16, 960)  3840        conv4_block22_concat[0][0]       \n",
            "__________________________________________________________________________________________________\n",
            "conv4_block23_0_relu (Activatio (None, 16, 16, 960)  0           conv4_block23_0_bn[0][0]         \n",
            "__________________________________________________________________________________________________\n",
            "conv4_block23_1_conv (Conv2D)   (None, 16, 16, 128)  122880      conv4_block23_0_relu[0][0]       \n",
            "__________________________________________________________________________________________________\n",
            "conv4_block23_1_bn (BatchNormal (None, 16, 16, 128)  512         conv4_block23_1_conv[0][0]       \n",
            "__________________________________________________________________________________________________\n",
            "conv4_block23_1_relu (Activatio (None, 16, 16, 128)  0           conv4_block23_1_bn[0][0]         \n",
            "__________________________________________________________________________________________________\n",
            "conv4_block23_2_conv (Conv2D)   (None, 16, 16, 32)   36864       conv4_block23_1_relu[0][0]       \n",
            "__________________________________________________________________________________________________\n",
            "conv4_block23_concat (Concatena (None, 16, 16, 992)  0           conv4_block22_concat[0][0]       \n",
            "                                                                 conv4_block23_2_conv[0][0]       \n",
            "__________________________________________________________________________________________________\n",
            "conv4_block24_0_bn (BatchNormal (None, 16, 16, 992)  3968        conv4_block23_concat[0][0]       \n",
            "__________________________________________________________________________________________________\n",
            "conv4_block24_0_relu (Activatio (None, 16, 16, 992)  0           conv4_block24_0_bn[0][0]         \n",
            "__________________________________________________________________________________________________\n",
            "conv4_block24_1_conv (Conv2D)   (None, 16, 16, 128)  126976      conv4_block24_0_relu[0][0]       \n",
            "__________________________________________________________________________________________________\n",
            "conv4_block24_1_bn (BatchNormal (None, 16, 16, 128)  512         conv4_block24_1_conv[0][0]       \n",
            "__________________________________________________________________________________________________\n",
            "conv4_block24_1_relu (Activatio (None, 16, 16, 128)  0           conv4_block24_1_bn[0][0]         \n",
            "__________________________________________________________________________________________________\n",
            "conv4_block24_2_conv (Conv2D)   (None, 16, 16, 32)   36864       conv4_block24_1_relu[0][0]       \n",
            "__________________________________________________________________________________________________\n",
            "conv4_block24_concat (Concatena (None, 16, 16, 1024) 0           conv4_block23_concat[0][0]       \n",
            "                                                                 conv4_block24_2_conv[0][0]       \n",
            "__________________________________________________________________________________________________\n",
            "conv4_block25_0_bn (BatchNormal (None, 16, 16, 1024) 4096        conv4_block24_concat[0][0]       \n",
            "__________________________________________________________________________________________________\n",
            "conv4_block25_0_relu (Activatio (None, 16, 16, 1024) 0           conv4_block25_0_bn[0][0]         \n",
            "__________________________________________________________________________________________________\n",
            "conv4_block25_1_conv (Conv2D)   (None, 16, 16, 128)  131072      conv4_block25_0_relu[0][0]       \n",
            "__________________________________________________________________________________________________\n",
            "conv4_block25_1_bn (BatchNormal (None, 16, 16, 128)  512         conv4_block25_1_conv[0][0]       \n",
            "__________________________________________________________________________________________________\n",
            "conv4_block25_1_relu (Activatio (None, 16, 16, 128)  0           conv4_block25_1_bn[0][0]         \n",
            "__________________________________________________________________________________________________\n",
            "conv4_block25_2_conv (Conv2D)   (None, 16, 16, 32)   36864       conv4_block25_1_relu[0][0]       \n",
            "__________________________________________________________________________________________________\n",
            "conv4_block25_concat (Concatena (None, 16, 16, 1056) 0           conv4_block24_concat[0][0]       \n",
            "                                                                 conv4_block25_2_conv[0][0]       \n",
            "__________________________________________________________________________________________________\n",
            "conv4_block26_0_bn (BatchNormal (None, 16, 16, 1056) 4224        conv4_block25_concat[0][0]       \n",
            "__________________________________________________________________________________________________\n",
            "conv4_block26_0_relu (Activatio (None, 16, 16, 1056) 0           conv4_block26_0_bn[0][0]         \n",
            "__________________________________________________________________________________________________\n",
            "conv4_block26_1_conv (Conv2D)   (None, 16, 16, 128)  135168      conv4_block26_0_relu[0][0]       \n",
            "__________________________________________________________________________________________________\n",
            "conv4_block26_1_bn (BatchNormal (None, 16, 16, 128)  512         conv4_block26_1_conv[0][0]       \n",
            "__________________________________________________________________________________________________\n",
            "conv4_block26_1_relu (Activatio (None, 16, 16, 128)  0           conv4_block26_1_bn[0][0]         \n",
            "__________________________________________________________________________________________________\n",
            "conv4_block26_2_conv (Conv2D)   (None, 16, 16, 32)   36864       conv4_block26_1_relu[0][0]       \n",
            "__________________________________________________________________________________________________\n",
            "conv4_block26_concat (Concatena (None, 16, 16, 1088) 0           conv4_block25_concat[0][0]       \n",
            "                                                                 conv4_block26_2_conv[0][0]       \n",
            "__________________________________________________________________________________________________\n",
            "conv4_block27_0_bn (BatchNormal (None, 16, 16, 1088) 4352        conv4_block26_concat[0][0]       \n",
            "__________________________________________________________________________________________________\n",
            "conv4_block27_0_relu (Activatio (None, 16, 16, 1088) 0           conv4_block27_0_bn[0][0]         \n",
            "__________________________________________________________________________________________________\n",
            "conv4_block27_1_conv (Conv2D)   (None, 16, 16, 128)  139264      conv4_block27_0_relu[0][0]       \n",
            "__________________________________________________________________________________________________\n",
            "conv4_block27_1_bn (BatchNormal (None, 16, 16, 128)  512         conv4_block27_1_conv[0][0]       \n",
            "__________________________________________________________________________________________________\n",
            "conv4_block27_1_relu (Activatio (None, 16, 16, 128)  0           conv4_block27_1_bn[0][0]         \n",
            "__________________________________________________________________________________________________\n",
            "conv4_block27_2_conv (Conv2D)   (None, 16, 16, 32)   36864       conv4_block27_1_relu[0][0]       \n",
            "__________________________________________________________________________________________________\n",
            "conv4_block27_concat (Concatena (None, 16, 16, 1120) 0           conv4_block26_concat[0][0]       \n",
            "                                                                 conv4_block27_2_conv[0][0]       \n",
            "__________________________________________________________________________________________________\n",
            "conv4_block28_0_bn (BatchNormal (None, 16, 16, 1120) 4480        conv4_block27_concat[0][0]       \n",
            "__________________________________________________________________________________________________\n",
            "conv4_block28_0_relu (Activatio (None, 16, 16, 1120) 0           conv4_block28_0_bn[0][0]         \n",
            "__________________________________________________________________________________________________\n",
            "conv4_block28_1_conv (Conv2D)   (None, 16, 16, 128)  143360      conv4_block28_0_relu[0][0]       \n",
            "__________________________________________________________________________________________________\n",
            "conv4_block28_1_bn (BatchNormal (None, 16, 16, 128)  512         conv4_block28_1_conv[0][0]       \n",
            "__________________________________________________________________________________________________\n",
            "conv4_block28_1_relu (Activatio (None, 16, 16, 128)  0           conv4_block28_1_bn[0][0]         \n",
            "__________________________________________________________________________________________________\n",
            "conv4_block28_2_conv (Conv2D)   (None, 16, 16, 32)   36864       conv4_block28_1_relu[0][0]       \n",
            "__________________________________________________________________________________________________\n",
            "conv4_block28_concat (Concatena (None, 16, 16, 1152) 0           conv4_block27_concat[0][0]       \n",
            "                                                                 conv4_block28_2_conv[0][0]       \n",
            "__________________________________________________________________________________________________\n",
            "conv4_block29_0_bn (BatchNormal (None, 16, 16, 1152) 4608        conv4_block28_concat[0][0]       \n",
            "__________________________________________________________________________________________________\n",
            "conv4_block29_0_relu (Activatio (None, 16, 16, 1152) 0           conv4_block29_0_bn[0][0]         \n",
            "__________________________________________________________________________________________________\n",
            "conv4_block29_1_conv (Conv2D)   (None, 16, 16, 128)  147456      conv4_block29_0_relu[0][0]       \n",
            "__________________________________________________________________________________________________\n",
            "conv4_block29_1_bn (BatchNormal (None, 16, 16, 128)  512         conv4_block29_1_conv[0][0]       \n",
            "__________________________________________________________________________________________________\n",
            "conv4_block29_1_relu (Activatio (None, 16, 16, 128)  0           conv4_block29_1_bn[0][0]         \n",
            "__________________________________________________________________________________________________\n",
            "conv4_block29_2_conv (Conv2D)   (None, 16, 16, 32)   36864       conv4_block29_1_relu[0][0]       \n",
            "__________________________________________________________________________________________________\n",
            "conv4_block29_concat (Concatena (None, 16, 16, 1184) 0           conv4_block28_concat[0][0]       \n",
            "                                                                 conv4_block29_2_conv[0][0]       \n",
            "__________________________________________________________________________________________________\n",
            "conv4_block30_0_bn (BatchNormal (None, 16, 16, 1184) 4736        conv4_block29_concat[0][0]       \n",
            "__________________________________________________________________________________________________\n",
            "conv4_block30_0_relu (Activatio (None, 16, 16, 1184) 0           conv4_block30_0_bn[0][0]         \n",
            "__________________________________________________________________________________________________\n",
            "conv4_block30_1_conv (Conv2D)   (None, 16, 16, 128)  151552      conv4_block30_0_relu[0][0]       \n",
            "__________________________________________________________________________________________________\n",
            "conv4_block30_1_bn (BatchNormal (None, 16, 16, 128)  512         conv4_block30_1_conv[0][0]       \n",
            "__________________________________________________________________________________________________\n",
            "conv4_block30_1_relu (Activatio (None, 16, 16, 128)  0           conv4_block30_1_bn[0][0]         \n",
            "__________________________________________________________________________________________________\n",
            "conv4_block30_2_conv (Conv2D)   (None, 16, 16, 32)   36864       conv4_block30_1_relu[0][0]       \n",
            "__________________________________________________________________________________________________\n",
            "conv4_block30_concat (Concatena (None, 16, 16, 1216) 0           conv4_block29_concat[0][0]       \n",
            "                                                                 conv4_block30_2_conv[0][0]       \n",
            "__________________________________________________________________________________________________\n",
            "conv4_block31_0_bn (BatchNormal (None, 16, 16, 1216) 4864        conv4_block30_concat[0][0]       \n",
            "__________________________________________________________________________________________________\n",
            "conv4_block31_0_relu (Activatio (None, 16, 16, 1216) 0           conv4_block31_0_bn[0][0]         \n",
            "__________________________________________________________________________________________________\n",
            "conv4_block31_1_conv (Conv2D)   (None, 16, 16, 128)  155648      conv4_block31_0_relu[0][0]       \n",
            "__________________________________________________________________________________________________\n",
            "conv4_block31_1_bn (BatchNormal (None, 16, 16, 128)  512         conv4_block31_1_conv[0][0]       \n",
            "__________________________________________________________________________________________________\n",
            "conv4_block31_1_relu (Activatio (None, 16, 16, 128)  0           conv4_block31_1_bn[0][0]         \n",
            "__________________________________________________________________________________________________\n",
            "conv4_block31_2_conv (Conv2D)   (None, 16, 16, 32)   36864       conv4_block31_1_relu[0][0]       \n",
            "__________________________________________________________________________________________________\n",
            "conv4_block31_concat (Concatena (None, 16, 16, 1248) 0           conv4_block30_concat[0][0]       \n",
            "                                                                 conv4_block31_2_conv[0][0]       \n",
            "__________________________________________________________________________________________________\n",
            "conv4_block32_0_bn (BatchNormal (None, 16, 16, 1248) 4992        conv4_block31_concat[0][0]       \n",
            "__________________________________________________________________________________________________\n",
            "conv4_block32_0_relu (Activatio (None, 16, 16, 1248) 0           conv4_block32_0_bn[0][0]         \n",
            "__________________________________________________________________________________________________\n",
            "conv4_block32_1_conv (Conv2D)   (None, 16, 16, 128)  159744      conv4_block32_0_relu[0][0]       \n",
            "__________________________________________________________________________________________________\n",
            "conv4_block32_1_bn (BatchNormal (None, 16, 16, 128)  512         conv4_block32_1_conv[0][0]       \n",
            "__________________________________________________________________________________________________\n",
            "conv4_block32_1_relu (Activatio (None, 16, 16, 128)  0           conv4_block32_1_bn[0][0]         \n",
            "__________________________________________________________________________________________________\n",
            "conv4_block32_2_conv (Conv2D)   (None, 16, 16, 32)   36864       conv4_block32_1_relu[0][0]       \n",
            "__________________________________________________________________________________________________\n",
            "conv4_block32_concat (Concatena (None, 16, 16, 1280) 0           conv4_block31_concat[0][0]       \n",
            "                                                                 conv4_block32_2_conv[0][0]       \n",
            "__________________________________________________________________________________________________\n",
            "conv4_block33_0_bn (BatchNormal (None, 16, 16, 1280) 5120        conv4_block32_concat[0][0]       \n",
            "__________________________________________________________________________________________________\n",
            "conv4_block33_0_relu (Activatio (None, 16, 16, 1280) 0           conv4_block33_0_bn[0][0]         \n",
            "__________________________________________________________________________________________________\n",
            "conv4_block33_1_conv (Conv2D)   (None, 16, 16, 128)  163840      conv4_block33_0_relu[0][0]       \n",
            "__________________________________________________________________________________________________\n",
            "conv4_block33_1_bn (BatchNormal (None, 16, 16, 128)  512         conv4_block33_1_conv[0][0]       \n",
            "__________________________________________________________________________________________________\n",
            "conv4_block33_1_relu (Activatio (None, 16, 16, 128)  0           conv4_block33_1_bn[0][0]         \n",
            "__________________________________________________________________________________________________\n",
            "conv4_block33_2_conv (Conv2D)   (None, 16, 16, 32)   36864       conv4_block33_1_relu[0][0]       \n",
            "__________________________________________________________________________________________________\n",
            "conv4_block33_concat (Concatena (None, 16, 16, 1312) 0           conv4_block32_concat[0][0]       \n",
            "                                                                 conv4_block33_2_conv[0][0]       \n",
            "__________________________________________________________________________________________________\n",
            "conv4_block34_0_bn (BatchNormal (None, 16, 16, 1312) 5248        conv4_block33_concat[0][0]       \n",
            "__________________________________________________________________________________________________\n",
            "conv4_block34_0_relu (Activatio (None, 16, 16, 1312) 0           conv4_block34_0_bn[0][0]         \n",
            "__________________________________________________________________________________________________\n",
            "conv4_block34_1_conv (Conv2D)   (None, 16, 16, 128)  167936      conv4_block34_0_relu[0][0]       \n",
            "__________________________________________________________________________________________________\n",
            "conv4_block34_1_bn (BatchNormal (None, 16, 16, 128)  512         conv4_block34_1_conv[0][0]       \n",
            "__________________________________________________________________________________________________\n",
            "conv4_block34_1_relu (Activatio (None, 16, 16, 128)  0           conv4_block34_1_bn[0][0]         \n",
            "__________________________________________________________________________________________________\n",
            "conv4_block34_2_conv (Conv2D)   (None, 16, 16, 32)   36864       conv4_block34_1_relu[0][0]       \n",
            "__________________________________________________________________________________________________\n",
            "conv4_block34_concat (Concatena (None, 16, 16, 1344) 0           conv4_block33_concat[0][0]       \n",
            "                                                                 conv4_block34_2_conv[0][0]       \n",
            "__________________________________________________________________________________________________\n",
            "conv4_block35_0_bn (BatchNormal (None, 16, 16, 1344) 5376        conv4_block34_concat[0][0]       \n",
            "__________________________________________________________________________________________________\n",
            "conv4_block35_0_relu (Activatio (None, 16, 16, 1344) 0           conv4_block35_0_bn[0][0]         \n",
            "__________________________________________________________________________________________________\n",
            "conv4_block35_1_conv (Conv2D)   (None, 16, 16, 128)  172032      conv4_block35_0_relu[0][0]       \n",
            "__________________________________________________________________________________________________\n",
            "conv4_block35_1_bn (BatchNormal (None, 16, 16, 128)  512         conv4_block35_1_conv[0][0]       \n",
            "__________________________________________________________________________________________________\n",
            "conv4_block35_1_relu (Activatio (None, 16, 16, 128)  0           conv4_block35_1_bn[0][0]         \n",
            "__________________________________________________________________________________________________\n",
            "conv4_block35_2_conv (Conv2D)   (None, 16, 16, 32)   36864       conv4_block35_1_relu[0][0]       \n",
            "__________________________________________________________________________________________________\n",
            "conv4_block35_concat (Concatena (None, 16, 16, 1376) 0           conv4_block34_concat[0][0]       \n",
            "                                                                 conv4_block35_2_conv[0][0]       \n",
            "__________________________________________________________________________________________________\n",
            "conv4_block36_0_bn (BatchNormal (None, 16, 16, 1376) 5504        conv4_block35_concat[0][0]       \n",
            "__________________________________________________________________________________________________\n",
            "conv4_block36_0_relu (Activatio (None, 16, 16, 1376) 0           conv4_block36_0_bn[0][0]         \n",
            "__________________________________________________________________________________________________\n",
            "conv4_block36_1_conv (Conv2D)   (None, 16, 16, 128)  176128      conv4_block36_0_relu[0][0]       \n",
            "__________________________________________________________________________________________________\n",
            "conv4_block36_1_bn (BatchNormal (None, 16, 16, 128)  512         conv4_block36_1_conv[0][0]       \n",
            "__________________________________________________________________________________________________\n",
            "conv4_block36_1_relu (Activatio (None, 16, 16, 128)  0           conv4_block36_1_bn[0][0]         \n",
            "__________________________________________________________________________________________________\n",
            "conv4_block36_2_conv (Conv2D)   (None, 16, 16, 32)   36864       conv4_block36_1_relu[0][0]       \n",
            "__________________________________________________________________________________________________\n",
            "conv4_block36_concat (Concatena (None, 16, 16, 1408) 0           conv4_block35_concat[0][0]       \n",
            "                                                                 conv4_block36_2_conv[0][0]       \n",
            "__________________________________________________________________________________________________\n",
            "conv4_block37_0_bn (BatchNormal (None, 16, 16, 1408) 5632        conv4_block36_concat[0][0]       \n",
            "__________________________________________________________________________________________________\n",
            "conv4_block37_0_relu (Activatio (None, 16, 16, 1408) 0           conv4_block37_0_bn[0][0]         \n",
            "__________________________________________________________________________________________________\n",
            "conv4_block37_1_conv (Conv2D)   (None, 16, 16, 128)  180224      conv4_block37_0_relu[0][0]       \n",
            "__________________________________________________________________________________________________\n",
            "conv4_block37_1_bn (BatchNormal (None, 16, 16, 128)  512         conv4_block37_1_conv[0][0]       \n",
            "__________________________________________________________________________________________________\n",
            "conv4_block37_1_relu (Activatio (None, 16, 16, 128)  0           conv4_block37_1_bn[0][0]         \n",
            "__________________________________________________________________________________________________\n",
            "conv4_block37_2_conv (Conv2D)   (None, 16, 16, 32)   36864       conv4_block37_1_relu[0][0]       \n",
            "__________________________________________________________________________________________________\n",
            "conv4_block37_concat (Concatena (None, 16, 16, 1440) 0           conv4_block36_concat[0][0]       \n",
            "                                                                 conv4_block37_2_conv[0][0]       \n",
            "__________________________________________________________________________________________________\n",
            "conv4_block38_0_bn (BatchNormal (None, 16, 16, 1440) 5760        conv4_block37_concat[0][0]       \n",
            "__________________________________________________________________________________________________\n",
            "conv4_block38_0_relu (Activatio (None, 16, 16, 1440) 0           conv4_block38_0_bn[0][0]         \n",
            "__________________________________________________________________________________________________\n",
            "conv4_block38_1_conv (Conv2D)   (None, 16, 16, 128)  184320      conv4_block38_0_relu[0][0]       \n",
            "__________________________________________________________________________________________________\n",
            "conv4_block38_1_bn (BatchNormal (None, 16, 16, 128)  512         conv4_block38_1_conv[0][0]       \n",
            "__________________________________________________________________________________________________\n",
            "conv4_block38_1_relu (Activatio (None, 16, 16, 128)  0           conv4_block38_1_bn[0][0]         \n",
            "__________________________________________________________________________________________________\n",
            "conv4_block38_2_conv (Conv2D)   (None, 16, 16, 32)   36864       conv4_block38_1_relu[0][0]       \n",
            "__________________________________________________________________________________________________\n",
            "conv4_block38_concat (Concatena (None, 16, 16, 1472) 0           conv4_block37_concat[0][0]       \n",
            "                                                                 conv4_block38_2_conv[0][0]       \n",
            "__________________________________________________________________________________________________\n",
            "conv4_block39_0_bn (BatchNormal (None, 16, 16, 1472) 5888        conv4_block38_concat[0][0]       \n",
            "__________________________________________________________________________________________________\n",
            "conv4_block39_0_relu (Activatio (None, 16, 16, 1472) 0           conv4_block39_0_bn[0][0]         \n",
            "__________________________________________________________________________________________________\n",
            "conv4_block39_1_conv (Conv2D)   (None, 16, 16, 128)  188416      conv4_block39_0_relu[0][0]       \n",
            "__________________________________________________________________________________________________\n",
            "conv4_block39_1_bn (BatchNormal (None, 16, 16, 128)  512         conv4_block39_1_conv[0][0]       \n",
            "__________________________________________________________________________________________________\n",
            "conv4_block39_1_relu (Activatio (None, 16, 16, 128)  0           conv4_block39_1_bn[0][0]         \n",
            "__________________________________________________________________________________________________\n",
            "conv4_block39_2_conv (Conv2D)   (None, 16, 16, 32)   36864       conv4_block39_1_relu[0][0]       \n",
            "__________________________________________________________________________________________________\n",
            "conv4_block39_concat (Concatena (None, 16, 16, 1504) 0           conv4_block38_concat[0][0]       \n",
            "                                                                 conv4_block39_2_conv[0][0]       \n",
            "__________________________________________________________________________________________________\n",
            "conv4_block40_0_bn (BatchNormal (None, 16, 16, 1504) 6016        conv4_block39_concat[0][0]       \n",
            "__________________________________________________________________________________________________\n",
            "conv4_block40_0_relu (Activatio (None, 16, 16, 1504) 0           conv4_block40_0_bn[0][0]         \n",
            "__________________________________________________________________________________________________\n",
            "conv4_block40_1_conv (Conv2D)   (None, 16, 16, 128)  192512      conv4_block40_0_relu[0][0]       \n",
            "__________________________________________________________________________________________________\n",
            "conv4_block40_1_bn (BatchNormal (None, 16, 16, 128)  512         conv4_block40_1_conv[0][0]       \n",
            "__________________________________________________________________________________________________\n",
            "conv4_block40_1_relu (Activatio (None, 16, 16, 128)  0           conv4_block40_1_bn[0][0]         \n",
            "__________________________________________________________________________________________________\n",
            "conv4_block40_2_conv (Conv2D)   (None, 16, 16, 32)   36864       conv4_block40_1_relu[0][0]       \n",
            "__________________________________________________________________________________________________\n",
            "conv4_block40_concat (Concatena (None, 16, 16, 1536) 0           conv4_block39_concat[0][0]       \n",
            "                                                                 conv4_block40_2_conv[0][0]       \n",
            "__________________________________________________________________________________________________\n",
            "conv4_block41_0_bn (BatchNormal (None, 16, 16, 1536) 6144        conv4_block40_concat[0][0]       \n",
            "__________________________________________________________________________________________________\n",
            "conv4_block41_0_relu (Activatio (None, 16, 16, 1536) 0           conv4_block41_0_bn[0][0]         \n",
            "__________________________________________________________________________________________________\n",
            "conv4_block41_1_conv (Conv2D)   (None, 16, 16, 128)  196608      conv4_block41_0_relu[0][0]       \n",
            "__________________________________________________________________________________________________\n",
            "conv4_block41_1_bn (BatchNormal (None, 16, 16, 128)  512         conv4_block41_1_conv[0][0]       \n",
            "__________________________________________________________________________________________________\n",
            "conv4_block41_1_relu (Activatio (None, 16, 16, 128)  0           conv4_block41_1_bn[0][0]         \n",
            "__________________________________________________________________________________________________\n",
            "conv4_block41_2_conv (Conv2D)   (None, 16, 16, 32)   36864       conv4_block41_1_relu[0][0]       \n",
            "__________________________________________________________________________________________________\n",
            "conv4_block41_concat (Concatena (None, 16, 16, 1568) 0           conv4_block40_concat[0][0]       \n",
            "                                                                 conv4_block41_2_conv[0][0]       \n",
            "__________________________________________________________________________________________________\n",
            "conv4_block42_0_bn (BatchNormal (None, 16, 16, 1568) 6272        conv4_block41_concat[0][0]       \n",
            "__________________________________________________________________________________________________\n",
            "conv4_block42_0_relu (Activatio (None, 16, 16, 1568) 0           conv4_block42_0_bn[0][0]         \n",
            "__________________________________________________________________________________________________\n",
            "conv4_block42_1_conv (Conv2D)   (None, 16, 16, 128)  200704      conv4_block42_0_relu[0][0]       \n",
            "__________________________________________________________________________________________________\n",
            "conv4_block42_1_bn (BatchNormal (None, 16, 16, 128)  512         conv4_block42_1_conv[0][0]       \n",
            "__________________________________________________________________________________________________\n",
            "conv4_block42_1_relu (Activatio (None, 16, 16, 128)  0           conv4_block42_1_bn[0][0]         \n",
            "__________________________________________________________________________________________________\n",
            "conv4_block42_2_conv (Conv2D)   (None, 16, 16, 32)   36864       conv4_block42_1_relu[0][0]       \n",
            "__________________________________________________________________________________________________\n",
            "conv4_block42_concat (Concatena (None, 16, 16, 1600) 0           conv4_block41_concat[0][0]       \n",
            "                                                                 conv4_block42_2_conv[0][0]       \n",
            "__________________________________________________________________________________________________\n",
            "conv4_block43_0_bn (BatchNormal (None, 16, 16, 1600) 6400        conv4_block42_concat[0][0]       \n",
            "__________________________________________________________________________________________________\n",
            "conv4_block43_0_relu (Activatio (None, 16, 16, 1600) 0           conv4_block43_0_bn[0][0]         \n",
            "__________________________________________________________________________________________________\n",
            "conv4_block43_1_conv (Conv2D)   (None, 16, 16, 128)  204800      conv4_block43_0_relu[0][0]       \n",
            "__________________________________________________________________________________________________\n",
            "conv4_block43_1_bn (BatchNormal (None, 16, 16, 128)  512         conv4_block43_1_conv[0][0]       \n",
            "__________________________________________________________________________________________________\n",
            "conv4_block43_1_relu (Activatio (None, 16, 16, 128)  0           conv4_block43_1_bn[0][0]         \n",
            "__________________________________________________________________________________________________\n",
            "conv4_block43_2_conv (Conv2D)   (None, 16, 16, 32)   36864       conv4_block43_1_relu[0][0]       \n",
            "__________________________________________________________________________________________________\n",
            "conv4_block43_concat (Concatena (None, 16, 16, 1632) 0           conv4_block42_concat[0][0]       \n",
            "                                                                 conv4_block43_2_conv[0][0]       \n",
            "__________________________________________________________________________________________________\n",
            "conv4_block44_0_bn (BatchNormal (None, 16, 16, 1632) 6528        conv4_block43_concat[0][0]       \n",
            "__________________________________________________________________________________________________\n",
            "conv4_block44_0_relu (Activatio (None, 16, 16, 1632) 0           conv4_block44_0_bn[0][0]         \n",
            "__________________________________________________________________________________________________\n",
            "conv4_block44_1_conv (Conv2D)   (None, 16, 16, 128)  208896      conv4_block44_0_relu[0][0]       \n",
            "__________________________________________________________________________________________________\n",
            "conv4_block44_1_bn (BatchNormal (None, 16, 16, 128)  512         conv4_block44_1_conv[0][0]       \n",
            "__________________________________________________________________________________________________\n",
            "conv4_block44_1_relu (Activatio (None, 16, 16, 128)  0           conv4_block44_1_bn[0][0]         \n",
            "__________________________________________________________________________________________________\n",
            "conv4_block44_2_conv (Conv2D)   (None, 16, 16, 32)   36864       conv4_block44_1_relu[0][0]       \n",
            "__________________________________________________________________________________________________\n",
            "conv4_block44_concat (Concatena (None, 16, 16, 1664) 0           conv4_block43_concat[0][0]       \n",
            "                                                                 conv4_block44_2_conv[0][0]       \n",
            "__________________________________________________________________________________________________\n",
            "conv4_block45_0_bn (BatchNormal (None, 16, 16, 1664) 6656        conv4_block44_concat[0][0]       \n",
            "__________________________________________________________________________________________________\n",
            "conv4_block45_0_relu (Activatio (None, 16, 16, 1664) 0           conv4_block45_0_bn[0][0]         \n",
            "__________________________________________________________________________________________________\n",
            "conv4_block45_1_conv (Conv2D)   (None, 16, 16, 128)  212992      conv4_block45_0_relu[0][0]       \n",
            "__________________________________________________________________________________________________\n",
            "conv4_block45_1_bn (BatchNormal (None, 16, 16, 128)  512         conv4_block45_1_conv[0][0]       \n",
            "__________________________________________________________________________________________________\n",
            "conv4_block45_1_relu (Activatio (None, 16, 16, 128)  0           conv4_block45_1_bn[0][0]         \n",
            "__________________________________________________________________________________________________\n",
            "conv4_block45_2_conv (Conv2D)   (None, 16, 16, 32)   36864       conv4_block45_1_relu[0][0]       \n",
            "__________________________________________________________________________________________________\n",
            "conv4_block45_concat (Concatena (None, 16, 16, 1696) 0           conv4_block44_concat[0][0]       \n",
            "                                                                 conv4_block45_2_conv[0][0]       \n",
            "__________________________________________________________________________________________________\n",
            "conv4_block46_0_bn (BatchNormal (None, 16, 16, 1696) 6784        conv4_block45_concat[0][0]       \n",
            "__________________________________________________________________________________________________\n",
            "conv4_block46_0_relu (Activatio (None, 16, 16, 1696) 0           conv4_block46_0_bn[0][0]         \n",
            "__________________________________________________________________________________________________\n",
            "conv4_block46_1_conv (Conv2D)   (None, 16, 16, 128)  217088      conv4_block46_0_relu[0][0]       \n",
            "__________________________________________________________________________________________________\n",
            "conv4_block46_1_bn (BatchNormal (None, 16, 16, 128)  512         conv4_block46_1_conv[0][0]       \n",
            "__________________________________________________________________________________________________\n",
            "conv4_block46_1_relu (Activatio (None, 16, 16, 128)  0           conv4_block46_1_bn[0][0]         \n",
            "__________________________________________________________________________________________________\n",
            "conv4_block46_2_conv (Conv2D)   (None, 16, 16, 32)   36864       conv4_block46_1_relu[0][0]       \n",
            "__________________________________________________________________________________________________\n",
            "conv4_block46_concat (Concatena (None, 16, 16, 1728) 0           conv4_block45_concat[0][0]       \n",
            "                                                                 conv4_block46_2_conv[0][0]       \n",
            "__________________________________________________________________________________________________\n",
            "conv4_block47_0_bn (BatchNormal (None, 16, 16, 1728) 6912        conv4_block46_concat[0][0]       \n",
            "__________________________________________________________________________________________________\n",
            "conv4_block47_0_relu (Activatio (None, 16, 16, 1728) 0           conv4_block47_0_bn[0][0]         \n",
            "__________________________________________________________________________________________________\n",
            "conv4_block47_1_conv (Conv2D)   (None, 16, 16, 128)  221184      conv4_block47_0_relu[0][0]       \n",
            "__________________________________________________________________________________________________\n",
            "conv4_block47_1_bn (BatchNormal (None, 16, 16, 128)  512         conv4_block47_1_conv[0][0]       \n",
            "__________________________________________________________________________________________________\n",
            "conv4_block47_1_relu (Activatio (None, 16, 16, 128)  0           conv4_block47_1_bn[0][0]         \n",
            "__________________________________________________________________________________________________\n",
            "conv4_block47_2_conv (Conv2D)   (None, 16, 16, 32)   36864       conv4_block47_1_relu[0][0]       \n",
            "__________________________________________________________________________________________________\n",
            "conv4_block47_concat (Concatena (None, 16, 16, 1760) 0           conv4_block46_concat[0][0]       \n",
            "                                                                 conv4_block47_2_conv[0][0]       \n",
            "__________________________________________________________________________________________________\n",
            "conv4_block48_0_bn (BatchNormal (None, 16, 16, 1760) 7040        conv4_block47_concat[0][0]       \n",
            "__________________________________________________________________________________________________\n",
            "conv4_block48_0_relu (Activatio (None, 16, 16, 1760) 0           conv4_block48_0_bn[0][0]         \n",
            "__________________________________________________________________________________________________\n",
            "conv4_block48_1_conv (Conv2D)   (None, 16, 16, 128)  225280      conv4_block48_0_relu[0][0]       \n",
            "__________________________________________________________________________________________________\n",
            "conv4_block48_1_bn (BatchNormal (None, 16, 16, 128)  512         conv4_block48_1_conv[0][0]       \n",
            "__________________________________________________________________________________________________\n",
            "conv4_block48_1_relu (Activatio (None, 16, 16, 128)  0           conv4_block48_1_bn[0][0]         \n",
            "__________________________________________________________________________________________________\n",
            "conv4_block48_2_conv (Conv2D)   (None, 16, 16, 32)   36864       conv4_block48_1_relu[0][0]       \n",
            "__________________________________________________________________________________________________\n",
            "conv4_block48_concat (Concatena (None, 16, 16, 1792) 0           conv4_block47_concat[0][0]       \n",
            "                                                                 conv4_block48_2_conv[0][0]       \n",
            "__________________________________________________________________________________________________\n",
            "pool4_bn (BatchNormalization)   (None, 16, 16, 1792) 7168        conv4_block48_concat[0][0]       \n",
            "__________________________________________________________________________________________________\n",
            "pool4_relu (Activation)         (None, 16, 16, 1792) 0           pool4_bn[0][0]                   \n",
            "__________________________________________________________________________________________________\n",
            "pool4_conv (Conv2D)             (None, 16, 16, 896)  1605632     pool4_relu[0][0]                 \n",
            "__________________________________________________________________________________________________\n",
            "pool4_pool (AveragePooling2D)   (None, 8, 8, 896)    0           pool4_conv[0][0]                 \n",
            "__________________________________________________________________________________________________\n",
            "conv5_block1_0_bn (BatchNormali (None, 8, 8, 896)    3584        pool4_pool[0][0]                 \n",
            "__________________________________________________________________________________________________\n",
            "conv5_block1_0_relu (Activation (None, 8, 8, 896)    0           conv5_block1_0_bn[0][0]          \n",
            "__________________________________________________________________________________________________\n",
            "conv5_block1_1_conv (Conv2D)    (None, 8, 8, 128)    114688      conv5_block1_0_relu[0][0]        \n",
            "__________________________________________________________________________________________________\n",
            "conv5_block1_1_bn (BatchNormali (None, 8, 8, 128)    512         conv5_block1_1_conv[0][0]        \n",
            "__________________________________________________________________________________________________\n",
            "conv5_block1_1_relu (Activation (None, 8, 8, 128)    0           conv5_block1_1_bn[0][0]          \n",
            "__________________________________________________________________________________________________\n",
            "conv5_block1_2_conv (Conv2D)    (None, 8, 8, 32)     36864       conv5_block1_1_relu[0][0]        \n",
            "__________________________________________________________________________________________________\n",
            "conv5_block1_concat (Concatenat (None, 8, 8, 928)    0           pool4_pool[0][0]                 \n",
            "                                                                 conv5_block1_2_conv[0][0]        \n",
            "__________________________________________________________________________________________________\n",
            "conv5_block2_0_bn (BatchNormali (None, 8, 8, 928)    3712        conv5_block1_concat[0][0]        \n",
            "__________________________________________________________________________________________________\n",
            "conv5_block2_0_relu (Activation (None, 8, 8, 928)    0           conv5_block2_0_bn[0][0]          \n",
            "__________________________________________________________________________________________________\n",
            "conv5_block2_1_conv (Conv2D)    (None, 8, 8, 128)    118784      conv5_block2_0_relu[0][0]        \n",
            "__________________________________________________________________________________________________\n",
            "conv5_block2_1_bn (BatchNormali (None, 8, 8, 128)    512         conv5_block2_1_conv[0][0]        \n",
            "__________________________________________________________________________________________________\n",
            "conv5_block2_1_relu (Activation (None, 8, 8, 128)    0           conv5_block2_1_bn[0][0]          \n",
            "__________________________________________________________________________________________________\n",
            "conv5_block2_2_conv (Conv2D)    (None, 8, 8, 32)     36864       conv5_block2_1_relu[0][0]        \n",
            "__________________________________________________________________________________________________\n",
            "conv5_block2_concat (Concatenat (None, 8, 8, 960)    0           conv5_block1_concat[0][0]        \n",
            "                                                                 conv5_block2_2_conv[0][0]        \n",
            "__________________________________________________________________________________________________\n",
            "conv5_block3_0_bn (BatchNormali (None, 8, 8, 960)    3840        conv5_block2_concat[0][0]        \n",
            "__________________________________________________________________________________________________\n",
            "conv5_block3_0_relu (Activation (None, 8, 8, 960)    0           conv5_block3_0_bn[0][0]          \n",
            "__________________________________________________________________________________________________\n",
            "conv5_block3_1_conv (Conv2D)    (None, 8, 8, 128)    122880      conv5_block3_0_relu[0][0]        \n",
            "__________________________________________________________________________________________________\n",
            "conv5_block3_1_bn (BatchNormali (None, 8, 8, 128)    512         conv5_block3_1_conv[0][0]        \n",
            "__________________________________________________________________________________________________\n",
            "conv5_block3_1_relu (Activation (None, 8, 8, 128)    0           conv5_block3_1_bn[0][0]          \n",
            "__________________________________________________________________________________________________\n",
            "conv5_block3_2_conv (Conv2D)    (None, 8, 8, 32)     36864       conv5_block3_1_relu[0][0]        \n",
            "__________________________________________________________________________________________________\n",
            "conv5_block3_concat (Concatenat (None, 8, 8, 992)    0           conv5_block2_concat[0][0]        \n",
            "                                                                 conv5_block3_2_conv[0][0]        \n",
            "__________________________________________________________________________________________________\n",
            "conv5_block4_0_bn (BatchNormali (None, 8, 8, 992)    3968        conv5_block3_concat[0][0]        \n",
            "__________________________________________________________________________________________________\n",
            "conv5_block4_0_relu (Activation (None, 8, 8, 992)    0           conv5_block4_0_bn[0][0]          \n",
            "__________________________________________________________________________________________________\n",
            "conv5_block4_1_conv (Conv2D)    (None, 8, 8, 128)    126976      conv5_block4_0_relu[0][0]        \n",
            "__________________________________________________________________________________________________\n",
            "conv5_block4_1_bn (BatchNormali (None, 8, 8, 128)    512         conv5_block4_1_conv[0][0]        \n",
            "__________________________________________________________________________________________________\n",
            "conv5_block4_1_relu (Activation (None, 8, 8, 128)    0           conv5_block4_1_bn[0][0]          \n",
            "__________________________________________________________________________________________________\n",
            "conv5_block4_2_conv (Conv2D)    (None, 8, 8, 32)     36864       conv5_block4_1_relu[0][0]        \n",
            "__________________________________________________________________________________________________\n",
            "conv5_block4_concat (Concatenat (None, 8, 8, 1024)   0           conv5_block3_concat[0][0]        \n",
            "                                                                 conv5_block4_2_conv[0][0]        \n",
            "__________________________________________________________________________________________________\n",
            "conv5_block5_0_bn (BatchNormali (None, 8, 8, 1024)   4096        conv5_block4_concat[0][0]        \n",
            "__________________________________________________________________________________________________\n",
            "conv5_block5_0_relu (Activation (None, 8, 8, 1024)   0           conv5_block5_0_bn[0][0]          \n",
            "__________________________________________________________________________________________________\n",
            "conv5_block5_1_conv (Conv2D)    (None, 8, 8, 128)    131072      conv5_block5_0_relu[0][0]        \n",
            "__________________________________________________________________________________________________\n",
            "conv5_block5_1_bn (BatchNormali (None, 8, 8, 128)    512         conv5_block5_1_conv[0][0]        \n",
            "__________________________________________________________________________________________________\n",
            "conv5_block5_1_relu (Activation (None, 8, 8, 128)    0           conv5_block5_1_bn[0][0]          \n",
            "__________________________________________________________________________________________________\n",
            "conv5_block5_2_conv (Conv2D)    (None, 8, 8, 32)     36864       conv5_block5_1_relu[0][0]        \n",
            "__________________________________________________________________________________________________\n",
            "conv5_block5_concat (Concatenat (None, 8, 8, 1056)   0           conv5_block4_concat[0][0]        \n",
            "                                                                 conv5_block5_2_conv[0][0]        \n",
            "__________________________________________________________________________________________________\n",
            "conv5_block6_0_bn (BatchNormali (None, 8, 8, 1056)   4224        conv5_block5_concat[0][0]        \n",
            "__________________________________________________________________________________________________\n",
            "conv5_block6_0_relu (Activation (None, 8, 8, 1056)   0           conv5_block6_0_bn[0][0]          \n",
            "__________________________________________________________________________________________________\n",
            "conv5_block6_1_conv (Conv2D)    (None, 8, 8, 128)    135168      conv5_block6_0_relu[0][0]        \n",
            "__________________________________________________________________________________________________\n",
            "conv5_block6_1_bn (BatchNormali (None, 8, 8, 128)    512         conv5_block6_1_conv[0][0]        \n",
            "__________________________________________________________________________________________________\n",
            "conv5_block6_1_relu (Activation (None, 8, 8, 128)    0           conv5_block6_1_bn[0][0]          \n",
            "__________________________________________________________________________________________________\n",
            "conv5_block6_2_conv (Conv2D)    (None, 8, 8, 32)     36864       conv5_block6_1_relu[0][0]        \n",
            "__________________________________________________________________________________________________\n",
            "conv5_block6_concat (Concatenat (None, 8, 8, 1088)   0           conv5_block5_concat[0][0]        \n",
            "                                                                 conv5_block6_2_conv[0][0]        \n",
            "__________________________________________________________________________________________________\n",
            "conv5_block7_0_bn (BatchNormali (None, 8, 8, 1088)   4352        conv5_block6_concat[0][0]        \n",
            "__________________________________________________________________________________________________\n",
            "conv5_block7_0_relu (Activation (None, 8, 8, 1088)   0           conv5_block7_0_bn[0][0]          \n",
            "__________________________________________________________________________________________________\n",
            "conv5_block7_1_conv (Conv2D)    (None, 8, 8, 128)    139264      conv5_block7_0_relu[0][0]        \n",
            "__________________________________________________________________________________________________\n",
            "conv5_block7_1_bn (BatchNormali (None, 8, 8, 128)    512         conv5_block7_1_conv[0][0]        \n",
            "__________________________________________________________________________________________________\n",
            "conv5_block7_1_relu (Activation (None, 8, 8, 128)    0           conv5_block7_1_bn[0][0]          \n",
            "__________________________________________________________________________________________________\n",
            "conv5_block7_2_conv (Conv2D)    (None, 8, 8, 32)     36864       conv5_block7_1_relu[0][0]        \n",
            "__________________________________________________________________________________________________\n",
            "conv5_block7_concat (Concatenat (None, 8, 8, 1120)   0           conv5_block6_concat[0][0]        \n",
            "                                                                 conv5_block7_2_conv[0][0]        \n",
            "__________________________________________________________________________________________________\n",
            "conv5_block8_0_bn (BatchNormali (None, 8, 8, 1120)   4480        conv5_block7_concat[0][0]        \n",
            "__________________________________________________________________________________________________\n",
            "conv5_block8_0_relu (Activation (None, 8, 8, 1120)   0           conv5_block8_0_bn[0][0]          \n",
            "__________________________________________________________________________________________________\n",
            "conv5_block8_1_conv (Conv2D)    (None, 8, 8, 128)    143360      conv5_block8_0_relu[0][0]        \n",
            "__________________________________________________________________________________________________\n",
            "conv5_block8_1_bn (BatchNormali (None, 8, 8, 128)    512         conv5_block8_1_conv[0][0]        \n",
            "__________________________________________________________________________________________________\n",
            "conv5_block8_1_relu (Activation (None, 8, 8, 128)    0           conv5_block8_1_bn[0][0]          \n",
            "__________________________________________________________________________________________________\n",
            "conv5_block8_2_conv (Conv2D)    (None, 8, 8, 32)     36864       conv5_block8_1_relu[0][0]        \n",
            "__________________________________________________________________________________________________\n",
            "conv5_block8_concat (Concatenat (None, 8, 8, 1152)   0           conv5_block7_concat[0][0]        \n",
            "                                                                 conv5_block8_2_conv[0][0]        \n",
            "__________________________________________________________________________________________________\n",
            "conv5_block9_0_bn (BatchNormali (None, 8, 8, 1152)   4608        conv5_block8_concat[0][0]        \n",
            "__________________________________________________________________________________________________\n",
            "conv5_block9_0_relu (Activation (None, 8, 8, 1152)   0           conv5_block9_0_bn[0][0]          \n",
            "__________________________________________________________________________________________________\n",
            "conv5_block9_1_conv (Conv2D)    (None, 8, 8, 128)    147456      conv5_block9_0_relu[0][0]        \n",
            "__________________________________________________________________________________________________\n",
            "conv5_block9_1_bn (BatchNormali (None, 8, 8, 128)    512         conv5_block9_1_conv[0][0]        \n",
            "__________________________________________________________________________________________________\n",
            "conv5_block9_1_relu (Activation (None, 8, 8, 128)    0           conv5_block9_1_bn[0][0]          \n",
            "__________________________________________________________________________________________________\n",
            "conv5_block9_2_conv (Conv2D)    (None, 8, 8, 32)     36864       conv5_block9_1_relu[0][0]        \n",
            "__________________________________________________________________________________________________\n",
            "conv5_block9_concat (Concatenat (None, 8, 8, 1184)   0           conv5_block8_concat[0][0]        \n",
            "                                                                 conv5_block9_2_conv[0][0]        \n",
            "__________________________________________________________________________________________________\n",
            "conv5_block10_0_bn (BatchNormal (None, 8, 8, 1184)   4736        conv5_block9_concat[0][0]        \n",
            "__________________________________________________________________________________________________\n",
            "conv5_block10_0_relu (Activatio (None, 8, 8, 1184)   0           conv5_block10_0_bn[0][0]         \n",
            "__________________________________________________________________________________________________\n",
            "conv5_block10_1_conv (Conv2D)   (None, 8, 8, 128)    151552      conv5_block10_0_relu[0][0]       \n",
            "__________________________________________________________________________________________________\n",
            "conv5_block10_1_bn (BatchNormal (None, 8, 8, 128)    512         conv5_block10_1_conv[0][0]       \n",
            "__________________________________________________________________________________________________\n",
            "conv5_block10_1_relu (Activatio (None, 8, 8, 128)    0           conv5_block10_1_bn[0][0]         \n",
            "__________________________________________________________________________________________________\n",
            "conv5_block10_2_conv (Conv2D)   (None, 8, 8, 32)     36864       conv5_block10_1_relu[0][0]       \n",
            "__________________________________________________________________________________________________\n",
            "conv5_block10_concat (Concatena (None, 8, 8, 1216)   0           conv5_block9_concat[0][0]        \n",
            "                                                                 conv5_block10_2_conv[0][0]       \n",
            "__________________________________________________________________________________________________\n",
            "conv5_block11_0_bn (BatchNormal (None, 8, 8, 1216)   4864        conv5_block10_concat[0][0]       \n",
            "__________________________________________________________________________________________________\n",
            "conv5_block11_0_relu (Activatio (None, 8, 8, 1216)   0           conv5_block11_0_bn[0][0]         \n",
            "__________________________________________________________________________________________________\n",
            "conv5_block11_1_conv (Conv2D)   (None, 8, 8, 128)    155648      conv5_block11_0_relu[0][0]       \n",
            "__________________________________________________________________________________________________\n",
            "conv5_block11_1_bn (BatchNormal (None, 8, 8, 128)    512         conv5_block11_1_conv[0][0]       \n",
            "__________________________________________________________________________________________________\n",
            "conv5_block11_1_relu (Activatio (None, 8, 8, 128)    0           conv5_block11_1_bn[0][0]         \n",
            "__________________________________________________________________________________________________\n",
            "conv5_block11_2_conv (Conv2D)   (None, 8, 8, 32)     36864       conv5_block11_1_relu[0][0]       \n",
            "__________________________________________________________________________________________________\n",
            "conv5_block11_concat (Concatena (None, 8, 8, 1248)   0           conv5_block10_concat[0][0]       \n",
            "                                                                 conv5_block11_2_conv[0][0]       \n",
            "__________________________________________________________________________________________________\n",
            "conv5_block12_0_bn (BatchNormal (None, 8, 8, 1248)   4992        conv5_block11_concat[0][0]       \n",
            "__________________________________________________________________________________________________\n",
            "conv5_block12_0_relu (Activatio (None, 8, 8, 1248)   0           conv5_block12_0_bn[0][0]         \n",
            "__________________________________________________________________________________________________\n",
            "conv5_block12_1_conv (Conv2D)   (None, 8, 8, 128)    159744      conv5_block12_0_relu[0][0]       \n",
            "__________________________________________________________________________________________________\n",
            "conv5_block12_1_bn (BatchNormal (None, 8, 8, 128)    512         conv5_block12_1_conv[0][0]       \n",
            "__________________________________________________________________________________________________\n",
            "conv5_block12_1_relu (Activatio (None, 8, 8, 128)    0           conv5_block12_1_bn[0][0]         \n",
            "__________________________________________________________________________________________________\n",
            "conv5_block12_2_conv (Conv2D)   (None, 8, 8, 32)     36864       conv5_block12_1_relu[0][0]       \n",
            "__________________________________________________________________________________________________\n",
            "conv5_block12_concat (Concatena (None, 8, 8, 1280)   0           conv5_block11_concat[0][0]       \n",
            "                                                                 conv5_block12_2_conv[0][0]       \n",
            "__________________________________________________________________________________________________\n",
            "conv5_block13_0_bn (BatchNormal (None, 8, 8, 1280)   5120        conv5_block12_concat[0][0]       \n",
            "__________________________________________________________________________________________________\n",
            "conv5_block13_0_relu (Activatio (None, 8, 8, 1280)   0           conv5_block13_0_bn[0][0]         \n",
            "__________________________________________________________________________________________________\n",
            "conv5_block13_1_conv (Conv2D)   (None, 8, 8, 128)    163840      conv5_block13_0_relu[0][0]       \n",
            "__________________________________________________________________________________________________\n",
            "conv5_block13_1_bn (BatchNormal (None, 8, 8, 128)    512         conv5_block13_1_conv[0][0]       \n",
            "__________________________________________________________________________________________________\n",
            "conv5_block13_1_relu (Activatio (None, 8, 8, 128)    0           conv5_block13_1_bn[0][0]         \n",
            "__________________________________________________________________________________________________\n",
            "conv5_block13_2_conv (Conv2D)   (None, 8, 8, 32)     36864       conv5_block13_1_relu[0][0]       \n",
            "__________________________________________________________________________________________________\n",
            "conv5_block13_concat (Concatena (None, 8, 8, 1312)   0           conv5_block12_concat[0][0]       \n",
            "                                                                 conv5_block13_2_conv[0][0]       \n",
            "__________________________________________________________________________________________________\n",
            "conv5_block14_0_bn (BatchNormal (None, 8, 8, 1312)   5248        conv5_block13_concat[0][0]       \n",
            "__________________________________________________________________________________________________\n",
            "conv5_block14_0_relu (Activatio (None, 8, 8, 1312)   0           conv5_block14_0_bn[0][0]         \n",
            "__________________________________________________________________________________________________\n",
            "conv5_block14_1_conv (Conv2D)   (None, 8, 8, 128)    167936      conv5_block14_0_relu[0][0]       \n",
            "__________________________________________________________________________________________________\n",
            "conv5_block14_1_bn (BatchNormal (None, 8, 8, 128)    512         conv5_block14_1_conv[0][0]       \n",
            "__________________________________________________________________________________________________\n",
            "conv5_block14_1_relu (Activatio (None, 8, 8, 128)    0           conv5_block14_1_bn[0][0]         \n",
            "__________________________________________________________________________________________________\n",
            "conv5_block14_2_conv (Conv2D)   (None, 8, 8, 32)     36864       conv5_block14_1_relu[0][0]       \n",
            "__________________________________________________________________________________________________\n",
            "conv5_block14_concat (Concatena (None, 8, 8, 1344)   0           conv5_block13_concat[0][0]       \n",
            "                                                                 conv5_block14_2_conv[0][0]       \n",
            "__________________________________________________________________________________________________\n",
            "conv5_block15_0_bn (BatchNormal (None, 8, 8, 1344)   5376        conv5_block14_concat[0][0]       \n",
            "__________________________________________________________________________________________________\n",
            "conv5_block15_0_relu (Activatio (None, 8, 8, 1344)   0           conv5_block15_0_bn[0][0]         \n",
            "__________________________________________________________________________________________________\n",
            "conv5_block15_1_conv (Conv2D)   (None, 8, 8, 128)    172032      conv5_block15_0_relu[0][0]       \n",
            "__________________________________________________________________________________________________\n",
            "conv5_block15_1_bn (BatchNormal (None, 8, 8, 128)    512         conv5_block15_1_conv[0][0]       \n",
            "__________________________________________________________________________________________________\n",
            "conv5_block15_1_relu (Activatio (None, 8, 8, 128)    0           conv5_block15_1_bn[0][0]         \n",
            "__________________________________________________________________________________________________\n",
            "conv5_block15_2_conv (Conv2D)   (None, 8, 8, 32)     36864       conv5_block15_1_relu[0][0]       \n",
            "__________________________________________________________________________________________________\n",
            "conv5_block15_concat (Concatena (None, 8, 8, 1376)   0           conv5_block14_concat[0][0]       \n",
            "                                                                 conv5_block15_2_conv[0][0]       \n",
            "__________________________________________________________________________________________________\n",
            "conv5_block16_0_bn (BatchNormal (None, 8, 8, 1376)   5504        conv5_block15_concat[0][0]       \n",
            "__________________________________________________________________________________________________\n",
            "conv5_block16_0_relu (Activatio (None, 8, 8, 1376)   0           conv5_block16_0_bn[0][0]         \n",
            "__________________________________________________________________________________________________\n",
            "conv5_block16_1_conv (Conv2D)   (None, 8, 8, 128)    176128      conv5_block16_0_relu[0][0]       \n",
            "__________________________________________________________________________________________________\n",
            "conv5_block16_1_bn (BatchNormal (None, 8, 8, 128)    512         conv5_block16_1_conv[0][0]       \n",
            "__________________________________________________________________________________________________\n",
            "conv5_block16_1_relu (Activatio (None, 8, 8, 128)    0           conv5_block16_1_bn[0][0]         \n",
            "__________________________________________________________________________________________________\n",
            "conv5_block16_2_conv (Conv2D)   (None, 8, 8, 32)     36864       conv5_block16_1_relu[0][0]       \n",
            "__________________________________________________________________________________________________\n",
            "conv5_block16_concat (Concatena (None, 8, 8, 1408)   0           conv5_block15_concat[0][0]       \n",
            "                                                                 conv5_block16_2_conv[0][0]       \n",
            "__________________________________________________________________________________________________\n",
            "conv5_block17_0_bn (BatchNormal (None, 8, 8, 1408)   5632        conv5_block16_concat[0][0]       \n",
            "__________________________________________________________________________________________________\n",
            "conv5_block17_0_relu (Activatio (None, 8, 8, 1408)   0           conv5_block17_0_bn[0][0]         \n",
            "__________________________________________________________________________________________________\n",
            "conv5_block17_1_conv (Conv2D)   (None, 8, 8, 128)    180224      conv5_block17_0_relu[0][0]       \n",
            "__________________________________________________________________________________________________\n",
            "conv5_block17_1_bn (BatchNormal (None, 8, 8, 128)    512         conv5_block17_1_conv[0][0]       \n",
            "__________________________________________________________________________________________________\n",
            "conv5_block17_1_relu (Activatio (None, 8, 8, 128)    0           conv5_block17_1_bn[0][0]         \n",
            "__________________________________________________________________________________________________\n",
            "conv5_block17_2_conv (Conv2D)   (None, 8, 8, 32)     36864       conv5_block17_1_relu[0][0]       \n",
            "__________________________________________________________________________________________________\n",
            "conv5_block17_concat (Concatena (None, 8, 8, 1440)   0           conv5_block16_concat[0][0]       \n",
            "                                                                 conv5_block17_2_conv[0][0]       \n",
            "__________________________________________________________________________________________________\n",
            "conv5_block18_0_bn (BatchNormal (None, 8, 8, 1440)   5760        conv5_block17_concat[0][0]       \n",
            "__________________________________________________________________________________________________\n",
            "conv5_block18_0_relu (Activatio (None, 8, 8, 1440)   0           conv5_block18_0_bn[0][0]         \n",
            "__________________________________________________________________________________________________\n",
            "conv5_block18_1_conv (Conv2D)   (None, 8, 8, 128)    184320      conv5_block18_0_relu[0][0]       \n",
            "__________________________________________________________________________________________________\n",
            "conv5_block18_1_bn (BatchNormal (None, 8, 8, 128)    512         conv5_block18_1_conv[0][0]       \n",
            "__________________________________________________________________________________________________\n",
            "conv5_block18_1_relu (Activatio (None, 8, 8, 128)    0           conv5_block18_1_bn[0][0]         \n",
            "__________________________________________________________________________________________________\n",
            "conv5_block18_2_conv (Conv2D)   (None, 8, 8, 32)     36864       conv5_block18_1_relu[0][0]       \n",
            "__________________________________________________________________________________________________\n",
            "conv5_block18_concat (Concatena (None, 8, 8, 1472)   0           conv5_block17_concat[0][0]       \n",
            "                                                                 conv5_block18_2_conv[0][0]       \n",
            "__________________________________________________________________________________________________\n",
            "conv5_block19_0_bn (BatchNormal (None, 8, 8, 1472)   5888        conv5_block18_concat[0][0]       \n",
            "__________________________________________________________________________________________________\n",
            "conv5_block19_0_relu (Activatio (None, 8, 8, 1472)   0           conv5_block19_0_bn[0][0]         \n",
            "__________________________________________________________________________________________________\n",
            "conv5_block19_1_conv (Conv2D)   (None, 8, 8, 128)    188416      conv5_block19_0_relu[0][0]       \n",
            "__________________________________________________________________________________________________\n",
            "conv5_block19_1_bn (BatchNormal (None, 8, 8, 128)    512         conv5_block19_1_conv[0][0]       \n",
            "__________________________________________________________________________________________________\n",
            "conv5_block19_1_relu (Activatio (None, 8, 8, 128)    0           conv5_block19_1_bn[0][0]         \n",
            "__________________________________________________________________________________________________\n",
            "conv5_block19_2_conv (Conv2D)   (None, 8, 8, 32)     36864       conv5_block19_1_relu[0][0]       \n",
            "__________________________________________________________________________________________________\n",
            "conv5_block19_concat (Concatena (None, 8, 8, 1504)   0           conv5_block18_concat[0][0]       \n",
            "                                                                 conv5_block19_2_conv[0][0]       \n",
            "__________________________________________________________________________________________________\n",
            "conv5_block20_0_bn (BatchNormal (None, 8, 8, 1504)   6016        conv5_block19_concat[0][0]       \n",
            "__________________________________________________________________________________________________\n",
            "conv5_block20_0_relu (Activatio (None, 8, 8, 1504)   0           conv5_block20_0_bn[0][0]         \n",
            "__________________________________________________________________________________________________\n",
            "conv5_block20_1_conv (Conv2D)   (None, 8, 8, 128)    192512      conv5_block20_0_relu[0][0]       \n",
            "__________________________________________________________________________________________________\n",
            "conv5_block20_1_bn (BatchNormal (None, 8, 8, 128)    512         conv5_block20_1_conv[0][0]       \n",
            "__________________________________________________________________________________________________\n",
            "conv5_block20_1_relu (Activatio (None, 8, 8, 128)    0           conv5_block20_1_bn[0][0]         \n",
            "__________________________________________________________________________________________________\n",
            "conv5_block20_2_conv (Conv2D)   (None, 8, 8, 32)     36864       conv5_block20_1_relu[0][0]       \n",
            "__________________________________________________________________________________________________\n",
            "conv5_block20_concat (Concatena (None, 8, 8, 1536)   0           conv5_block19_concat[0][0]       \n",
            "                                                                 conv5_block20_2_conv[0][0]       \n",
            "__________________________________________________________________________________________________\n",
            "conv5_block21_0_bn (BatchNormal (None, 8, 8, 1536)   6144        conv5_block20_concat[0][0]       \n",
            "__________________________________________________________________________________________________\n",
            "conv5_block21_0_relu (Activatio (None, 8, 8, 1536)   0           conv5_block21_0_bn[0][0]         \n",
            "__________________________________________________________________________________________________\n",
            "conv5_block21_1_conv (Conv2D)   (None, 8, 8, 128)    196608      conv5_block21_0_relu[0][0]       \n",
            "__________________________________________________________________________________________________\n",
            "conv5_block21_1_bn (BatchNormal (None, 8, 8, 128)    512         conv5_block21_1_conv[0][0]       \n",
            "__________________________________________________________________________________________________\n",
            "conv5_block21_1_relu (Activatio (None, 8, 8, 128)    0           conv5_block21_1_bn[0][0]         \n",
            "__________________________________________________________________________________________________\n",
            "conv5_block21_2_conv (Conv2D)   (None, 8, 8, 32)     36864       conv5_block21_1_relu[0][0]       \n",
            "__________________________________________________________________________________________________\n",
            "conv5_block21_concat (Concatena (None, 8, 8, 1568)   0           conv5_block20_concat[0][0]       \n",
            "                                                                 conv5_block21_2_conv[0][0]       \n",
            "__________________________________________________________________________________________________\n",
            "conv5_block22_0_bn (BatchNormal (None, 8, 8, 1568)   6272        conv5_block21_concat[0][0]       \n",
            "__________________________________________________________________________________________________\n",
            "conv5_block22_0_relu (Activatio (None, 8, 8, 1568)   0           conv5_block22_0_bn[0][0]         \n",
            "__________________________________________________________________________________________________\n",
            "conv5_block22_1_conv (Conv2D)   (None, 8, 8, 128)    200704      conv5_block22_0_relu[0][0]       \n",
            "__________________________________________________________________________________________________\n",
            "conv5_block22_1_bn (BatchNormal (None, 8, 8, 128)    512         conv5_block22_1_conv[0][0]       \n",
            "__________________________________________________________________________________________________\n",
            "conv5_block22_1_relu (Activatio (None, 8, 8, 128)    0           conv5_block22_1_bn[0][0]         \n",
            "__________________________________________________________________________________________________\n",
            "conv5_block22_2_conv (Conv2D)   (None, 8, 8, 32)     36864       conv5_block22_1_relu[0][0]       \n",
            "__________________________________________________________________________________________________\n",
            "conv5_block22_concat (Concatena (None, 8, 8, 1600)   0           conv5_block21_concat[0][0]       \n",
            "                                                                 conv5_block22_2_conv[0][0]       \n",
            "__________________________________________________________________________________________________\n",
            "conv5_block23_0_bn (BatchNormal (None, 8, 8, 1600)   6400        conv5_block22_concat[0][0]       \n",
            "__________________________________________________________________________________________________\n",
            "conv5_block23_0_relu (Activatio (None, 8, 8, 1600)   0           conv5_block23_0_bn[0][0]         \n",
            "__________________________________________________________________________________________________\n",
            "conv5_block23_1_conv (Conv2D)   (None, 8, 8, 128)    204800      conv5_block23_0_relu[0][0]       \n",
            "__________________________________________________________________________________________________\n",
            "conv5_block23_1_bn (BatchNormal (None, 8, 8, 128)    512         conv5_block23_1_conv[0][0]       \n",
            "__________________________________________________________________________________________________\n",
            "conv5_block23_1_relu (Activatio (None, 8, 8, 128)    0           conv5_block23_1_bn[0][0]         \n",
            "__________________________________________________________________________________________________\n",
            "conv5_block23_2_conv (Conv2D)   (None, 8, 8, 32)     36864       conv5_block23_1_relu[0][0]       \n",
            "__________________________________________________________________________________________________\n",
            "conv5_block23_concat (Concatena (None, 8, 8, 1632)   0           conv5_block22_concat[0][0]       \n",
            "                                                                 conv5_block23_2_conv[0][0]       \n",
            "__________________________________________________________________________________________________\n",
            "conv5_block24_0_bn (BatchNormal (None, 8, 8, 1632)   6528        conv5_block23_concat[0][0]       \n",
            "__________________________________________________________________________________________________\n",
            "conv5_block24_0_relu (Activatio (None, 8, 8, 1632)   0           conv5_block24_0_bn[0][0]         \n",
            "__________________________________________________________________________________________________\n",
            "conv5_block24_1_conv (Conv2D)   (None, 8, 8, 128)    208896      conv5_block24_0_relu[0][0]       \n",
            "__________________________________________________________________________________________________\n",
            "conv5_block24_1_bn (BatchNormal (None, 8, 8, 128)    512         conv5_block24_1_conv[0][0]       \n",
            "__________________________________________________________________________________________________\n",
            "conv5_block24_1_relu (Activatio (None, 8, 8, 128)    0           conv5_block24_1_bn[0][0]         \n",
            "__________________________________________________________________________________________________\n",
            "conv5_block24_2_conv (Conv2D)   (None, 8, 8, 32)     36864       conv5_block24_1_relu[0][0]       \n",
            "__________________________________________________________________________________________________\n",
            "conv5_block24_concat (Concatena (None, 8, 8, 1664)   0           conv5_block23_concat[0][0]       \n",
            "                                                                 conv5_block24_2_conv[0][0]       \n",
            "__________________________________________________________________________________________________\n",
            "conv5_block25_0_bn (BatchNormal (None, 8, 8, 1664)   6656        conv5_block24_concat[0][0]       \n",
            "__________________________________________________________________________________________________\n",
            "conv5_block25_0_relu (Activatio (None, 8, 8, 1664)   0           conv5_block25_0_bn[0][0]         \n",
            "__________________________________________________________________________________________________\n",
            "conv5_block25_1_conv (Conv2D)   (None, 8, 8, 128)    212992      conv5_block25_0_relu[0][0]       \n",
            "__________________________________________________________________________________________________\n",
            "conv5_block25_1_bn (BatchNormal (None, 8, 8, 128)    512         conv5_block25_1_conv[0][0]       \n",
            "__________________________________________________________________________________________________\n",
            "conv5_block25_1_relu (Activatio (None, 8, 8, 128)    0           conv5_block25_1_bn[0][0]         \n",
            "__________________________________________________________________________________________________\n",
            "conv5_block25_2_conv (Conv2D)   (None, 8, 8, 32)     36864       conv5_block25_1_relu[0][0]       \n",
            "__________________________________________________________________________________________________\n",
            "conv5_block25_concat (Concatena (None, 8, 8, 1696)   0           conv5_block24_concat[0][0]       \n",
            "                                                                 conv5_block25_2_conv[0][0]       \n",
            "__________________________________________________________________________________________________\n",
            "conv5_block26_0_bn (BatchNormal (None, 8, 8, 1696)   6784        conv5_block25_concat[0][0]       \n",
            "__________________________________________________________________________________________________\n",
            "conv5_block26_0_relu (Activatio (None, 8, 8, 1696)   0           conv5_block26_0_bn[0][0]         \n",
            "__________________________________________________________________________________________________\n",
            "conv5_block26_1_conv (Conv2D)   (None, 8, 8, 128)    217088      conv5_block26_0_relu[0][0]       \n",
            "__________________________________________________________________________________________________\n",
            "conv5_block26_1_bn (BatchNormal (None, 8, 8, 128)    512         conv5_block26_1_conv[0][0]       \n",
            "__________________________________________________________________________________________________\n",
            "conv5_block26_1_relu (Activatio (None, 8, 8, 128)    0           conv5_block26_1_bn[0][0]         \n",
            "__________________________________________________________________________________________________\n",
            "conv5_block26_2_conv (Conv2D)   (None, 8, 8, 32)     36864       conv5_block26_1_relu[0][0]       \n",
            "__________________________________________________________________________________________________\n",
            "conv5_block26_concat (Concatena (None, 8, 8, 1728)   0           conv5_block25_concat[0][0]       \n",
            "                                                                 conv5_block26_2_conv[0][0]       \n",
            "__________________________________________________________________________________________________\n",
            "conv5_block27_0_bn (BatchNormal (None, 8, 8, 1728)   6912        conv5_block26_concat[0][0]       \n",
            "__________________________________________________________________________________________________\n",
            "conv5_block27_0_relu (Activatio (None, 8, 8, 1728)   0           conv5_block27_0_bn[0][0]         \n",
            "__________________________________________________________________________________________________\n",
            "conv5_block27_1_conv (Conv2D)   (None, 8, 8, 128)    221184      conv5_block27_0_relu[0][0]       \n",
            "__________________________________________________________________________________________________\n",
            "conv5_block27_1_bn (BatchNormal (None, 8, 8, 128)    512         conv5_block27_1_conv[0][0]       \n",
            "__________________________________________________________________________________________________\n",
            "conv5_block27_1_relu (Activatio (None, 8, 8, 128)    0           conv5_block27_1_bn[0][0]         \n",
            "__________________________________________________________________________________________________\n",
            "conv5_block27_2_conv (Conv2D)   (None, 8, 8, 32)     36864       conv5_block27_1_relu[0][0]       \n",
            "__________________________________________________________________________________________________\n",
            "conv5_block27_concat (Concatena (None, 8, 8, 1760)   0           conv5_block26_concat[0][0]       \n",
            "                                                                 conv5_block27_2_conv[0][0]       \n",
            "__________________________________________________________________________________________________\n",
            "conv5_block28_0_bn (BatchNormal (None, 8, 8, 1760)   7040        conv5_block27_concat[0][0]       \n",
            "__________________________________________________________________________________________________\n",
            "conv5_block28_0_relu (Activatio (None, 8, 8, 1760)   0           conv5_block28_0_bn[0][0]         \n",
            "__________________________________________________________________________________________________\n",
            "conv5_block28_1_conv (Conv2D)   (None, 8, 8, 128)    225280      conv5_block28_0_relu[0][0]       \n",
            "__________________________________________________________________________________________________\n",
            "conv5_block28_1_bn (BatchNormal (None, 8, 8, 128)    512         conv5_block28_1_conv[0][0]       \n",
            "__________________________________________________________________________________________________\n",
            "conv5_block28_1_relu (Activatio (None, 8, 8, 128)    0           conv5_block28_1_bn[0][0]         \n",
            "__________________________________________________________________________________________________\n",
            "conv5_block28_2_conv (Conv2D)   (None, 8, 8, 32)     36864       conv5_block28_1_relu[0][0]       \n",
            "__________________________________________________________________________________________________\n",
            "conv5_block28_concat (Concatena (None, 8, 8, 1792)   0           conv5_block27_concat[0][0]       \n",
            "                                                                 conv5_block28_2_conv[0][0]       \n",
            "__________________________________________________________________________________________________\n",
            "conv5_block29_0_bn (BatchNormal (None, 8, 8, 1792)   7168        conv5_block28_concat[0][0]       \n",
            "__________________________________________________________________________________________________\n",
            "conv5_block29_0_relu (Activatio (None, 8, 8, 1792)   0           conv5_block29_0_bn[0][0]         \n",
            "__________________________________________________________________________________________________\n",
            "conv5_block29_1_conv (Conv2D)   (None, 8, 8, 128)    229376      conv5_block29_0_relu[0][0]       \n",
            "__________________________________________________________________________________________________\n",
            "conv5_block29_1_bn (BatchNormal (None, 8, 8, 128)    512         conv5_block29_1_conv[0][0]       \n",
            "__________________________________________________________________________________________________\n",
            "conv5_block29_1_relu (Activatio (None, 8, 8, 128)    0           conv5_block29_1_bn[0][0]         \n",
            "__________________________________________________________________________________________________\n",
            "conv5_block29_2_conv (Conv2D)   (None, 8, 8, 32)     36864       conv5_block29_1_relu[0][0]       \n",
            "__________________________________________________________________________________________________\n",
            "conv5_block29_concat (Concatena (None, 8, 8, 1824)   0           conv5_block28_concat[0][0]       \n",
            "                                                                 conv5_block29_2_conv[0][0]       \n",
            "__________________________________________________________________________________________________\n",
            "conv5_block30_0_bn (BatchNormal (None, 8, 8, 1824)   7296        conv5_block29_concat[0][0]       \n",
            "__________________________________________________________________________________________________\n",
            "conv5_block30_0_relu (Activatio (None, 8, 8, 1824)   0           conv5_block30_0_bn[0][0]         \n",
            "__________________________________________________________________________________________________\n",
            "conv5_block30_1_conv (Conv2D)   (None, 8, 8, 128)    233472      conv5_block30_0_relu[0][0]       \n",
            "__________________________________________________________________________________________________\n",
            "conv5_block30_1_bn (BatchNormal (None, 8, 8, 128)    512         conv5_block30_1_conv[0][0]       \n",
            "__________________________________________________________________________________________________\n",
            "conv5_block30_1_relu (Activatio (None, 8, 8, 128)    0           conv5_block30_1_bn[0][0]         \n",
            "__________________________________________________________________________________________________\n",
            "conv5_block30_2_conv (Conv2D)   (None, 8, 8, 32)     36864       conv5_block30_1_relu[0][0]       \n",
            "__________________________________________________________________________________________________\n",
            "conv5_block30_concat (Concatena (None, 8, 8, 1856)   0           conv5_block29_concat[0][0]       \n",
            "                                                                 conv5_block30_2_conv[0][0]       \n",
            "__________________________________________________________________________________________________\n",
            "conv5_block31_0_bn (BatchNormal (None, 8, 8, 1856)   7424        conv5_block30_concat[0][0]       \n",
            "__________________________________________________________________________________________________\n",
            "conv5_block31_0_relu (Activatio (None, 8, 8, 1856)   0           conv5_block31_0_bn[0][0]         \n",
            "__________________________________________________________________________________________________\n",
            "conv5_block31_1_conv (Conv2D)   (None, 8, 8, 128)    237568      conv5_block31_0_relu[0][0]       \n",
            "__________________________________________________________________________________________________\n",
            "conv5_block31_1_bn (BatchNormal (None, 8, 8, 128)    512         conv5_block31_1_conv[0][0]       \n",
            "__________________________________________________________________________________________________\n",
            "conv5_block31_1_relu (Activatio (None, 8, 8, 128)    0           conv5_block31_1_bn[0][0]         \n",
            "__________________________________________________________________________________________________\n",
            "conv5_block31_2_conv (Conv2D)   (None, 8, 8, 32)     36864       conv5_block31_1_relu[0][0]       \n",
            "__________________________________________________________________________________________________\n",
            "conv5_block31_concat (Concatena (None, 8, 8, 1888)   0           conv5_block30_concat[0][0]       \n",
            "                                                                 conv5_block31_2_conv[0][0]       \n",
            "__________________________________________________________________________________________________\n",
            "conv5_block32_0_bn (BatchNormal (None, 8, 8, 1888)   7552        conv5_block31_concat[0][0]       \n",
            "__________________________________________________________________________________________________\n",
            "conv5_block32_0_relu (Activatio (None, 8, 8, 1888)   0           conv5_block32_0_bn[0][0]         \n",
            "__________________________________________________________________________________________________\n",
            "conv5_block32_1_conv (Conv2D)   (None, 8, 8, 128)    241664      conv5_block32_0_relu[0][0]       \n",
            "__________________________________________________________________________________________________\n",
            "conv5_block32_1_bn (BatchNormal (None, 8, 8, 128)    512         conv5_block32_1_conv[0][0]       \n",
            "__________________________________________________________________________________________________\n",
            "conv5_block32_1_relu (Activatio (None, 8, 8, 128)    0           conv5_block32_1_bn[0][0]         \n",
            "__________________________________________________________________________________________________\n",
            "conv5_block32_2_conv (Conv2D)   (None, 8, 8, 32)     36864       conv5_block32_1_relu[0][0]       \n",
            "__________________________________________________________________________________________________\n",
            "conv5_block32_concat (Concatena (None, 8, 8, 1920)   0           conv5_block31_concat[0][0]       \n",
            "                                                                 conv5_block32_2_conv[0][0]       \n",
            "__________________________________________________________________________________________________\n",
            "bn (BatchNormalization)         (None, 8, 8, 1920)   7680        conv5_block32_concat[0][0]       \n",
            "__________________________________________________________________________________________________\n",
            "relu (Activation)               (None, 8, 8, 1920)   0           bn[0][0]                         \n",
            "__________________________________________________________________________________________________\n",
            "flatten (Flatten)               (None, 122880)       0           relu[0][0]                       \n",
            "__________________________________________________________________________________________________\n",
            "dense (Dense)                   (None, 1024)         125830144   flatten[0][0]                    \n",
            "__________________________________________________________________________________________________\n",
            "dropout (Dropout)               (None, 1024)         0           dense[0][0]                      \n",
            "__________________________________________________________________________________________________\n",
            "dense_1 (Dense)                 (None, 1024)         1049600     dropout[0][0]                    \n",
            "__________________________________________________________________________________________________\n",
            "dropout_1 (Dropout)             (None, 1024)         0           dense_1[0][0]                    \n",
            "__________________________________________________________________________________________________\n",
            "dense_2 (Dense)                 (None, 2048)         2099200     dropout_1[0][0]                  \n",
            "__________________________________________________________________________________________________\n",
            "dropout_2 (Dropout)             (None, 2048)         0           dense_2[0][0]                    \n",
            "__________________________________________________________________________________________________\n",
            "dense_3 (Dense)                 (None, 2)            4098        dropout_2[0][0]                  \n",
            "==================================================================================================\n",
            "Total params: 147,305,026\n",
            "Trainable params: 147,075,970\n",
            "Non-trainable params: 229,056\n",
            "__________________________________________________________________________________________________\n"
          ],
          "name": "stdout"
        }
      ]
    },
    {
      "cell_type": "code",
      "metadata": {
        "colab": {
          "base_uri": "https://localhost:8080/",
          "height": 36
        },
        "id": "WgomlDGDqn6-",
        "outputId": "b6d0a5a2-9a9f-4ad3-9cd0-63b7b0ac64d8"
      },
      "source": [
        "'''\n",
        "tf.keras.utils.plot_model(\n",
        "    model, to_file='model.png', show_shapes=True, show_dtype=False,\n",
        "    show_layer_names=True, rankdir='TB', expand_nested=True, dpi=64\n",
        ")\n",
        "#'''"
      ],
      "execution_count": 20,
      "outputs": [
        {
          "output_type": "execute_result",
          "data": {
            "application/vnd.google.colaboratory.intrinsic+json": {
              "type": "string"
            },
            "text/plain": [
              "\"\\ntf.keras.utils.plot_model(\\n    model, to_file='model.png', show_shapes=True, show_dtype=False,\\n    show_layer_names=True, rankdir='TB', expand_nested=True, dpi=64\\n)\\n#\""
            ]
          },
          "metadata": {
            "tags": []
          },
          "execution_count": 20
        }
      ]
    },
    {
      "cell_type": "code",
      "metadata": {
        "colab": {
          "base_uri": "https://localhost:8080/"
        },
        "id": "ozx7Z-ZiUE-2",
        "outputId": "dbfd2dd0-3790-410a-bea6-317d1ce3fc77"
      },
      "source": [
        "count_trainable = 0\n",
        "count_non_trainable = 0\n",
        "\n",
        "#'''\n",
        "if pointTrainableAfter == \"allDefault\":\n",
        "    for layer in model.layers:\n",
        "        layer.trainable=True\n",
        "        count_trainable += 1\n",
        "elif pointTrainableAfter > 0:\n",
        "    for layer in model.layers[:pointTrainableAfter]: # [:-pointTrainableAfter]\n",
        "        layer.trainable=False\n",
        "        count_non_trainable += 1\n",
        "    for layer in model.layers[pointTrainableAfter:]: # [-pointTrainableAfter:]\n",
        "        layer.trainable=True\n",
        "        count_trainable += 1\n",
        "#'''\n",
        "\n",
        "'''\n",
        "for layer in model.layers:\n",
        "    layer.trainable=True\n",
        "    count_trainable += 1\n",
        "#'''\n",
        "\n",
        "print(\"count_non_trainable =\", count_non_trainable)\n",
        "print(\"count_trainable =\", count_trainable)\n",
        "print(\"Total number of layers =\", count_non_trainable+count_trainable)"
      ],
      "execution_count": 21,
      "outputs": [
        {
          "output_type": "stream",
          "text": [
            "count_non_trainable = 0\n",
            "count_trainable = 715\n",
            "Total number of layers = 715\n"
          ],
          "name": "stdout"
        }
      ]
    },
    {
      "cell_type": "code",
      "metadata": {
        "colab": {
          "base_uri": "https://localhost:8080/",
          "height": 72
        },
        "id": "aqwYD5TGPxyV",
        "outputId": "96b31b53-d851-46d6-a029-0c152a2ea2c7"
      },
      "source": [
        "'''\n",
        "checkpointer_name  = \"weights.\"+dataset+\".pad\"+str(pad)+\".\"+impl_type+\".wInit.\"+str(init_weights)+\".TrainableAfter.\"+str(pointTrainableAfter)+\\\n",
        "                     modelExt+\".opt.\"+OPTIMIZER+\".drop.\"+str(DROPOUT)+\".batch\"+str(BATCH_SIZE)+ext+\".hdf5\"\n",
        "log_name = \"log.\"+checkpointer_name[8:-5]+\".log\"\n",
        "\n",
        "print('checkpointer_name =', checkpointer_name)\n",
        "print('log_name =', log_name)\n",
        "#'''"
      ],
      "execution_count": 22,
      "outputs": [
        {
          "output_type": "execute_result",
          "data": {
            "application/vnd.google.colaboratory.intrinsic+json": {
              "type": "string"
            },
            "text/plain": [
              "'\\ncheckpointer_name  = \"weights.\"+dataset+\".pad\"+str(pad)+\".\"+impl_type+\".wInit.\"+str(init_weights)+\".TrainableAfter.\"+str(pointTrainableAfter)+                     modelExt+\".opt.\"+OPTIMIZER+\".drop.\"+str(DROPOUT)+\".batch\"+str(BATCH_SIZE)+ext+\".hdf5\"\\nlog_name = \"log.\"+checkpointer_name[8:-5]+\".log\"\\n\\nprint(\\'checkpointer_name =\\', checkpointer_name)\\nprint(\\'log_name =\\', log_name)\\n#'"
            ]
          },
          "metadata": {
            "tags": []
          },
          "execution_count": 22
        }
      ]
    },
    {
      "cell_type": "code",
      "metadata": {
        "colab": {
          "base_uri": "https://localhost:8080/"
        },
        "id": "3T7w_lC1QCPh",
        "outputId": "5bb182ab-fdee-4f68-d83c-2a3db0fac673"
      },
      "source": [
        "# \"RMSProp\" \"SGD\" \"Adam\" \"Adamax\" \"Adadelta\" \"Adagrad\" \"SGD\"\n",
        "#optimizer = tf.keras.optimizers.RMSprop(lr = LEARNING_RATE, epsilon=EPSILON)\n",
        "\n",
        "if OPTIMIZER == \"RMSProp\":\n",
        "    optimizer = tf.keras.optimizers.RMSprop(lr = LEARNING_RATE, epsilon=EPSILON)\n",
        "elif OPTIMIZER == \"Adam\":\n",
        "    optimizer = tf.keras.optimizers.Adam(lr = LEARNING_RATE, epsilon=EPSILON, beta_1=0.9, beta_2=0.999)\n",
        "elif OPTIMIZER == \"Adamax\":\n",
        "    optimizer = tf.keras.optimizers.Adamax(lr = LEARNING_RATE, epsilon=EPSILON, beta_1=0.9, beta_2=0.999)\n",
        "elif OPTIMIZER == \"Adadelta\":\n",
        "    optimizer = tf.keras.optimizers.Adadelta(lr = LEARNING_RATE, epsilon=EPSILON, rho=0.95)\n",
        "elif OPTIMIZER == \"Adagrad\":\n",
        "    optimizer = tf.keras.optimizers.Adagrad(lr = LEARNING_RATE, epsilon=EPSILON, initial_accumulator_value=0.1)\n",
        "elif OPTIMIZER == \"SGD\":\n",
        "    optimizer = tf.keras.optimizers.SGD(lr = LEARNING_RATE, momentum=0.9)\n",
        "\n",
        "model.compile(\n",
        "    #optimizer=OPTIMIZER,\n",
        "    optimizer=optimizer,\n",
        "    loss=LOSS,\n",
        "    metrics=['accuracy']\n",
        ")\n",
        "\n",
        "print(\"OPTIMIZER =\", OPTIMIZER)"
      ],
      "execution_count": 23,
      "outputs": [
        {
          "output_type": "stream",
          "text": [
            "OPTIMIZER = Adam\n"
          ],
          "name": "stdout"
        },
        {
          "output_type": "stream",
          "text": [
            "/usr/local/lib/python3.7/dist-packages/tensorflow/python/keras/optimizer_v2/optimizer_v2.py:375: UserWarning: The `lr` argument is deprecated, use `learning_rate` instead.\n",
            "  \"The `lr` argument is deprecated, use `learning_rate` instead.\")\n"
          ],
          "name": "stderr"
        }
      ]
    },
    {
      "cell_type": "code",
      "metadata": {
        "id": "OdySVEG3QCpv"
      },
      "source": [
        "# save the best model with least validation loss\n",
        "checkpointer = ModelCheckpoint(filepath = work_dir+checkpointer_name, \n",
        "                               #monitor='val_accuracy',\n",
        "                               monitor='val_loss',\n",
        "                               save_weights_only=False,  \n",
        "                               mode='auto', \n",
        "                               verbose = 1, # 0 = silent, 1 = progress bar, 2 = one line per epoch\n",
        "                               save_best_only =False\n",
        "                               )\n",
        "checkpointer_best = ModelCheckpoint(filepath = work_dir+\"best_\"+checkpointer_name, \n",
        "                                    monitor='val_loss', \n",
        "                                    save_weights_only=False,\n",
        "                                    mode='auto',  \n",
        "                                    verbose = 1, \n",
        "                                    save_best_only = True\n",
        "                                    )\n",
        "early_stopping = EarlyStopping(monitor='loss', patience=early_stop_after_epochs)"
      ],
      "execution_count": 24,
      "outputs": []
    },
    {
      "cell_type": "code",
      "metadata": {
        "colab": {
          "base_uri": "https://localhost:8080/"
        },
        "id": "Fq3iXmYXQHNL",
        "outputId": "25fb4164-8de4-4de7-f749-3098a0a9fe29"
      },
      "source": [
        "'''\n",
        "if 'count_no_improvement' not in globals():\n",
        "    count_no_improvement = 0\n",
        "    print(\"count_no_improvement =\", count_no_improvement)\n",
        "#'''\n",
        "#'''\n",
        "count_no_improvement = 0\n",
        "epoch_initial = False\n",
        "#'''\n",
        "min_delta = 0.0009\n",
        "print(\"count_no_improvement =\", count_no_improvement)\n",
        "\n",
        "def checkBestPerformance(epoch, logs):\n",
        "    save_filepath = work_dir+\"best_\"+checkpointer_name\n",
        "\n",
        "    global epoch_initial\n",
        "    if epoch_initial == True:\n",
        "        epoch_initial = False\n",
        "        model.save(filepath = save_filepath)\n",
        "        print(\". Model saved!\")\n",
        "\n",
        "    elif epoch_initial == False:\n",
        "        global count_no_improvement\n",
        "\n",
        "        log_data = pd.read_csv(work_dir+log_name, sep=',', usecols=['val_loss', 'val_accuracy'], engine='python')\n",
        "        min_val_loss = float(str(min(log_data.val_loss.values))[:6])\n",
        "        max_val_acc = float(str(max(log_data.val_accuracy.values))[:6])\n",
        "\n",
        "        current_val_acc = float(str(logs['val_accuracy'])[:6])\n",
        "        current_val_loss = float(str(logs['val_loss'])[:6])\n",
        "\n",
        "        if (current_val_loss < min_val_loss) and (abs(current_val_loss-min_val_loss) >= min_delta):\n",
        "            count_no_improvement = 0\n",
        "            model.save(filepath = save_filepath)\n",
        "            print(\"\\nval_loss decreased from\",min_val_loss,\" to\",current_val_loss,\"( val_accuracy =\",current_val_acc,\").\")\n",
        "\n",
        "        elif (current_val_loss==min_val_loss) and (current_val_acc>max_val_acc):\n",
        "            count_no_improvement = 0\n",
        "            model.save(filepath = save_filepath)\n",
        "            print(\"\\nval_accuracy increased to\", current_val_acc, \".\")\n",
        "\n",
        "        else:\n",
        "            count_no_improvement += 1\n",
        "            print(\". count_no_improvement =\", count_no_improvement)\n",
        "\n",
        "        if count_no_improvement >= early_stop_after_epochs:\n",
        "            global list_callbacks\n",
        "            del list_callbacks, count_no_improvement\n",
        "            #print(\"count_no_improvement =\", count_no_improvement, \"... list_callbacks =\", list_callbacks)"
      ],
      "execution_count": 25,
      "outputs": [
        {
          "output_type": "stream",
          "text": [
            "count_no_improvement = 0\n"
          ],
          "name": "stdout"
        }
      ]
    },
    {
      "cell_type": "code",
      "metadata": {
        "colab": {
          "base_uri": "https://localhost:8080/"
        },
        "id": "YYewyuDiREFZ",
        "outputId": "ea8731f4-b5ea-4465-a106-335a3b993cb8"
      },
      "source": [
        "epochs_completed = 0\n",
        "list_callbacks = []\n",
        "csv_logger = CSVLogger(work_dir+log_name, separator=',', append=True)\n",
        "\n",
        "#if 'list_callbacks' in globals():\n",
        "#    del list_callbacks\n",
        "\n",
        "try:\n",
        "    log_data = pd.read_csv(work_dir+log_name, sep=',', usecols=['epoch'], engine='python')\n",
        "    epochs_completed = log_data.shape[0]\n",
        "\n",
        "    #if epochs_completed > 0:\n",
        "    model = load_model(work_dir+checkpointer_name)\n",
        "    list_callbacks = [checkpointer, LambdaCallback(on_epoch_end=checkBestPerformance), csv_logger]\n",
        "    print(\"epochs_completed =\", epochs_completed)\n",
        "\n",
        "except Exception as error:\n",
        "    if epochs_completed == 0:\n",
        "        # list_callbacks = [checkpointer, checkpointer_best, csv_logger, early_stopping] \n",
        "        list_callbacks = [checkpointer, LambdaCallback(on_epoch_end=checkBestPerformance), csv_logger]\n",
        "        print(\"epochs_completed =\", epochs_completed)\n",
        "    elif epochs_completed > 0:\n",
        "        print(error)\n",
        "\n",
        "print('checkpointer_name =', checkpointer_name)"
      ],
      "execution_count": 26,
      "outputs": [
        {
          "output_type": "stream",
          "text": [
            "epochs_completed = 3\n",
            "checkpointer_name = weights.COVIDx_CXR_2_Kaggle.rgb.(256, 256).DataFlow.pad0.TransferLearning3D.DenseNet201.wInit.imagenet.TrainableAfter.allDefault.Dense.1024.1024.2048.actF.elu.opt.Adam.drop.0.5.batch16.Flatten.l2.0.001.run_1.hdf5\n"
          ],
          "name": "stdout"
        }
      ]
    },
    {
      "cell_type": "code",
      "metadata": {
        "colab": {
          "base_uri": "https://localhost:8080/",
          "height": 749
        },
        "id": "6JKqrHnwRGGz",
        "outputId": "84898a0d-c90e-4f72-8336-6b9be74ab233"
      },
      "source": [
        "print('checkpointer_name =', checkpointer_name)\n",
        "print(\"Previously completed epochs =\", epochs_completed)\n",
        "print(\"count_no_improvement =\", count_no_improvement, \"\\n\")\n",
        "\n",
        "#'''\n",
        "try:\n",
        "    start_time = time.time()\n",
        "    history = model.fit(train_generator, \n",
        "                        steps_per_epoch=total_train_data // BATCH_SIZE,\n",
        "                        shuffle=True, \n",
        "                        epochs = NUM_EPOCHS - epochs_completed, \n",
        "                        validation_data=test_generator,\n",
        "                        validation_steps=total_test_data // BATCH_SIZE,\n",
        "                        callbacks=list_callbacks\n",
        "                        )\n",
        "    elapsed_time = time.time() - start_time \n",
        "    print(\"\\nTime elapsed: \", elapsed_time)\n",
        "\n",
        "except Exception as error:\n",
        "    print(\"\\nError:\", error)\n",
        "#'''"
      ],
      "execution_count": 27,
      "outputs": [
        {
          "output_type": "stream",
          "text": [
            "checkpointer_name = weights.COVIDx_CXR_2_Kaggle.rgb.(256, 256).DataFlow.pad0.TransferLearning3D.DenseNet201.wInit.imagenet.TrainableAfter.allDefault.Dense.1024.1024.2048.actF.elu.opt.Adam.drop.0.5.batch16.Flatten.l2.0.001.run_1.hdf5\n",
            "Previously completed epochs = 3\n",
            "count_no_improvement = 0 \n",
            "\n",
            "Epoch 1/297\n",
            "996/996 [==============================] - 6825s 7s/step - loss: 3.4658 - accuracy: 0.9930 - val_loss: 3.3712 - val_accuracy: 0.9875\n",
            "\n",
            "Epoch 00001: saving model to drive/My Drive/COVID_19_Dataset/Records/weights.COVIDx_CXR_2_Kaggle.rgb.(256, 256).DataFlow.pad0.TransferLearning3D.DenseNet201.wInit.imagenet.TrainableAfter.allDefault.Dense.1024.1024.2048.actF.elu.opt.Adam.drop.0.5.batch16.Flatten.l2.0.001.run_1.hdf5\n",
            "\n",
            "val_loss decreased from 3.8218  to 3.3711 ( val_accuracy = 0.9875 ).\n",
            "Epoch 2/297\n",
            "996/996 [==============================] - 6097s 6s/step - loss: 3.2175 - accuracy: 0.9959 - val_loss: 3.1182 - val_accuracy: 0.9900\n",
            "\n",
            "Epoch 00002: saving model to drive/My Drive/COVID_19_Dataset/Records/weights.COVIDx_CXR_2_Kaggle.rgb.(256, 256).DataFlow.pad0.TransferLearning3D.DenseNet201.wInit.imagenet.TrainableAfter.allDefault.Dense.1024.1024.2048.actF.elu.opt.Adam.drop.0.5.batch16.Flatten.l2.0.001.run_1.hdf5\n",
            "\n",
            "val_loss decreased from 3.3711  to 3.1182 ( val_accuracy = 0.99 ).\n",
            "Epoch 3/297\n",
            "207/996 [=====>........................] - ETA: 1:16:30 - loss: 3.0751 - accuracy: 0.9982"
          ],
          "name": "stdout"
        },
        {
          "output_type": "error",
          "ename": "KeyboardInterrupt",
          "evalue": "ignored",
          "traceback": [
            "\u001b[0;31m---------------------------------------------------------------------------\u001b[0m",
            "\u001b[0;31mKeyboardInterrupt\u001b[0m                         Traceback (most recent call last)",
            "\u001b[0;32m<ipython-input-27-4cad52abddaa>\u001b[0m in \u001b[0;36m<module>\u001b[0;34m()\u001b[0m\n\u001b[1;32m     12\u001b[0m                         \u001b[0mvalidation_data\u001b[0m\u001b[0;34m=\u001b[0m\u001b[0mtest_generator\u001b[0m\u001b[0;34m,\u001b[0m\u001b[0;34m\u001b[0m\u001b[0;34m\u001b[0m\u001b[0m\n\u001b[1;32m     13\u001b[0m                         \u001b[0mvalidation_steps\u001b[0m\u001b[0;34m=\u001b[0m\u001b[0mtotal_test_data\u001b[0m \u001b[0;34m//\u001b[0m \u001b[0mBATCH_SIZE\u001b[0m\u001b[0;34m,\u001b[0m\u001b[0;34m\u001b[0m\u001b[0;34m\u001b[0m\u001b[0m\n\u001b[0;32m---> 14\u001b[0;31m                         \u001b[0mcallbacks\u001b[0m\u001b[0;34m=\u001b[0m\u001b[0mlist_callbacks\u001b[0m\u001b[0;34m\u001b[0m\u001b[0;34m\u001b[0m\u001b[0m\n\u001b[0m\u001b[1;32m     15\u001b[0m                         )\n\u001b[1;32m     16\u001b[0m     \u001b[0melapsed_time\u001b[0m \u001b[0;34m=\u001b[0m \u001b[0mtime\u001b[0m\u001b[0;34m.\u001b[0m\u001b[0mtime\u001b[0m\u001b[0;34m(\u001b[0m\u001b[0;34m)\u001b[0m \u001b[0;34m-\u001b[0m \u001b[0mstart_time\u001b[0m\u001b[0;34m\u001b[0m\u001b[0;34m\u001b[0m\u001b[0m\n",
            "\u001b[0;32m/usr/local/lib/python3.7/dist-packages/tensorflow/python/keras/engine/training.py\u001b[0m in \u001b[0;36mfit\u001b[0;34m(self, x, y, batch_size, epochs, verbose, callbacks, validation_split, validation_data, shuffle, class_weight, sample_weight, initial_epoch, steps_per_epoch, validation_steps, validation_batch_size, validation_freq, max_queue_size, workers, use_multiprocessing)\u001b[0m\n\u001b[1;32m   1181\u001b[0m                 _r=1):\n\u001b[1;32m   1182\u001b[0m               \u001b[0mcallbacks\u001b[0m\u001b[0;34m.\u001b[0m\u001b[0mon_train_batch_begin\u001b[0m\u001b[0;34m(\u001b[0m\u001b[0mstep\u001b[0m\u001b[0;34m)\u001b[0m\u001b[0;34m\u001b[0m\u001b[0;34m\u001b[0m\u001b[0m\n\u001b[0;32m-> 1183\u001b[0;31m               \u001b[0mtmp_logs\u001b[0m \u001b[0;34m=\u001b[0m \u001b[0mself\u001b[0m\u001b[0;34m.\u001b[0m\u001b[0mtrain_function\u001b[0m\u001b[0;34m(\u001b[0m\u001b[0miterator\u001b[0m\u001b[0;34m)\u001b[0m\u001b[0;34m\u001b[0m\u001b[0;34m\u001b[0m\u001b[0m\n\u001b[0m\u001b[1;32m   1184\u001b[0m               \u001b[0;32mif\u001b[0m \u001b[0mdata_handler\u001b[0m\u001b[0;34m.\u001b[0m\u001b[0mshould_sync\u001b[0m\u001b[0;34m:\u001b[0m\u001b[0;34m\u001b[0m\u001b[0;34m\u001b[0m\u001b[0m\n\u001b[1;32m   1185\u001b[0m                 \u001b[0mcontext\u001b[0m\u001b[0;34m.\u001b[0m\u001b[0masync_wait\u001b[0m\u001b[0;34m(\u001b[0m\u001b[0;34m)\u001b[0m\u001b[0;34m\u001b[0m\u001b[0;34m\u001b[0m\u001b[0m\n",
            "\u001b[0;32m/usr/local/lib/python3.7/dist-packages/tensorflow/python/eager/def_function.py\u001b[0m in \u001b[0;36m__call__\u001b[0;34m(self, *args, **kwds)\u001b[0m\n\u001b[1;32m    887\u001b[0m \u001b[0;34m\u001b[0m\u001b[0m\n\u001b[1;32m    888\u001b[0m       \u001b[0;32mwith\u001b[0m \u001b[0mOptionalXlaContext\u001b[0m\u001b[0;34m(\u001b[0m\u001b[0mself\u001b[0m\u001b[0;34m.\u001b[0m\u001b[0m_jit_compile\u001b[0m\u001b[0;34m)\u001b[0m\u001b[0;34m:\u001b[0m\u001b[0;34m\u001b[0m\u001b[0;34m\u001b[0m\u001b[0m\n\u001b[0;32m--> 889\u001b[0;31m         \u001b[0mresult\u001b[0m \u001b[0;34m=\u001b[0m \u001b[0mself\u001b[0m\u001b[0;34m.\u001b[0m\u001b[0m_call\u001b[0m\u001b[0;34m(\u001b[0m\u001b[0;34m*\u001b[0m\u001b[0margs\u001b[0m\u001b[0;34m,\u001b[0m \u001b[0;34m**\u001b[0m\u001b[0mkwds\u001b[0m\u001b[0;34m)\u001b[0m\u001b[0;34m\u001b[0m\u001b[0;34m\u001b[0m\u001b[0m\n\u001b[0m\u001b[1;32m    890\u001b[0m \u001b[0;34m\u001b[0m\u001b[0m\n\u001b[1;32m    891\u001b[0m       \u001b[0mnew_tracing_count\u001b[0m \u001b[0;34m=\u001b[0m \u001b[0mself\u001b[0m\u001b[0;34m.\u001b[0m\u001b[0mexperimental_get_tracing_count\u001b[0m\u001b[0;34m(\u001b[0m\u001b[0;34m)\u001b[0m\u001b[0;34m\u001b[0m\u001b[0;34m\u001b[0m\u001b[0m\n",
            "\u001b[0;32m/usr/local/lib/python3.7/dist-packages/tensorflow/python/eager/def_function.py\u001b[0m in \u001b[0;36m_call\u001b[0;34m(self, *args, **kwds)\u001b[0m\n\u001b[1;32m    922\u001b[0m       \u001b[0;31m# In this case we have not created variables on the first call. So we can\u001b[0m\u001b[0;34m\u001b[0m\u001b[0;34m\u001b[0m\u001b[0;34m\u001b[0m\u001b[0m\n\u001b[1;32m    923\u001b[0m       \u001b[0;31m# run the first trace but we should fail if variables are created.\u001b[0m\u001b[0;34m\u001b[0m\u001b[0;34m\u001b[0m\u001b[0;34m\u001b[0m\u001b[0m\n\u001b[0;32m--> 924\u001b[0;31m       \u001b[0mresults\u001b[0m \u001b[0;34m=\u001b[0m \u001b[0mself\u001b[0m\u001b[0;34m.\u001b[0m\u001b[0m_stateful_fn\u001b[0m\u001b[0;34m(\u001b[0m\u001b[0;34m*\u001b[0m\u001b[0margs\u001b[0m\u001b[0;34m,\u001b[0m \u001b[0;34m**\u001b[0m\u001b[0mkwds\u001b[0m\u001b[0;34m)\u001b[0m\u001b[0;34m\u001b[0m\u001b[0;34m\u001b[0m\u001b[0m\n\u001b[0m\u001b[1;32m    925\u001b[0m       \u001b[0;32mif\u001b[0m \u001b[0mself\u001b[0m\u001b[0;34m.\u001b[0m\u001b[0m_created_variables\u001b[0m\u001b[0;34m:\u001b[0m\u001b[0;34m\u001b[0m\u001b[0;34m\u001b[0m\u001b[0m\n\u001b[1;32m    926\u001b[0m         raise ValueError(\"Creating variables on a non-first call to a function\"\n",
            "\u001b[0;32m/usr/local/lib/python3.7/dist-packages/tensorflow/python/eager/function.py\u001b[0m in \u001b[0;36m__call__\u001b[0;34m(self, *args, **kwargs)\u001b[0m\n\u001b[1;32m   3022\u001b[0m        filtered_flat_args) = self._maybe_define_function(args, kwargs)\n\u001b[1;32m   3023\u001b[0m     return graph_function._call_flat(\n\u001b[0;32m-> 3024\u001b[0;31m         filtered_flat_args, captured_inputs=graph_function.captured_inputs)  # pylint: disable=protected-access\n\u001b[0m\u001b[1;32m   3025\u001b[0m \u001b[0;34m\u001b[0m\u001b[0m\n\u001b[1;32m   3026\u001b[0m   \u001b[0;34m@\u001b[0m\u001b[0mproperty\u001b[0m\u001b[0;34m\u001b[0m\u001b[0;34m\u001b[0m\u001b[0m\n",
            "\u001b[0;32m/usr/local/lib/python3.7/dist-packages/tensorflow/python/eager/function.py\u001b[0m in \u001b[0;36m_call_flat\u001b[0;34m(self, args, captured_inputs, cancellation_manager)\u001b[0m\n\u001b[1;32m   1959\u001b[0m       \u001b[0;31m# No tape is watching; skip to running the function.\u001b[0m\u001b[0;34m\u001b[0m\u001b[0;34m\u001b[0m\u001b[0;34m\u001b[0m\u001b[0m\n\u001b[1;32m   1960\u001b[0m       return self._build_call_outputs(self._inference_function.call(\n\u001b[0;32m-> 1961\u001b[0;31m           ctx, args, cancellation_manager=cancellation_manager))\n\u001b[0m\u001b[1;32m   1962\u001b[0m     forward_backward = self._select_forward_and_backward_functions(\n\u001b[1;32m   1963\u001b[0m         \u001b[0margs\u001b[0m\u001b[0;34m,\u001b[0m\u001b[0;34m\u001b[0m\u001b[0;34m\u001b[0m\u001b[0m\n",
            "\u001b[0;32m/usr/local/lib/python3.7/dist-packages/tensorflow/python/eager/function.py\u001b[0m in \u001b[0;36mcall\u001b[0;34m(self, ctx, args, cancellation_manager)\u001b[0m\n\u001b[1;32m    594\u001b[0m               \u001b[0minputs\u001b[0m\u001b[0;34m=\u001b[0m\u001b[0margs\u001b[0m\u001b[0;34m,\u001b[0m\u001b[0;34m\u001b[0m\u001b[0;34m\u001b[0m\u001b[0m\n\u001b[1;32m    595\u001b[0m               \u001b[0mattrs\u001b[0m\u001b[0;34m=\u001b[0m\u001b[0mattrs\u001b[0m\u001b[0;34m,\u001b[0m\u001b[0;34m\u001b[0m\u001b[0;34m\u001b[0m\u001b[0m\n\u001b[0;32m--> 596\u001b[0;31m               ctx=ctx)\n\u001b[0m\u001b[1;32m    597\u001b[0m         \u001b[0;32melse\u001b[0m\u001b[0;34m:\u001b[0m\u001b[0;34m\u001b[0m\u001b[0;34m\u001b[0m\u001b[0m\n\u001b[1;32m    598\u001b[0m           outputs = execute.execute_with_cancellation(\n",
            "\u001b[0;32m/usr/local/lib/python3.7/dist-packages/tensorflow/python/eager/execute.py\u001b[0m in \u001b[0;36mquick_execute\u001b[0;34m(op_name, num_outputs, inputs, attrs, ctx, name)\u001b[0m\n\u001b[1;32m     58\u001b[0m     \u001b[0mctx\u001b[0m\u001b[0;34m.\u001b[0m\u001b[0mensure_initialized\u001b[0m\u001b[0;34m(\u001b[0m\u001b[0;34m)\u001b[0m\u001b[0;34m\u001b[0m\u001b[0;34m\u001b[0m\u001b[0m\n\u001b[1;32m     59\u001b[0m     tensors = pywrap_tfe.TFE_Py_Execute(ctx._handle, device_name, op_name,\n\u001b[0;32m---> 60\u001b[0;31m                                         inputs, attrs, num_outputs)\n\u001b[0m\u001b[1;32m     61\u001b[0m   \u001b[0;32mexcept\u001b[0m \u001b[0mcore\u001b[0m\u001b[0;34m.\u001b[0m\u001b[0m_NotOkStatusException\u001b[0m \u001b[0;32mas\u001b[0m \u001b[0me\u001b[0m\u001b[0;34m:\u001b[0m\u001b[0;34m\u001b[0m\u001b[0;34m\u001b[0m\u001b[0m\n\u001b[1;32m     62\u001b[0m     \u001b[0;32mif\u001b[0m \u001b[0mname\u001b[0m \u001b[0;32mis\u001b[0m \u001b[0;32mnot\u001b[0m \u001b[0;32mNone\u001b[0m\u001b[0;34m:\u001b[0m\u001b[0;34m\u001b[0m\u001b[0;34m\u001b[0m\u001b[0m\n",
            "\u001b[0;31mKeyboardInterrupt\u001b[0m: "
          ]
        }
      ]
    },
    {
      "cell_type": "code",
      "metadata": {
        "id": "UJsgsZFzQCs2"
      },
      "source": [
        "# (3->0.9424) weights.COVIDx_CXR_2_Kaggle.rgb.(256, 256).DataFlow.pad0.TransferLearning3D.DenseNet201.wInit.imagenet.TrainableAfter.allDefault.Dense.1024.1024.2048.actF.elu.opt.Adam.drop.0.5.batch16.Flatten.l2.0.001.run_1.hdf5\n"
      ],
      "execution_count": null,
      "outputs": []
    },
    {
      "cell_type": "code",
      "metadata": {
        "id": "l_xKnoFvFQ4F"
      },
      "source": [
        "'''\n",
        "Record: COVIDx_CXR_2_Kaggle_impl_1_256p_RGB_Dense201_Custom_withImageNet_DataFlow:\n",
        ";\n",
        "---\n",
        "\n",
        "#'''\n",
        "\n",
        "csv_logger = CSVLogger(work_dir+log_name, separator=',', append=True)\n",
        "log_data = pd.read_csv(work_dir+log_name, sep=',', usecols=['epoch'], engine='python')\n",
        "epochs_completed = log_data.shape[0]\n",
        "\n",
        "result = model.evaluate(test_generator, steps=total_test_data // BATCH_SIZE)\n",
        "print(\"Test Acc: {}, Test Loss: {}: ep{}, {}\\n\".format(round(result[1],4), round(result[0],4), epochs_completed, checkpointer_name))\n"
      ],
      "execution_count": null,
      "outputs": []
    },
    {
      "cell_type": "code",
      "metadata": {
        "id": "IQM7JieEFQ1G",
        "colab": {
          "base_uri": "https://localhost:8080/"
        },
        "outputId": "e717ea84-a2ca-46d1-a9da-c961081b7b52"
      },
      "source": [
        "#checkpointer_name = \"weights.Fashion.DenseNet121.wInit.None.TrainableAfterallDefault.opt.SGD.drop.0.0.batch32.Flatten.run_1.hdf5\"\n",
        "model_loaded = load_model(work_dir+\"best_\"+checkpointer_name)\n",
        "print(\"Loaded \"+work_dir+\"best_\"+checkpointer_name+\".\")"
      ],
      "execution_count": 28,
      "outputs": [
        {
          "output_type": "stream",
          "text": [
            "Loaded drive/My Drive/COVID_19_Dataset/Records/best_weights.COVIDx_CXR_2_Kaggle.rgb.(256, 256).DataFlow.pad0.TransferLearning3D.DenseNet201.wInit.imagenet.TrainableAfter.allDefault.Dense.1024.1024.2048.actF.elu.opt.Adam.drop.0.5.batch16.Flatten.l2.0.001.run_1.hdf5.\n"
          ],
          "name": "stdout"
        }
      ]
    },
    {
      "cell_type": "code",
      "metadata": {
        "id": "chvVsOEgRfsO",
        "colab": {
          "base_uri": "https://localhost:8080/"
        },
        "outputId": "09651b90-c87d-40d8-d5ec-fd9e057c46c8"
      },
      "source": [
        "'''\n",
        "Record: COVIDx_CXR_2_Kaggle_impl_1_256p_RGB_Dense201_Custom_withImageNet_DataFlow:\n",
        ";\n",
        "---\n",
        "Test Acc: 0.99, Test Loss: 3.1182: ep3, best_weights.COVIDx_CXR_2_Kaggle.rgb.(256, 256).DataFlow.pad0.TransferLearning3D.DenseNet201.wInit.imagenet.TrainableAfter.allDefault.Dense.1024.1024.2048.actF.elu.opt.Adam.drop.0.5.batch16.Flatten.l2.0.001.run_1.hdf5\n",
        "\n",
        "#'''\n",
        "'''\n",
        "csv_logger = CSVLogger(work_dir+log_name, separator=',', append=True)\n",
        "log_data = pd.read_csv(work_dir+log_name, sep=',', usecols=['epoch'], engine='python')\n",
        "epochs_completed = log_data.shape[0]\n",
        "#'''\n",
        "\n",
        "result2 = model_loaded.evaluate(test_generator, steps=total_test_data // BATCH_SIZE)\n",
        "#print(\"nLayers: {}, nNeurons: {}, DROPOUT: {}, Test Acc: {}, Test Loss: {}\".format(NUM_LAYERS, NUM_NEURONS, DROPOUT, round(result2[1], 4), round(result2[0], 4)))\n",
        "print(\"Test Acc: {}, Test Loss: {}: ep{}, {}\\n\".format(round(result2[1],4), round(result2[0],4), epochs_completed, \"best_\"+checkpointer_name))\n"
      ],
      "execution_count": 29,
      "outputs": [
        {
          "output_type": "stream",
          "text": [
            "25/25 [==============================] - 201s 8s/step - loss: 3.1182 - accuracy: 0.9900\n",
            "Test Acc: 0.99, Test Loss: 3.1182: ep3, best_weights.COVIDx_CXR_2_Kaggle.rgb.(256, 256).DataFlow.pad0.TransferLearning3D.DenseNet201.wInit.imagenet.TrainableAfter.allDefault.Dense.1024.1024.2048.actF.elu.opt.Adam.drop.0.5.batch16.Flatten.l2.0.001.run_1.hdf5\n",
            "\n"
          ],
          "name": "stdout"
        }
      ]
    },
    {
      "cell_type": "code",
      "metadata": {
        "id": "z1GzwpODRlRf",
        "colab": {
          "base_uri": "https://localhost:8080/"
        },
        "outputId": "54609ab1-2568-41e1-d6c0-cac86763512a"
      },
      "source": [
        "import csv\n",
        "\n",
        "with open(work_dir+'Records.csv', \"a\") as fp:\n",
        "    wr = csv.writer(fp, dialect='excel')\n",
        "    try:\n",
        "        wr.writerow([checkpointer_name[8:-5], round(result2[1], 4), round(result2[0], 4), elapsed_time])\n",
        "    except:\n",
        "        wr.writerow([checkpointer_name[8:-5], round(result2[1], 4), round(result2[0], 4)])\n",
        "print(\"Saved results.\")"
      ],
      "execution_count": 30,
      "outputs": [
        {
          "output_type": "stream",
          "text": [
            "Saved results.\n"
          ],
          "name": "stdout"
        }
      ]
    },
    {
      "cell_type": "code",
      "metadata": {
        "id": "Dv35-hm1Rfv5"
      },
      "source": [
        ""
      ],
      "execution_count": 30,
      "outputs": []
    },
    {
      "cell_type": "code",
      "metadata": {
        "id": "r41Tx24EuA8A",
        "colab": {
          "base_uri": "https://localhost:8080/"
        },
        "outputId": "68d195a0-b8a2-47ae-fda5-d0d066b2ccc7"
      },
      "source": [
        "#Confution Matrix and Classification Report\n",
        "#'''\n",
        "Y_pred = model_loaded.predict_generator(test_generator, verbose=1)\n",
        "#'''\n",
        "#'''\n",
        "save_predictions_filename = f\"Y_pred.{checkpointer_name[8:-5]}\"\n",
        "np.save(f\"{work_dir}{save_predictions_filename}\", Y_pred, allow_pickle=True)\n",
        "print(f\"Saved: {work_dir}{save_predictions_filename}\")\n",
        "#'''"
      ],
      "execution_count": 31,
      "outputs": [
        {
          "output_type": "stream",
          "text": [
            "/usr/local/lib/python3.7/dist-packages/tensorflow/python/keras/engine/training.py:2001: UserWarning: `Model.predict_generator` is deprecated and will be removed in a future version. Please use `Model.predict`, which supports generators.\n",
            "  warnings.warn('`Model.predict_generator` is deprecated and '\n"
          ],
          "name": "stderr"
        },
        {
          "output_type": "stream",
          "text": [
            "25/25 [==============================] - 22s 741ms/step\n",
            "Saved: drive/My Drive/COVID_19_Dataset/Records/Y_pred.COVIDx_CXR_2_Kaggle.rgb.(256, 256).DataFlow.pad0.TransferLearning3D.DenseNet201.wInit.imagenet.TrainableAfter.allDefault.Dense.1024.1024.2048.actF.elu.opt.Adam.drop.0.5.batch16.Flatten.l2.0.001.run_1\n"
          ],
          "name": "stdout"
        }
      ]
    },
    {
      "cell_type": "code",
      "metadata": {
        "id": "RCOqGtOtSVG5",
        "colab": {
          "base_uri": "https://localhost:8080/",
          "height": 54
        },
        "outputId": "0493a094-96c3-4349-cddd-9f9f0fabf976"
      },
      "source": [
        "'''\n",
        "save_predictions_filename = f\"Y_pred.{checkpointer_name[8:-5]}\"\n",
        "np.save(f\"{work_dir}{save_predictions_filename}\", Y_pred, allow_pickle=True)\n",
        "print(f\"Saved: {work_dir}{save_predictions_filename}\")\n",
        "#'''"
      ],
      "execution_count": 32,
      "outputs": [
        {
          "output_type": "execute_result",
          "data": {
            "application/vnd.google.colaboratory.intrinsic+json": {
              "type": "string"
            },
            "text/plain": [
              "'\\nsave_predictions_filename = f\"Y_pred.{checkpointer_name[8:-5]}\"\\nnp.save(f\"{work_dir}{save_predictions_filename}\", Y_pred, allow_pickle=True)\\nprint(f\"Saved: {work_dir}{save_predictions_filename}\")\\n#'"
            ]
          },
          "metadata": {
            "tags": []
          },
          "execution_count": 32
        }
      ]
    },
    {
      "cell_type": "code",
      "metadata": {
        "id": "f5DLKM2YTGiR",
        "colab": {
          "base_uri": "https://localhost:8080/"
        },
        "outputId": "ce5cd2ad-6f2b-45f7-bc8c-c429f400be14"
      },
      "source": [
        "#Y_pred_loaded = np.load(f\"{work_dir}{save_predictions_filename_2}.npy\", allow_pickle=True)\n",
        "Y_pred_loaded = np.load(f\"{work_dir}{save_predictions_filename}.npy\", allow_pickle=True)\n",
        "print(f\"Y_pred_loaded.shape = {Y_pred_loaded.shape}\")"
      ],
      "execution_count": 33,
      "outputs": [
        {
          "output_type": "stream",
          "text": [
            "Y_pred_loaded.shape = (400, 2)\n"
          ],
          "name": "stdout"
        }
      ]
    },
    {
      "cell_type": "code",
      "metadata": {
        "id": "sKVblYYLTR8O"
      },
      "source": [
        ""
      ],
      "execution_count": 33,
      "outputs": []
    },
    {
      "cell_type": "code",
      "metadata": {
        "id": "vPVcI8W8uVxT"
      },
      "source": [
        "y_pred = np.argmax(Y_pred_loaded, axis=1)"
      ],
      "execution_count": 34,
      "outputs": []
    },
    {
      "cell_type": "code",
      "metadata": {
        "id": "EWjMUxOC_idw"
      },
      "source": [
        "y_true = test_generator.classes"
      ],
      "execution_count": 35,
      "outputs": []
    },
    {
      "cell_type": "code",
      "metadata": {
        "id": "9AnENPzD_XCi",
        "colab": {
          "base_uri": "https://localhost:8080/"
        },
        "outputId": "123f9c3f-4c87-47a1-d008-2b57b4c80c4a"
      },
      "source": [
        "list_class_names_in_generator = list(test_generator.class_indices.values())\n",
        "list_class_names_in_generator[:5]"
      ],
      "execution_count": 39,
      "outputs": [
        {
          "output_type": "execute_result",
          "data": {
            "text/plain": [
              "[0, 1]"
            ]
          },
          "metadata": {
            "tags": []
          },
          "execution_count": 39
        }
      ]
    },
    {
      "cell_type": "code",
      "metadata": {
        "id": "g9ECGTlXdLEY",
        "colab": {
          "base_uri": "https://localhost:8080/"
        },
        "outputId": "7e9d3ac8-589c-4f19-ced8-0761be4b87d6"
      },
      "source": [
        "len(list_class_names_in_generator)"
      ],
      "execution_count": 40,
      "outputs": [
        {
          "output_type": "execute_result",
          "data": {
            "text/plain": [
              "2"
            ]
          },
          "metadata": {
            "tags": []
          },
          "execution_count": 40
        }
      ]
    },
    {
      "cell_type": "code",
      "metadata": {
        "id": "7c1QqkvSB4rw"
      },
      "source": [
        "list_y_true_rearranged = []\n",
        "list_y_pred_rearranged = []\n",
        "\n",
        "for true_class,pred_class in zip(y_true,y_pred):\n",
        "    #print(f\"true_class = {true_class}; pred_class = {pred_class}\")\n",
        "    #y_true_rearranged = int(list_class_names_in_generator[true_class][5:])\n",
        "    #y_pred_rearranged = int(list_class_names_in_generator[pred_class][5:])\n",
        "\n",
        "    y_true_rearranged = int(list_class_names_in_generator[true_class])\n",
        "    y_pred_rearranged = int(list_class_names_in_generator[pred_class])\n",
        "\n",
        "    list_y_true_rearranged.append(y_true_rearranged)\n",
        "    list_y_pred_rearranged.append(y_pred_rearranged)"
      ],
      "execution_count": 41,
      "outputs": []
    },
    {
      "cell_type": "code",
      "metadata": {
        "id": "twUaOkzO_lYu",
        "colab": {
          "base_uri": "https://localhost:8080/"
        },
        "outputId": "756883b8-066e-4147-b4f3-5d3de4e9c2f4"
      },
      "source": [
        "np_y_true_rearranged = np.array(list_y_true_rearranged)\n",
        "np_y_pred_rearranged = np.array(list_y_pred_rearranged)\n",
        "\n",
        "print(f\"np_y_true_rearranged.shape = {np_y_true_rearranged.shape}\")\n",
        "print(f\"np_y_pred_rearranged.shape = {np_y_pred_rearranged.shape}\")\n",
        "print(f\"np_y_true_rearranged: {np_y_true_rearranged}\")\n",
        "print(f\"np_y_pred_rearranged: {np_y_pred_rearranged}\")"
      ],
      "execution_count": 42,
      "outputs": [
        {
          "output_type": "stream",
          "text": [
            "np_y_true_rearranged.shape = (400,)\n",
            "np_y_pred_rearranged.shape = (400,)\n",
            "np_y_true_rearranged: [1 1 1 1 1 1 1 1 1 1 1 1 1 1 1 1 1 1 1 1 1 1 1 1 1 1 1 1 1 1 1 1 1 1 1 1 1\n",
            " 1 1 1 1 1 1 1 1 1 1 1 1 1 1 1 1 1 1 1 1 1 1 1 1 1 1 1 1 1 1 1 1 1 1 1 1 1\n",
            " 1 1 1 1 1 1 1 1 1 1 1 1 1 1 1 1 1 1 1 1 1 1 1 1 1 1 1 1 1 1 1 1 1 1 1 1 1\n",
            " 1 1 1 1 1 1 1 1 1 1 1 1 1 1 1 1 1 1 1 1 1 1 1 1 1 1 1 1 1 1 1 1 1 1 1 1 1\n",
            " 1 1 1 1 1 1 1 1 1 1 1 1 1 1 1 1 1 1 1 1 1 1 1 1 1 1 1 1 1 1 1 1 1 1 1 1 1\n",
            " 1 1 1 1 1 1 1 1 1 1 1 1 1 1 1 0 0 0 0 0 0 0 0 0 0 0 0 0 0 0 0 0 0 0 0 0 0\n",
            " 0 0 0 0 0 0 0 0 0 0 0 0 0 0 0 0 0 0 0 0 0 0 0 0 0 0 0 0 0 0 0 0 0 0 0 0 0\n",
            " 0 0 0 0 0 0 0 0 0 0 0 0 0 0 0 0 0 0 0 0 0 0 0 0 0 0 0 0 0 0 0 0 0 0 0 0 0\n",
            " 0 0 0 0 0 0 0 0 0 0 0 0 0 0 0 0 0 0 0 0 0 0 0 0 0 0 0 0 0 0 0 0 0 0 0 0 0\n",
            " 0 0 0 0 0 0 0 0 0 0 0 0 0 0 0 0 0 0 0 0 0 0 0 0 0 0 0 0 0 0 0 0 0 0 0 0 0\n",
            " 0 0 0 0 0 0 0 0 0 0 0 0 0 0 0 0 0 0 0 0 0 0 0 0 0 0 0 0 0 0]\n",
            "np_y_pred_rearranged: [1 1 1 1 1 1 1 1 1 1 1 1 1 1 1 1 1 1 1 1 1 1 1 1 1 1 1 1 1 1 1 1 1 1 1 1 1\n",
            " 1 1 1 1 1 1 1 1 1 1 1 1 1 1 1 1 1 1 1 1 1 1 1 1 1 1 1 1 1 1 1 1 1 1 1 1 1\n",
            " 1 1 0 1 1 1 1 1 1 1 1 1 1 1 1 1 1 1 1 1 1 1 1 1 1 1 1 1 1 1 1 1 1 1 1 1 1\n",
            " 1 1 1 1 1 1 1 1 1 1 1 1 1 1 1 1 1 1 1 1 1 1 1 1 1 1 1 1 1 1 1 1 1 1 1 1 1\n",
            " 1 1 0 1 1 1 1 1 1 1 1 1 1 1 1 1 1 1 1 1 1 1 1 1 1 1 1 1 1 1 1 1 1 1 1 1 1\n",
            " 1 1 1 1 1 1 1 1 0 1 1 1 1 1 0 0 0 0 0 0 0 0 0 0 0 0 0 0 0 0 0 0 0 0 0 0 0\n",
            " 0 0 0 0 0 0 0 0 0 0 0 0 0 0 0 0 0 0 0 0 0 0 0 0 0 0 0 0 0 0 0 0 0 0 0 0 0\n",
            " 0 0 0 0 0 0 0 0 0 0 0 0 0 0 0 0 0 0 0 0 0 0 0 0 0 0 0 0 0 0 0 0 0 0 0 0 0\n",
            " 0 0 0 0 0 0 0 0 0 0 0 0 0 0 0 0 0 0 0 0 0 0 0 0 0 0 0 0 0 0 0 0 0 0 0 0 0\n",
            " 0 0 0 0 0 0 0 0 0 0 0 0 0 0 0 0 0 0 0 0 0 0 0 0 0 0 0 0 0 0 0 0 0 0 0 0 0\n",
            " 0 0 0 0 0 0 0 0 0 0 0 0 0 0 0 0 0 0 0 0 0 0 0 0 0 0 0 0 0 0]\n"
          ],
          "name": "stdout"
        }
      ]
    },
    {
      "cell_type": "code",
      "metadata": {
        "id": "LxgBOkM5Es08",
        "colab": {
          "base_uri": "https://localhost:8080/"
        },
        "outputId": "0085b61e-e826-4acd-d749-4718ca242dee"
      },
      "source": [
        "print(f\"np_y_true_rearranged.shape = {np_y_true_rearranged.shape}\\n\")\n",
        "\n",
        "index = -5\n",
        "print(f\"y_true[{index}:] = {y_true[index:]}\")\n",
        "print(f\"y_pred[{index}:] = {y_pred[index:]}\\n\")\n",
        "print(f\"np_y_true_rearranged[{index}:] = {np_y_true_rearranged[index:]}\")\n",
        "print(f\"np_y_pred_rearranged[{index}:] = {np_y_pred_rearranged[index:]}\\n\")\n",
        "print(f\"np.unique(np_y_true_rearranged) = {np.unique(np_y_true_rearranged)}\")\n",
        "print(f\"np.unique(np_y_pred_rearranged) = {np.unique(np_y_pred_rearranged)}\")"
      ],
      "execution_count": 43,
      "outputs": [
        {
          "output_type": "stream",
          "text": [
            "np_y_true_rearranged.shape = (400,)\n",
            "\n",
            "y_true[-5:] = [0, 0, 0, 0, 0]\n",
            "y_pred[-5:] = [0 0 0 0 0]\n",
            "\n",
            "np_y_true_rearranged[-5:] = [0 0 0 0 0]\n",
            "np_y_pred_rearranged[-5:] = [0 0 0 0 0]\n",
            "\n",
            "np.unique(np_y_true_rearranged) = [0 1]\n",
            "np.unique(np_y_pred_rearranged) = [0 1]\n"
          ],
          "name": "stdout"
        }
      ]
    },
    {
      "cell_type": "code",
      "metadata": {
        "id": "yo2maYGREHa1"
      },
      "source": [
        ""
      ],
      "execution_count": 43,
      "outputs": []
    },
    {
      "cell_type": "code",
      "metadata": {
        "id": "ATQ8O5enuJcA",
        "colab": {
          "base_uri": "https://localhost:8080/"
        },
        "outputId": "87902ec3-ceed-4a5b-db0f-e7d80712a645"
      },
      "source": [
        "conf_matrix = sklearn.metrics.confusion_matrix(np_y_true_rearranged, np_y_pred_rearranged)\n",
        "print(f\"Confusion Matrix:\\n{conf_matrix}\")"
      ],
      "execution_count": 44,
      "outputs": [
        {
          "output_type": "stream",
          "text": [
            "Confusion Matrix:\n",
            "[[200   0]\n",
            " [  4 196]]\n"
          ],
          "name": "stdout"
        }
      ]
    },
    {
      "cell_type": "code",
      "metadata": {
        "id": "iWt92DPh8BIG",
        "colab": {
          "base_uri": "https://localhost:8080/",
          "height": 293
        },
        "outputId": "9be268a5-03f8-4b15-ee55-03cad112fd6a"
      },
      "source": [
        "#plt.figure(figsize = (30,30))\n",
        "plt.matshow(conf_matrix)"
      ],
      "execution_count": 45,
      "outputs": [
        {
          "output_type": "execute_result",
          "data": {
            "text/plain": [
              "<matplotlib.image.AxesImage at 0x7f74717aac10>"
            ]
          },
          "metadata": {
            "tags": []
          },
          "execution_count": 45
        },
        {
          "output_type": "display_data",
          "data": {
            "image/png": "[encoded data removed]",
            "text/plain": [
              "<Figure size 288x288 with 1 Axes>"
            ]
          },
          "metadata": {
            "tags": [],
            "needs_background": "light"
          }
        }
      ]
    },
    {
      "cell_type": "code",
      "metadata": {
        "id": "qYbVekfx9Qk-"
      },
      "source": [
        "df_conf_matrix = pd.DataFrame(conf_matrix, index = [f\"Class {i+1}\" for i in range(num_classes)],\n",
        "                  columns = [f\"Class {i+1}\" for i in range(num_classes)])"
      ],
      "execution_count": 46,
      "outputs": []
    },
    {
      "cell_type": "code",
      "metadata": {
        "id": "bhhb_ykf7mGr",
        "colab": {
          "base_uri": "https://localhost:8080/",
          "height": 280
        },
        "outputId": "903eeefd-2b5d-481e-a3c6-23638882337d"
      },
      "source": [
        "title = \"Confusion matrix for \"+dataset+\" \"+impl_type+\"\\n\"\n",
        "plt.figure(figsize = (5,3))\n",
        "plt.title(title)\n",
        "sn.heatmap(df_conf_matrix, annot=True)\n",
        "\n",
        "img_path = work_dir+'Images/conf_matrix_'+checkpointer_name[8:-5]+'.png'\n",
        "plt.savefig(img_path, dpi=600)\n",
        "print(f\"img_path = {img_path}\")"
      ],
      "execution_count": 58,
      "outputs": [
        {
          "output_type": "stream",
          "text": [
            "img_path = drive/My Drive/COVID_19_Dataset/Records/Images/conf_matrix_COVIDx_CXR_2_Kaggle.rgb.(256, 256).DataFlow.pad0.TransferLearning3D.DenseNet201.wInit.imagenet.TrainableAfter.allDefault.Dense.1024.1024.2048.actF.elu.opt.Adam.drop.0.5.batch16.Flatten.l2.0.001.run_1.png\n"
          ],
          "name": "stdout"
        },
        {
          "output_type": "display_data",
          "data": {
            "image/png": "[encoded data removed]",
            "text/plain": [
              "<Figure size 360x216 with 2 Axes>"
            ]
          },
          "metadata": {
            "tags": [],
            "needs_background": "light"
          }
        }
      ]
    },
    {
      "cell_type": "code",
      "metadata": {
        "id": "OyvlKAMW-q4-"
      },
      "source": [
        ""
      ],
      "execution_count": 47,
      "outputs": []
    },
    {
      "cell_type": "code",
      "metadata": {
        "id": "hgY4v21DyQwL",
        "colab": {
          "base_uri": "https://localhost:8080/",
          "height": 54
        },
        "outputId": "0af5b0c1-dcbd-4e38-a898-64b8cd555063"
      },
      "source": [
        "#Confution Matrix and Classification Report\n",
        "'''\n",
        "Y_pred = model_loaded.predict_generator(final_test_imageset, len(final_test_imageset))\n",
        "y_pred = np.argmax(Y_pred, axis=1)\n",
        "print('Confusion Matrix')\n",
        "print(sklearn.metrics.confusion_matrix(np_test_label, y_pred))\n",
        "#'''"
      ],
      "execution_count": 48,
      "outputs": [
        {
          "output_type": "execute_result",
          "data": {
            "application/vnd.google.colaboratory.intrinsic+json": {
              "type": "string"
            },
            "text/plain": [
              "\"\\nY_pred = model_loaded.predict_generator(final_test_imageset, len(final_test_imageset))\\ny_pred = np.argmax(Y_pred, axis=1)\\nprint('Confusion Matrix')\\nprint(sklearn.metrics.confusion_matrix(np_test_label, y_pred))\\n#\""
            ]
          },
          "metadata": {
            "tags": []
          },
          "execution_count": 48
        }
      ]
    },
    {
      "cell_type": "code",
      "metadata": {
        "id": "U5j7b3KcRvwj",
        "colab": {
          "base_uri": "https://localhost:8080/",
          "height": 36
        },
        "outputId": "c5b6d1d4-42fd-4e0f-889b-47e01f11b2f6"
      },
      "source": [
        "# Precision [TP/TP+FP] = The ratio of correctly predicted positive observations to the total predicted positive observations.\n",
        "# Recall (Sensitivity) [TP/TP+FN] = The ratio of correctly predicted positive observations to the all observations in actual class - 'yes'.\n",
        "# F1 score [F1 Score = 2*(Recall * Precision) / (Recall + Precision)] = The weighted average of Precision and Recall.\n",
        "# Support = The number of samples of the true response that lie in that class.\n",
        "'''\n",
        "print('Classification Report:')\n",
        "print(sklearn.metrics.classification_report(test_generator.classes, y_pred))\n",
        "#'''"
      ],
      "execution_count": 49,
      "outputs": [
        {
          "output_type": "execute_result",
          "data": {
            "application/vnd.google.colaboratory.intrinsic+json": {
              "type": "string"
            },
            "text/plain": [
              "\"\\nprint('Classification Report:')\\nprint(sklearn.metrics.classification_report(test_generator.classes, y_pred))\\n#\""
            ]
          },
          "metadata": {
            "tags": []
          },
          "execution_count": 49
        }
      ]
    },
    {
      "cell_type": "code",
      "metadata": {
        "id": "jTwSA-kRYavk"
      },
      "source": [
        ""
      ],
      "execution_count": 49,
      "outputs": []
    },
    {
      "cell_type": "code",
      "metadata": {
        "id": "AaZZkLXW6Vb8",
        "colab": {
          "base_uri": "https://localhost:8080/"
        },
        "outputId": "ae4db48b-750c-4df2-9cb5-b43069735697"
      },
      "source": [
        "test_generator.class_indices.keys()"
      ],
      "execution_count": 50,
      "outputs": [
        {
          "output_type": "execute_result",
          "data": {
            "text/plain": [
              "dict_keys(['negative', 'positive'])"
            ]
          },
          "metadata": {
            "tags": []
          },
          "execution_count": 50
        }
      ]
    },
    {
      "cell_type": "code",
      "metadata": {
        "id": "ceGRitu9RvzV",
        "colab": {
          "base_uri": "https://localhost:8080/"
        },
        "outputId": "d93b6b0c-0673-4872-8ebd-dc338dc638f0"
      },
      "source": [
        "#'''\n",
        "print('Classification Report')\n",
        "print(sklearn.metrics.classification_report(np_y_true_rearranged, np_y_pred_rearranged, target_names=test_generator.class_indices.keys()))\n",
        "#'''"
      ],
      "execution_count": 51,
      "outputs": [
        {
          "output_type": "stream",
          "text": [
            "Classification Report\n",
            "              precision    recall  f1-score   support\n",
            "\n",
            "    negative       0.98      1.00      0.99       200\n",
            "    positive       1.00      0.98      0.99       200\n",
            "\n",
            "    accuracy                           0.99       400\n",
            "   macro avg       0.99      0.99      0.99       400\n",
            "weighted avg       0.99      0.99      0.99       400\n",
            "\n"
          ],
          "name": "stdout"
        }
      ]
    },
    {
      "cell_type": "code",
      "metadata": {
        "id": "ujLQjTf2Rv11"
      },
      "source": [
        "log_data = pd.read_csv(work_dir+log_name, sep=',', engine='python') "
      ],
      "execution_count": 52,
      "outputs": []
    },
    {
      "cell_type": "code",
      "metadata": {
        "id": "To55jgGSRv4a",
        "colab": {
          "base_uri": "https://localhost:8080/",
          "height": 206
        },
        "outputId": "05dd00b4-30f1-43fb-be37-e304a0af54a3"
      },
      "source": [
        "# Getting the model history keys \n",
        "#history.history.keys()\n",
        "log_data.head()"
      ],
      "execution_count": 53,
      "outputs": [
        {
          "output_type": "execute_result",
          "data": {
            "text/html": [
              "<div>\n",
              "<style scoped>\n",
              "    .dataframe tbody tr th:only-of-type {\n",
              "        vertical-align: middle;\n",
              "    }\n",
              "\n",
              "    .dataframe tbody tr th {\n",
              "        vertical-align: top;\n",
              "    }\n",
              "\n",
              "    .dataframe thead th {\n",
              "        text-align: right;\n",
              "    }\n",
              "</style>\n",
              "<table border=\"1\" class=\"dataframe\">\n",
              "  <thead>\n",
              "    <tr style=\"text-align: right;\">\n",
              "      <th></th>\n",
              "      <th>epoch</th>\n",
              "      <th>accuracy</th>\n",
              "      <th>loss</th>\n",
              "      <th>val_accuracy</th>\n",
              "      <th>val_loss</th>\n",
              "    </tr>\n",
              "  </thead>\n",
              "  <tbody>\n",
              "    <tr>\n",
              "      <th>0</th>\n",
              "      <td>0</td>\n",
              "      <td>0.940885</td>\n",
              "      <td>4.510261</td>\n",
              "      <td>0.9450</td>\n",
              "      <td>4.337882</td>\n",
              "    </tr>\n",
              "    <tr>\n",
              "      <th>1</th>\n",
              "      <td>0</td>\n",
              "      <td>0.978350</td>\n",
              "      <td>4.075972</td>\n",
              "      <td>0.9825</td>\n",
              "      <td>3.914540</td>\n",
              "    </tr>\n",
              "    <tr>\n",
              "      <th>2</th>\n",
              "      <td>1</td>\n",
              "      <td>0.988328</td>\n",
              "      <td>3.740616</td>\n",
              "      <td>0.9425</td>\n",
              "      <td>3.821898</td>\n",
              "    </tr>\n",
              "    <tr>\n",
              "      <th>3</th>\n",
              "      <td>0</td>\n",
              "      <td>0.993034</td>\n",
              "      <td>3.465832</td>\n",
              "      <td>0.9875</td>\n",
              "      <td>3.371157</td>\n",
              "    </tr>\n",
              "    <tr>\n",
              "      <th>4</th>\n",
              "      <td>1</td>\n",
              "      <td>0.995858</td>\n",
              "      <td>3.217463</td>\n",
              "      <td>0.9900</td>\n",
              "      <td>3.118249</td>\n",
              "    </tr>\n",
              "  </tbody>\n",
              "</table>\n",
              "</div>"
            ],
            "text/plain": [
              "   epoch  accuracy      loss  val_accuracy  val_loss\n",
              "0      0  0.940885  4.510261        0.9450  4.337882\n",
              "1      0  0.978350  4.075972        0.9825  3.914540\n",
              "2      1  0.988328  3.740616        0.9425  3.821898\n",
              "3      0  0.993034  3.465832        0.9875  3.371157\n",
              "4      1  0.995858  3.217463        0.9900  3.118249"
            ]
          },
          "metadata": {
            "tags": []
          },
          "execution_count": 53
        }
      ]
    },
    {
      "cell_type": "code",
      "metadata": {
        "id": "aytAYSJ4Rv7T",
        "colab": {
          "base_uri": "https://localhost:8080/",
          "height": 348
        },
        "outputId": "10269856-154a-474e-b57d-f99956d6946f"
      },
      "source": [
        "# plot the training artifacts\n",
        "title = \"Val loss for \"+dataset+\" \"+impl_type+\"\\n\"\n",
        "\n",
        "plt.plot(log_data['loss'])\n",
        "plt.plot(log_data['val_loss'])\n",
        "plt.title(title)\n",
        "plt.ylabel('loss')\n",
        "plt.xlabel('epoch')\n",
        "plt.legend(['train_loss','val_loss'], loc = 'best')\n",
        "plt.grid(b=True, which='major', axis='both')\n",
        "\n",
        "img_path = work_dir+'Images/vLoss_'+checkpointer_name[8:-5]+'.png'\n",
        "plt.savefig(img_path, dpi=600)\n",
        "plt.show()\n",
        "print('img_path =', img_path)"
      ],
      "execution_count": 54,
      "outputs": [
        {
          "output_type": "display_data",
          "data": {
            "image/png": "[encoded data removed]",
            "text/plain": [
              "<Figure size 432x288 with 1 Axes>"
            ]
          },
          "metadata": {
            "tags": [],
            "needs_background": "light"
          }
        },
        {
          "output_type": "stream",
          "text": [
            "img_path = drive/My Drive/COVID_19_Dataset/Records/Images/vLoss_COVIDx_CXR_2_Kaggle.rgb.(256, 256).DataFlow.pad0.TransferLearning3D.DenseNet201.wInit.imagenet.TrainableAfter.allDefault.Dense.1024.1024.2048.actF.elu.opt.Adam.drop.0.5.batch16.Flatten.l2.0.001.run_1.png\n"
          ],
          "name": "stdout"
        }
      ]
    },
    {
      "cell_type": "code",
      "metadata": {
        "id": "yUq1WaElRv-M",
        "colab": {
          "base_uri": "https://localhost:8080/",
          "height": 348
        },
        "outputId": "46238da9-85c9-4437-dfa0-13d7bb7dc009"
      },
      "source": [
        "title = \"Val acc for \"+dataset+\" \"+impl_type+\"\\n\"\n",
        "\n",
        "plt.plot(log_data['accuracy'])\n",
        "plt.plot(log_data['val_accuracy'])\n",
        "plt.title(title)\n",
        "plt.ylabel('accuracy')\n",
        "plt.xlabel('epoch')\n",
        "plt.legend(['train_accuracy','val_accuracy'], loc = 'best')\n",
        "plt.grid(b=True, which='major', axis='both')\n",
        "\n",
        "img_path = work_dir+'Images/vAcc_'+checkpointer_name[8:-5]+'.png'\n",
        "plt.savefig(img_path, dpi=600)\n",
        "plt.show()\n",
        "print('img_path =', img_path)"
      ],
      "execution_count": 55,
      "outputs": [
        {
          "output_type": "display_data",
          "data": {
            "image/png": "[encoded data removed]",
            "text/plain": [
              "<Figure size 432x288 with 1 Axes>"
            ]
          },
          "metadata": {
            "tags": [],
            "needs_background": "light"
          }
        },
        {
          "output_type": "stream",
          "text": [
            "img_path = drive/My Drive/COVID_19_Dataset/Records/Images/vAcc_COVIDx_CXR_2_Kaggle.rgb.(256, 256).DataFlow.pad0.TransferLearning3D.DenseNet201.wInit.imagenet.TrainableAfter.allDefault.Dense.1024.1024.2048.actF.elu.opt.Adam.drop.0.5.batch16.Flatten.l2.0.001.run_1.png\n"
          ],
          "name": "stdout"
        }
      ]
    },
    {
      "cell_type": "code",
      "metadata": {
        "id": "w4msuVKMSk8E"
      },
      "source": [
        ""
      ],
      "execution_count": 55,
      "outputs": []
    }
  ]
}