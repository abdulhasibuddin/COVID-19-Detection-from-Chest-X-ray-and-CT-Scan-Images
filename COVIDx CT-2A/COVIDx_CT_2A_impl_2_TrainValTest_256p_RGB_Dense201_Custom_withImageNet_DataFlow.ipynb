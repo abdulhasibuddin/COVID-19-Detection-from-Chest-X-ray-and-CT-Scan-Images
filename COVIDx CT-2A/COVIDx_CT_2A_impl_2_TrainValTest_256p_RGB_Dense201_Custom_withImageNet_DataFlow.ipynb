{
  "nbformat": 4,
  "nbformat_minor": 0,
  "metadata": {
    "kernelspec": {
      "language": "python",
      "display_name": "Python 3",
      "name": "python3"
    },
    "language_info": {
      "name": "python",
      "version": "3.7.10",
      "mimetype": "text/x-python",
      "codemirror_mode": {
        "name": "ipython",
        "version": 3
      },
      "pygments_lexer": "ipython3",
      "nbconvert_exporter": "python",
      "file_extension": ".py"
    },
    "colab": {
      "name": "COVIDx_CT_2A_impl_2_TrainValTest_256p_RGB_Dense201_Custom_withImageNet_DataFlow.ipynb",
      "provenance": [],
      "collapsed_sections": []
    },
    "accelerator": "GPU"
  },
  "cells": [
    {
      "cell_type": "code",
      "metadata": {
        "_uuid": "8f2839f25d086af736a60e9eeb907d3b93b6e0e5",
        "_cell_guid": "b1076dfc-b9ad-4769-8c92-a6c4dae69d19",
        "execution": {
          "iopub.status.busy": "2021-06-25T09:40:40.463603Z",
          "iopub.execute_input": "2021-06-25T09:40:40.464038Z",
          "iopub.status.idle": "2021-06-25T09:40:40.478332Z",
          "shell.execute_reply.started": "2021-06-25T09:40:40.463953Z",
          "shell.execute_reply": "2021-06-25T09:40:40.477418Z"
        },
        "trusted": true,
        "id": "mjVcCoNVstJ1"
      },
      "source": [
        "from google.colab import drive \n",
        "drive.mount('/content/drive', force_remount=True)"
      ],
      "execution_count": null,
      "outputs": []
    },
    {
      "cell_type": "code",
      "metadata": {
        "execution": {
          "iopub.status.busy": "2021-06-25T09:42:41.447586Z",
          "iopub.execute_input": "2021-06-25T09:42:41.447966Z",
          "iopub.status.idle": "2021-06-25T09:42:48.437279Z",
          "shell.execute_reply.started": "2021-06-25T09:42:41.447935Z",
          "shell.execute_reply": "2021-06-25T09:42:48.436393Z"
        },
        "trusted": true,
        "id": "YT1xSQMHstJ-"
      },
      "source": [
        "\n",
        "import numpy as np\n",
        "import pandas as pd\n",
        "import pickle\n",
        "import numpy as np\n",
        "import random\n",
        "import time\n",
        "import os\n",
        "#os.environ[\"OPENCV_IO_MAX_IMAGE_PIXELS\"] = pow(2,40).__str__()\n",
        "import cv2\n",
        "from tqdm import tqdm\n",
        "\n",
        "import tensorflow as tf\n",
        "from tensorflow.python.keras import Sequential\n",
        "from tensorflow.keras import layers, optimizers\n",
        "from tensorflow.keras.applications import DenseNet121\n",
        "from tensorflow.keras.applications.resnet50 import ResNet50\n",
        "from tensorflow.keras.layers import *\n",
        "from tensorflow.keras.models import Model, load_model\n",
        "from tensorflow.keras.initializers import glorot_uniform\n",
        "from tensorflow.keras.utils import plot_model\n",
        "from tensorflow.keras.callbacks import ReduceLROnPlateau, EarlyStopping, ModelCheckpoint, LearningRateScheduler\n",
        "from IPython.display import display\n",
        "from tensorflow.keras import backend as K\n",
        "import matplotlib.pyplot as plt\n",
        "import matplotlib.image as mpimg\n",
        "from sklearn.model_selection import train_test_split\n",
        "from keras import optimizers\n",
        "#from sklearn.metrics import classification_report, confusion_matrix\n",
        "import sklearn\n",
        "import seaborn as sn\n",
        "from keras.callbacks import CSVLogger, LambdaCallback\n",
        "from tensorflow.keras.preprocessing.image import ImageDataGenerator"
      ],
      "execution_count": null,
      "outputs": []
    },
    {
      "cell_type": "code",
      "metadata": {
        "id": "HcTEUNnVd1WF"
      },
      "source": [
        "#'''\n",
        "Dataset_Name = \"COVIDx_CT_2A_Kaggle\"\n",
        "base_dir = 'drive/My Drive/COVID_19_Dataset/COVIDx CT-2A Kaggle/'\n",
        "\n",
        "#train_dir = os.path.join(base_dir, 'train_patch')\n",
        "#test_dir = os.path.join(base_dir, 'test_patch')\n",
        "\n",
        "work_dir = \"drive/My Drive/COVID_19_Dataset/COVIDx CT-2A Kaggle/Records/\"\n",
        "color_type = 'rgb' # rgb, grayscale\n",
        "BATCH_SIZE = 32\n",
        "#'''"
      ],
      "execution_count": null,
      "outputs": []
    },
    {
      "cell_type": "code",
      "metadata": {
        "execution": {
          "iopub.status.busy": "2021-06-24T16:14:13.061909Z",
          "iopub.execute_input": "2021-06-24T16:14:13.062166Z",
          "iopub.status.idle": "2021-06-24T16:14:13.299556Z",
          "shell.execute_reply.started": "2021-06-24T16:14:13.06214Z",
          "shell.execute_reply": "2021-06-24T16:14:13.298767Z"
        },
        "trusted": true,
        "id": "xo-5kQvCstKB"
      },
      "source": [
        "#'''\n",
        "train_file = base_dir+\"train_COVIDx_CT-2A.txt\"\n",
        "train_df_original = pd.read_csv(train_file, delimiter = \" \", header=None)\n",
        "train_df_original.columns = ['filename', 'class', 'xmin', 'ymin', 'xmax', 'ymax']\n",
        "train_df_original.head()\n",
        "#'''"
      ],
      "execution_count": null,
      "outputs": []
    },
    {
      "cell_type": "code",
      "metadata": {
        "execution": {
          "iopub.status.busy": "2021-06-24T16:14:13.302632Z",
          "iopub.execute_input": "2021-06-24T16:14:13.30288Z",
          "iopub.status.idle": "2021-06-24T16:15:49.339031Z",
          "shell.execute_reply.started": "2021-06-24T16:14:13.302857Z",
          "shell.execute_reply": "2021-06-24T16:15:49.338267Z"
        },
        "trusted": true,
        "id": "5wuYZe9KstKC"
      },
      "source": [
        "#'''\n",
        "train_df = train_df_original[['filename', 'class']]\n",
        "\n",
        "for i in range(train_df.shape[0]):\n",
        "    filename = train_df['filename'][i]\n",
        "    file_full_path = f\"{base_dir}/2A_images/{filename}\"\n",
        "    train_df['filename'][i] = file_full_path\n",
        "    #train_df['class'][i] = str(train_df['class'][i])\n",
        "\n",
        "print(f\"train_df['filename'][0] = {train_df['filename'][0]}\")\n",
        "train_df.tail()\n",
        "#'''"
      ],
      "execution_count": null,
      "outputs": []
    },
    {
      "cell_type": "code",
      "metadata": {
        "execution": {
          "iopub.status.busy": "2021-06-24T16:15:49.340491Z",
          "iopub.execute_input": "2021-06-24T16:15:49.340896Z",
          "iopub.status.idle": "2021-06-24T16:15:49.504747Z",
          "shell.execute_reply.started": "2021-06-24T16:15:49.340855Z",
          "shell.execute_reply": "2021-06-24T16:15:49.503895Z"
        },
        "trusted": true,
        "id": "19VjjV9estKD"
      },
      "source": [
        "train_df['class'] = train_df['class'].astype(str)"
      ],
      "execution_count": null,
      "outputs": []
    },
    {
      "cell_type": "code",
      "metadata": {
        "execution": {
          "iopub.status.busy": "2021-06-24T16:15:49.506144Z",
          "iopub.execute_input": "2021-06-24T16:15:49.506735Z",
          "iopub.status.idle": "2021-06-24T16:15:49.568724Z",
          "shell.execute_reply.started": "2021-06-24T16:15:49.506699Z",
          "shell.execute_reply": "2021-06-24T16:15:49.567809Z"
        },
        "trusted": true,
        "id": "DT430YHIstKD"
      },
      "source": [
        "#'''\n",
        "val_file = base_dir+\"val_COVIDx_CT-2A.txt\"\n",
        "val_df_original = pd.read_csv(val_file, delimiter = \" \", header=None)\n",
        "val_df_original.columns = ['filename', 'class', 'xmin', 'ymin', 'xmax', 'ymax']\n",
        "val_df_original.head()\n",
        "#'''"
      ],
      "execution_count": null,
      "outputs": []
    },
    {
      "cell_type": "code",
      "metadata": {
        "execution": {
          "iopub.status.busy": "2021-06-24T16:15:49.57115Z",
          "iopub.execute_input": "2021-06-24T16:15:49.571506Z",
          "iopub.status.idle": "2021-06-24T16:15:55.089824Z",
          "shell.execute_reply.started": "2021-06-24T16:15:49.571471Z",
          "shell.execute_reply": "2021-06-24T16:15:55.088888Z"
        },
        "trusted": true,
        "id": "Vw_T7rlVstKE"
      },
      "source": [
        "#'''\n",
        "val_df = val_df_original[['filename', 'class']]\n",
        "\n",
        "for i in range(val_df.shape[0]):\n",
        "    filename = val_df['filename'][i]\n",
        "    file_full_path = f\"{base_dir}/2A_images/{filename}\"\n",
        "    val_df['filename'][i] = file_full_path\n",
        "    #val_df['class'][i] = str(val_df['class'][i])\n",
        "\n",
        "print(f\"val_df['filename'][0] = {val_df['filename'][0]}\")\n",
        "val_df.tail()\n",
        "#'''"
      ],
      "execution_count": null,
      "outputs": []
    },
    {
      "cell_type": "code",
      "metadata": {
        "execution": {
          "iopub.status.busy": "2021-06-24T16:15:55.091763Z",
          "iopub.execute_input": "2021-06-24T16:15:55.092118Z",
          "iopub.status.idle": "2021-06-24T16:15:55.127869Z",
          "shell.execute_reply.started": "2021-06-24T16:15:55.092081Z",
          "shell.execute_reply": "2021-06-24T16:15:55.127062Z"
        },
        "trusted": true,
        "id": "bDHkJJIdstKE"
      },
      "source": [
        "val_df['class'] = val_df['class'].astype(str)"
      ],
      "execution_count": null,
      "outputs": []
    },
    {
      "cell_type": "code",
      "metadata": {
        "execution": {
          "iopub.status.busy": "2021-06-25T09:41:55.576555Z",
          "iopub.execute_input": "2021-06-25T09:41:55.576977Z",
          "iopub.status.idle": "2021-06-25T09:41:55.661001Z",
          "shell.execute_reply.started": "2021-06-25T09:41:55.576944Z",
          "shell.execute_reply": "2021-06-25T09:41:55.660006Z"
        },
        "trusted": true,
        "id": "NVeFC0pXstKF",
        "outputId": "108df8ad-3661-48c5-c095-7b9b659bbd0a"
      },
      "source": [
        "test_file = base_dir+\"test_COVIDx_CT-2A.txt\"\n",
        "test_df_original = pd.read_csv(test_file, delimiter = \" \", header=None)\n",
        "test_df_original.columns = ['filename', 'class', 'xmin', 'ymin', 'xmax', 'ymax']\n",
        "test_df_original.head()"
      ],
      "execution_count": null,
      "outputs": [
        {
          "output_type": "execute_result",
          "data": {
            "text/plain": [
              "                filename  class  xmin  ymin  xmax  ymax\n",
              "0  NCP_341_1834_0022.png      2     0   130   512   429\n",
              "1  NCP_341_1834_0023.png      2     0   130   512   429\n",
              "2  NCP_341_1834_0024.png      2     0   130   512   429\n",
              "3  NCP_341_1834_0029.png      2     0   128   512   430\n",
              "4  NCP_341_1834_0030.png      2     0   128   512   430"
            ],
            "text/html": [
              "<div>\n",
              "<style scoped>\n",
              "    .dataframe tbody tr th:only-of-type {\n",
              "        vertical-align: middle;\n",
              "    }\n",
              "\n",
              "    .dataframe tbody tr th {\n",
              "        vertical-align: top;\n",
              "    }\n",
              "\n",
              "    .dataframe thead th {\n",
              "        text-align: right;\n",
              "    }\n",
              "</style>\n",
              "<table border=\"1\" class=\"dataframe\">\n",
              "  <thead>\n",
              "    <tr style=\"text-align: right;\">\n",
              "      <th></th>\n",
              "      <th>filename</th>\n",
              "      <th>class</th>\n",
              "      <th>xmin</th>\n",
              "      <th>ymin</th>\n",
              "      <th>xmax</th>\n",
              "      <th>ymax</th>\n",
              "    </tr>\n",
              "  </thead>\n",
              "  <tbody>\n",
              "    <tr>\n",
              "      <th>0</th>\n",
              "      <td>NCP_341_1834_0022.png</td>\n",
              "      <td>2</td>\n",
              "      <td>0</td>\n",
              "      <td>130</td>\n",
              "      <td>512</td>\n",
              "      <td>429</td>\n",
              "    </tr>\n",
              "    <tr>\n",
              "      <th>1</th>\n",
              "      <td>NCP_341_1834_0023.png</td>\n",
              "      <td>2</td>\n",
              "      <td>0</td>\n",
              "      <td>130</td>\n",
              "      <td>512</td>\n",
              "      <td>429</td>\n",
              "    </tr>\n",
              "    <tr>\n",
              "      <th>2</th>\n",
              "      <td>NCP_341_1834_0024.png</td>\n",
              "      <td>2</td>\n",
              "      <td>0</td>\n",
              "      <td>130</td>\n",
              "      <td>512</td>\n",
              "      <td>429</td>\n",
              "    </tr>\n",
              "    <tr>\n",
              "      <th>3</th>\n",
              "      <td>NCP_341_1834_0029.png</td>\n",
              "      <td>2</td>\n",
              "      <td>0</td>\n",
              "      <td>128</td>\n",
              "      <td>512</td>\n",
              "      <td>430</td>\n",
              "    </tr>\n",
              "    <tr>\n",
              "      <th>4</th>\n",
              "      <td>NCP_341_1834_0030.png</td>\n",
              "      <td>2</td>\n",
              "      <td>0</td>\n",
              "      <td>128</td>\n",
              "      <td>512</td>\n",
              "      <td>430</td>\n",
              "    </tr>\n",
              "  </tbody>\n",
              "</table>\n",
              "</div>"
            ]
          },
          "metadata": {
            "tags": []
          },
          "execution_count": 2
        }
      ]
    },
    {
      "cell_type": "code",
      "metadata": {
        "execution": {
          "iopub.status.busy": "2021-06-25T09:42:00.892046Z",
          "iopub.execute_input": "2021-06-25T09:42:00.892382Z",
          "iopub.status.idle": "2021-06-25T09:42:16.967529Z",
          "shell.execute_reply.started": "2021-06-25T09:42:00.892354Z",
          "shell.execute_reply": "2021-06-25T09:42:16.966529Z"
        },
        "trusted": true,
        "id": "LE9R-ki3stKH",
        "outputId": "bdd19bac-aabe-4dd5-8217-77179a1a2038"
      },
      "source": [
        "test_df = test_df_original[['filename', 'class']]\n",
        "\n",
        "for i in range(test_df.shape[0]):\n",
        "    filename = test_df['filename'][i]\n",
        "    file_full_path = f\"{base_dir}/2A_images/{filename}\"\n",
        "    test_df['filename'][i] = file_full_path\n",
        "    #test_df['class'][i] = str(test_df['class'][i])\n",
        "    \n",
        "print(f\"test_df['filename'][0] = {test_df['filename'][0]}\")\n",
        "test_df.tail()"
      ],
      "execution_count": null,
      "outputs": [
        {
          "output_type": "stream",
          "text": [
            "/opt/conda/lib/python3.7/site-packages/ipykernel_launcher.py:6: SettingWithCopyWarning: \n",
            "A value is trying to be set on a copy of a slice from a DataFrame\n",
            "\n",
            "See the caveats in the documentation: https://pandas.pydata.org/pandas-docs/stable/user_guide/indexing.html#returning-a-view-versus-a-copy\n",
            "  \n",
            "/opt/conda/lib/python3.7/site-packages/IPython/core/interactiveshell.py:3437: SettingWithCopyWarning: \n",
            "A value is trying to be set on a copy of a slice from a DataFrame\n",
            "\n",
            "See the caveats in the documentation: https://pandas.pydata.org/pandas-docs/stable/user_guide/indexing.html#returning-a-view-versus-a-copy\n",
            "  exec(code_obj, self.user_global_ns, self.user_ns)\n"
          ],
          "name": "stderr"
        },
        {
          "output_type": "stream",
          "text": [
            "test_df['filename'][0] = ../input/covidxct/2A_images/NCP_341_1834_0022.png\n"
          ],
          "name": "stdout"
        },
        {
          "output_type": "execute_result",
          "data": {
            "text/plain": [
              "                                                filename  class\n",
              "25653  ../input/covidxct/2A_images/radiopaedia_29_864...      2\n",
              "25654  ../input/covidxct/2A_images/radiopaedia_29_864...      2\n",
              "25655  ../input/covidxct/2A_images/radiopaedia_29_864...      2\n",
              "25656  ../input/covidxct/2A_images/radiopaedia_29_864...      2\n",
              "25657  ../input/covidxct/2A_images/radiopaedia_29_864...      2"
            ],
            "text/html": [
              "<div>\n",
              "<style scoped>\n",
              "    .dataframe tbody tr th:only-of-type {\n",
              "        vertical-align: middle;\n",
              "    }\n",
              "\n",
              "    .dataframe tbody tr th {\n",
              "        vertical-align: top;\n",
              "    }\n",
              "\n",
              "    .dataframe thead th {\n",
              "        text-align: right;\n",
              "    }\n",
              "</style>\n",
              "<table border=\"1\" class=\"dataframe\">\n",
              "  <thead>\n",
              "    <tr style=\"text-align: right;\">\n",
              "      <th></th>\n",
              "      <th>filename</th>\n",
              "      <th>class</th>\n",
              "    </tr>\n",
              "  </thead>\n",
              "  <tbody>\n",
              "    <tr>\n",
              "      <th>25653</th>\n",
              "      <td>../input/covidxct/2A_images/radiopaedia_29_864...</td>\n",
              "      <td>2</td>\n",
              "    </tr>\n",
              "    <tr>\n",
              "      <th>25654</th>\n",
              "      <td>../input/covidxct/2A_images/radiopaedia_29_864...</td>\n",
              "      <td>2</td>\n",
              "    </tr>\n",
              "    <tr>\n",
              "      <th>25655</th>\n",
              "      <td>../input/covidxct/2A_images/radiopaedia_29_864...</td>\n",
              "      <td>2</td>\n",
              "    </tr>\n",
              "    <tr>\n",
              "      <th>25656</th>\n",
              "      <td>../input/covidxct/2A_images/radiopaedia_29_864...</td>\n",
              "      <td>2</td>\n",
              "    </tr>\n",
              "    <tr>\n",
              "      <th>25657</th>\n",
              "      <td>../input/covidxct/2A_images/radiopaedia_29_864...</td>\n",
              "      <td>2</td>\n",
              "    </tr>\n",
              "  </tbody>\n",
              "</table>\n",
              "</div>"
            ]
          },
          "metadata": {
            "tags": []
          },
          "execution_count": 3
        }
      ]
    },
    {
      "cell_type": "code",
      "metadata": {
        "execution": {
          "iopub.status.busy": "2021-06-25T09:42:16.969623Z",
          "iopub.execute_input": "2021-06-25T09:42:16.970109Z",
          "iopub.status.idle": "2021-06-25T09:42:17.009905Z",
          "shell.execute_reply.started": "2021-06-25T09:42:16.970059Z",
          "shell.execute_reply": "2021-06-25T09:42:17.008788Z"
        },
        "trusted": true,
        "id": "cRXAuW-tstKJ",
        "outputId": "b32a3712-8642-42e8-9831-26404704c424"
      },
      "source": [
        "test_df['class'] = test_df['class'].astype(str)"
      ],
      "execution_count": null,
      "outputs": [
        {
          "output_type": "stream",
          "text": [
            "/opt/conda/lib/python3.7/site-packages/ipykernel_launcher.py:1: SettingWithCopyWarning: \n",
            "A value is trying to be set on a copy of a slice from a DataFrame.\n",
            "Try using .loc[row_indexer,col_indexer] = value instead\n",
            "\n",
            "See the caveats in the documentation: https://pandas.pydata.org/pandas-docs/stable/user_guide/indexing.html#returning-a-view-versus-a-copy\n",
            "  \"\"\"Entry point for launching an IPython kernel.\n"
          ],
          "name": "stderr"
        }
      ]
    },
    {
      "cell_type": "code",
      "metadata": {
        "id": "Y2Fs35MrstKK"
      },
      "source": [
        ""
      ],
      "execution_count": null,
      "outputs": []
    },
    {
      "cell_type": "code",
      "metadata": {
        "execution": {
          "iopub.status.busy": "2021-06-25T09:42:49.594894Z",
          "iopub.execute_input": "2021-06-25T09:42:49.595254Z",
          "iopub.status.idle": "2021-06-25T09:42:49.601203Z",
          "shell.execute_reply.started": "2021-06-25T09:42:49.595220Z",
          "shell.execute_reply": "2021-06-25T09:42:49.599875Z"
        },
        "trusted": true,
        "id": "4uqU8miFstKL"
      },
      "source": [
        "train_datagen = ImageDataGenerator(rescale=1./255)\n",
        "val_datagen = ImageDataGenerator(rescale=1./255)\n",
        "test_datagen = ImageDataGenerator(rescale=1./255)"
      ],
      "execution_count": null,
      "outputs": []
    },
    {
      "cell_type": "code",
      "metadata": {
        "id": "p9w0-bRastKM"
      },
      "source": [
        ""
      ],
      "execution_count": null,
      "outputs": []
    },
    {
      "cell_type": "code",
      "metadata": {
        "execution": {
          "iopub.status.busy": "2021-06-24T16:16:00.824217Z",
          "iopub.execute_input": "2021-06-24T16:16:00.824608Z",
          "iopub.status.idle": "2021-06-24T16:21:11.778645Z",
          "shell.execute_reply.started": "2021-06-24T16:16:00.824567Z",
          "shell.execute_reply": "2021-06-24T16:21:11.777048Z"
        },
        "trusted": true,
        "id": "NGkG0e9ustKN"
      },
      "source": [
        "#'''\n",
        "train_generator = train_datagen.flow_from_dataframe(\n",
        "        train_df,\n",
        "        directory=None,\n",
        "        x_col='filename', \n",
        "        y_col='class',\n",
        "        #target_size=(800, 804),  # target images are automatically resized to (256, 256)\n",
        "        batch_size=BATCH_SIZE,\n",
        "        shuffle = True,\n",
        "        color_mode=color_type, # grayscale, rgb\n",
        "        class_mode='categorical'\n",
        ")\n",
        "#'''"
      ],
      "execution_count": null,
      "outputs": []
    },
    {
      "cell_type": "code",
      "metadata": {
        "execution": {
          "iopub.status.busy": "2021-06-24T16:21:11.779849Z",
          "iopub.execute_input": "2021-06-24T16:21:11.780261Z",
          "iopub.status.idle": "2021-06-24T16:21:11.787586Z",
          "shell.execute_reply.started": "2021-06-24T16:21:11.78022Z",
          "shell.execute_reply": "2021-06-24T16:21:11.785601Z"
        },
        "trusted": true,
        "id": "ZQQ-uVW6stKO"
      },
      "source": [
        "#'''\n",
        "num_classes = len(train_generator.class_indices)\n",
        "total_train_data = train_generator.samples\n",
        "\n",
        "print(f\"total_train_data = {total_train_data}\")\n",
        "print(f\"train_generator.image_shape = {train_generator.image_shape}\")\n",
        "print(f\"num_classes = {num_classes}\")\n",
        "#'''"
      ],
      "execution_count": null,
      "outputs": []
    },
    {
      "cell_type": "code",
      "metadata": {
        "execution": {
          "iopub.status.busy": "2021-06-24T16:21:11.788863Z",
          "iopub.execute_input": "2021-06-24T16:21:11.789214Z",
          "iopub.status.idle": "2021-06-24T16:22:05.23319Z",
          "shell.execute_reply.started": "2021-06-24T16:21:11.789176Z",
          "shell.execute_reply": "2021-06-24T16:22:05.231749Z"
        },
        "trusted": true,
        "id": "RCwUyPEAstKO"
      },
      "source": [
        "#'''\n",
        "val_generator = val_datagen.flow_from_dataframe(\n",
        "        val_df,\n",
        "        directory=None,\n",
        "        x_col='filename', \n",
        "        y_col='class',\n",
        "        #target_size=(800, 804),  # target images are automatically resized to (256, 256)\n",
        "        batch_size=BATCH_SIZE,\n",
        "        shuffle = True,\n",
        "        color_mode=color_type, # grayscale, rgb\n",
        "        class_mode='categorical'\n",
        ")\n",
        "#'''"
      ],
      "execution_count": null,
      "outputs": []
    },
    {
      "cell_type": "code",
      "metadata": {
        "execution": {
          "iopub.status.busy": "2021-06-24T16:22:05.234551Z",
          "iopub.execute_input": "2021-06-24T16:22:05.234878Z",
          "iopub.status.idle": "2021-06-24T16:22:05.241123Z",
          "shell.execute_reply.started": "2021-06-24T16:22:05.234843Z",
          "shell.execute_reply": "2021-06-24T16:22:05.239064Z"
        },
        "trusted": true,
        "id": "X8FzglibstKP"
      },
      "source": [
        "#'''\n",
        "num_classes = len(val_generator.class_indices)\n",
        "total_val_data = val_generator.samples\n",
        "\n",
        "print(f\"total_val_data = {total_val_data}\")\n",
        "print(f\"val_generator.image_shape = {val_generator.image_shape}\")\n",
        "print(f\"num_classes = {num_classes}\")\n",
        "#'''"
      ],
      "execution_count": null,
      "outputs": []
    },
    {
      "cell_type": "code",
      "metadata": {
        "execution": {
          "iopub.status.busy": "2021-06-25T09:44:44.669537Z",
          "iopub.execute_input": "2021-06-25T09:44:44.670026Z",
          "iopub.status.idle": "2021-06-25T09:46:05.642893Z",
          "shell.execute_reply.started": "2021-06-25T09:44:44.669995Z",
          "shell.execute_reply": "2021-06-25T09:46:05.641953Z"
        },
        "trusted": true,
        "id": "mdlMCYwjstKP",
        "outputId": "4e7432a5-e33c-429a-fca7-5e9fd52f488e"
      },
      "source": [
        "test_generator = test_datagen.flow_from_dataframe(\n",
        "        test_df,\n",
        "        directory=None,\n",
        "        x_col='filename', \n",
        "        y_col='class',\n",
        "        #target_size=(800, 804),  # target images are automatically resized to (256, 256)\n",
        "        batch_size=BATCH_SIZE,\n",
        "        shuffle = False,\n",
        "        color_mode=color_type, # grayscale, rgb\n",
        "        class_mode='categorical'\n",
        ")"
      ],
      "execution_count": null,
      "outputs": [
        {
          "output_type": "stream",
          "text": [
            "Found 25658 validated image filenames belonging to 3 classes.\n"
          ],
          "name": "stdout"
        }
      ]
    },
    {
      "cell_type": "code",
      "metadata": {
        "execution": {
          "iopub.status.busy": "2021-06-25T09:46:05.644056Z",
          "iopub.execute_input": "2021-06-25T09:46:05.644447Z",
          "iopub.status.idle": "2021-06-25T09:46:05.650303Z",
          "shell.execute_reply.started": "2021-06-25T09:46:05.644417Z",
          "shell.execute_reply": "2021-06-25T09:46:05.649285Z"
        },
        "trusted": true,
        "id": "5UfExRUestKQ",
        "outputId": "23348060-5a66-4eff-f9ff-0a7399b3c6d9"
      },
      "source": [
        "num_classes = len(test_generator.class_indices)\n",
        "total_test_data = test_generator.samples\n",
        "\n",
        "print(f\"total_test_data = {total_test_data}\")\n",
        "print(f\"test_generator.image_shape = {test_generator.image_shape}\")\n",
        "print(f\"num_classes = {num_classes}\")"
      ],
      "execution_count": null,
      "outputs": [
        {
          "output_type": "stream",
          "text": [
            "total_test_data = 25658\n",
            "test_generator.image_shape = (256, 256, 3)\n",
            "num_classes = 3\n"
          ],
          "name": "stdout"
        }
      ]
    },
    {
      "cell_type": "code",
      "metadata": {
        "id": "_czOC-PzstKQ"
      },
      "source": [
        ""
      ],
      "execution_count": null,
      "outputs": []
    },
    {
      "cell_type": "code",
      "metadata": {
        "execution": {
          "iopub.status.busy": "2021-06-25T10:08:41.700477Z",
          "iopub.execute_input": "2021-06-25T10:08:41.701003Z",
          "iopub.status.idle": "2021-06-25T10:08:41.708002Z",
          "shell.execute_reply.started": "2021-06-25T10:08:41.700969Z",
          "shell.execute_reply": "2021-06-25T10:08:41.706960Z"
        },
        "trusted": true,
        "id": "hNf3zPebstKR",
        "outputId": "8213d89b-95c3-4bfd-a2e0-b4e1e18b235f"
      },
      "source": [
        "# DenseNet121 ResNet101 ResNet50 DenseNet201 InceptionV3 Xception NASNetLarge ResNet152V2 InceptionResNetV2 EfficientNetB7\n",
        "impl_type = \"TL.3D.DenseNet201\" # TransferLearning3D \n",
        "dataset = f\"{Dataset_Name}.{color_type}.{test_generator.image_shape[1]}p.DataFlow.TVT\" # +str(img_size)+\"p\"\n",
        "dataset"
      ],
      "execution_count": null,
      "outputs": [
        {
          "output_type": "execute_result",
          "data": {
            "text/plain": [
              "'COVIDx_CT_2A_Kaggle.rgb.(256, 256).DataFlow.TrainValTest'"
            ]
          },
          "metadata": {
            "tags": []
          },
          "execution_count": 27
        }
      ]
    },
    {
      "cell_type": "code",
      "metadata": {
        "execution": {
          "iopub.status.busy": "2021-06-24T16:22:29.118858Z",
          "iopub.execute_input": "2021-06-24T16:22:29.119448Z",
          "iopub.status.idle": "2021-06-24T16:22:29.125295Z",
          "shell.execute_reply.started": "2021-06-24T16:22:29.119411Z",
          "shell.execute_reply": "2021-06-24T16:22:29.124521Z"
        },
        "trusted": true,
        "id": "HQnkDu5HstKR"
      },
      "source": [
        "#'''\n",
        "count_no_improvement = 0\n",
        "epoch_initial = True\n",
        "#'''"
      ],
      "execution_count": null,
      "outputs": []
    },
    {
      "cell_type": "code",
      "metadata": {
        "execution": {
          "iopub.status.busy": "2021-06-25T10:09:24.848116Z",
          "iopub.execute_input": "2021-06-25T10:09:24.848514Z",
          "iopub.status.idle": "2021-06-25T10:09:24.858949Z",
          "shell.execute_reply.started": "2021-06-25T10:09:24.848482Z",
          "shell.execute_reply": "2021-06-25T10:09:24.857767Z"
        },
        "trusted": true,
        "id": "gC-e0e6hstKS",
        "outputId": "4bb5d9ac-2ed8-4415-a971-24bf26799475"
      },
      "source": [
        "#NUM_NEURONS = 16\n",
        "#NUM_LAYERS = 3\n",
        "#BATCH_SIZE = 16 # 10\n",
        "NUM_EPOCHS = 300 # 300, 5\n",
        "epochs_completed = 0\n",
        "LEARNING_RATE = 0.00001\n",
        "EPSILON = 1e-4\n",
        "early_stop_after_epochs = 5\n",
        "DROPOUT = 0.5 # 0.5 0.0\n",
        "pad = 0\n",
        "\n",
        "LOSS = 'categorical_crossentropy'\n",
        "ACTIVATION_FUNCTION = 'elu' # relu sigmoid elu\n",
        "FINAL_ACTIVATION_FUNCTION = 'softmax'\n",
        "validation_split = 0.1\n",
        "kernel_size=(1,1)\n",
        "pointTrainableAfter = \"allDefault\" # \"allDefault\" 160 170\n",
        "OPTIMIZER = \"Adam\" # Adam SGD RMSProp\n",
        "init_weights = \"imagenet\" # \"imagenet\" None\n",
        "modelExt = \".Dense.1024.1024.2048\" # .Dense.128.256.512, .512.512.512 .Dense.512.512.512.512.Res\n",
        "l2_val = 0.001\n",
        "\n",
        "# +\"_kernel\"+str(kernel_size)+\"_lr\"+str(LEARNING_RATE)+\"_batch\"+str(BATCH_SIZE)+\"_epochs\"+str(NUM_EPOCHS)\n",
        "#checkpointer_name  = \"weights_\"+dataset+\"_\"+impl_type+\"_nLayers\"+str(NUM_LAYERS)+\"_nNeurons\"+str(NUM_NEURONS)+\".hdf5\"\n",
        "ext = f\".Flatten.l2.{str(l2_val)}.run_1\" # run_1 run_2 .DropAfter .momentum0.9\n",
        "#'''\n",
        "checkpointer_name  = \"weights.\"+dataset+\".pad\"+str(pad)+\".\"+impl_type+\".wInit.\"+str(init_weights)+\".TrainableAfter.\"+str(pointTrainableAfter)+\\\n",
        "                     modelExt+\".actF.\"+ACTIVATION_FUNCTION+\".opt.\"+OPTIMIZER+\".drop.\"+str(DROPOUT)+\".batch\"+str(BATCH_SIZE)+ext+\".hdf5\"\n",
        "log_name = \"log.\"+checkpointer_name[8:-5]+\".log\"\n",
        "\n",
        "print('checkpointer_name =', checkpointer_name)\n",
        "print('log_name =', log_name)\n",
        "#'''"
      ],
      "execution_count": null,
      "outputs": [
        {
          "output_type": "stream",
          "text": [
            "checkpointer_name = weights.COVIDx_CT_2A_Kaggle.rgb.(256, 256).DataFlow.TrainValTest.pad0.TransferLearning3D.DenseNet201.wInit.imagenet.TrainableAfter.allDefault.Dense.1024.1024.2048.actF.elu.opt.Adam.drop.0.5.batch16.Flatten.l2.0.001.run_1.hdf5\n",
            "log_name = log.COVIDx_CT_2A_Kaggle.rgb.(256, 256).DataFlow.TrainValTest.pad0.TransferLearning3D.DenseNet201.wInit.imagenet.TrainableAfter.allDefault.Dense.1024.1024.2048.actF.elu.opt.Adam.drop.0.5.batch16.Flatten.l2.0.001.run_1.log\n"
          ],
          "name": "stdout"
        }
      ]
    },
    {
      "cell_type": "code",
      "metadata": {
        "execution": {
          "iopub.status.busy": "2021-06-24T16:22:29.137544Z",
          "iopub.execute_input": "2021-06-24T16:22:29.138114Z",
          "iopub.status.idle": "2021-06-24T16:22:36.29465Z",
          "shell.execute_reply.started": "2021-06-24T16:22:29.138078Z",
          "shell.execute_reply": "2021-06-24T16:22:36.293746Z"
        },
        "trusted": true,
        "id": "zFBlEzfxstKT"
      },
      "source": [
        "#'''\n",
        "#base_model=DenseNet121(weights=None, include_top=False, input_shape=np_train_dataset2.shape[1:]) # `None` (random initialization)\n",
        "#base_model=ResNet152V2(weights=None, include_top=False, input_shape=np_train_dataset2.shape[1:])\n",
        "# ResNet152V2 ResNet50 ResNet101 ResNet152 DenseNet201 InceptionV3 Xception NASNetLarge 'imagenet' ResNet152V2 DenseNet121\n",
        "#inputs = Input(final_train_imageset.shape[1:])\n",
        "#x = ZeroPadding2D(padding=(pad,pad))(inputs)\n",
        "#base_model=tf.keras.applications.ResNet50(weights=init_weights, include_top=False, input_tensor=x)\n",
        "base_model=tf.keras.applications.DenseNet201(weights=init_weights, include_top=False, input_shape=train_generator.image_shape)\n",
        "x=base_model.output\n",
        "\n",
        "x = Flatten()(x)\n",
        "\n",
        "#'''\n",
        "x = Dense(1024, kernel_regularizer=tf.keras.regularizers.l2(l2_val), activation=ACTIVATION_FUNCTION)(x)\n",
        "#x_copy = x\n",
        "x = Dropout(DROPOUT)(x)\n",
        "x = Dense(1024, kernel_regularizer=tf.keras.regularizers.l2(l2_val), activation=ACTIVATION_FUNCTION)(x)\n",
        "x = Dropout(DROPOUT)(x)\n",
        "x = Dense(2048, kernel_regularizer=tf.keras.regularizers.l2(l2_val), activation=ACTIVATION_FUNCTION)(x)\n",
        "x = Dropout(DROPOUT)(x)\n",
        "#x = Add()([x,x_copy])\n",
        "#'''\n",
        "outputs=Dense(num_classes,activation='softmax')(x)\n",
        "\n",
        "model=Model(inputs=base_model.input,outputs=outputs)\n",
        "#model.summary()\n",
        "#'''"
      ],
      "execution_count": null,
      "outputs": []
    },
    {
      "cell_type": "code",
      "metadata": {
        "execution": {
          "iopub.status.busy": "2021-06-24T16:22:36.295934Z",
          "iopub.execute_input": "2021-06-24T16:22:36.296261Z",
          "iopub.status.idle": "2021-06-24T16:22:36.302784Z",
          "shell.execute_reply.started": "2021-06-24T16:22:36.296227Z",
          "shell.execute_reply": "2021-06-24T16:22:36.301765Z"
        },
        "trusted": true,
        "id": "ZivRbDjAstKT"
      },
      "source": [
        "'''\n",
        "tf.keras.utils.plot_model(\n",
        "    model, to_file='model.png', show_shapes=True, show_dtype=False,\n",
        "    show_layer_names=True, rankdir='TB', expand_nested=True, dpi=64\n",
        ")\n",
        "#'''"
      ],
      "execution_count": null,
      "outputs": []
    },
    {
      "cell_type": "code",
      "metadata": {
        "execution": {
          "iopub.status.busy": "2021-06-24T16:22:36.304066Z",
          "iopub.execute_input": "2021-06-24T16:22:36.304551Z",
          "iopub.status.idle": "2021-06-24T16:22:36.334442Z",
          "shell.execute_reply.started": "2021-06-24T16:22:36.304514Z",
          "shell.execute_reply": "2021-06-24T16:22:36.333535Z"
        },
        "trusted": true,
        "id": "H8YzttF8stKT"
      },
      "source": [
        "count_trainable = 0\n",
        "count_non_trainable = 0\n",
        "\n",
        "#'''\n",
        "if pointTrainableAfter == \"allDefault\":\n",
        "    for layer in model.layers:\n",
        "        layer.trainable=True\n",
        "        count_trainable += 1\n",
        "elif pointTrainableAfter > 0:\n",
        "    for layer in model.layers[:pointTrainableAfter]: # [:-pointTrainableAfter]\n",
        "        layer.trainable=False\n",
        "        count_non_trainable += 1\n",
        "    for layer in model.layers[pointTrainableAfter:]: # [-pointTrainableAfter:]\n",
        "        layer.trainable=True\n",
        "        count_trainable += 1\n",
        "#'''\n",
        "\n",
        "'''\n",
        "for layer in model.layers:\n",
        "    layer.trainable=True\n",
        "    count_trainable += 1\n",
        "#'''\n",
        "\n",
        "print(\"count_non_trainable =\", count_non_trainable)\n",
        "print(\"count_trainable =\", count_trainable)\n",
        "print(\"Total number of layers =\", count_non_trainable+count_trainable)"
      ],
      "execution_count": null,
      "outputs": []
    },
    {
      "cell_type": "code",
      "metadata": {
        "execution": {
          "iopub.status.busy": "2021-06-24T16:22:36.335623Z",
          "iopub.execute_input": "2021-06-24T16:22:36.335951Z",
          "iopub.status.idle": "2021-06-24T16:22:36.367917Z",
          "shell.execute_reply.started": "2021-06-24T16:22:36.335919Z",
          "shell.execute_reply": "2021-06-24T16:22:36.367191Z"
        },
        "trusted": true,
        "id": "BMWbG0CEstKV"
      },
      "source": [
        "# \"RMSProp\" \"SGD\" \"Adam\" \"Adamax\" \"Adadelta\" \"Adagrad\" \"SGD\"\n",
        "#optimizer = tf.keras.optimizers.RMSprop(lr = LEARNING_RATE, epsilon=EPSILON)\n",
        "\n",
        "if OPTIMIZER == \"RMSProp\":\n",
        "    optimizer = tf.keras.optimizers.RMSprop(lr = LEARNING_RATE, epsilon=EPSILON)\n",
        "elif OPTIMIZER == \"Adam\":\n",
        "    optimizer = tf.keras.optimizers.Adam(lr = LEARNING_RATE, epsilon=EPSILON, beta_1=0.9, beta_2=0.999)\n",
        "elif OPTIMIZER == \"Adamax\":\n",
        "    optimizer = tf.keras.optimizers.Adamax(lr = LEARNING_RATE, epsilon=EPSILON, beta_1=0.9, beta_2=0.999)\n",
        "elif OPTIMIZER == \"Adadelta\":\n",
        "    optimizer = tf.keras.optimizers.Adadelta(lr = LEARNING_RATE, epsilon=EPSILON, rho=0.95)\n",
        "elif OPTIMIZER == \"Adagrad\":\n",
        "    optimizer = tf.keras.optimizers.Adagrad(lr = LEARNING_RATE, epsilon=EPSILON, initial_accumulator_value=0.1)\n",
        "elif OPTIMIZER == \"SGD\":\n",
        "    optimizer = tf.keras.optimizers.SGD(lr = LEARNING_RATE, momentum=0.9)\n",
        "\n",
        "model.compile(\n",
        "    #optimizer=OPTIMIZER,\n",
        "    optimizer=optimizer,\n",
        "    loss=LOSS,\n",
        "    metrics=['accuracy', 'AUC', 'TruePositives', 'TrueNegatives', 'FalsePositives', 'FalseNegatives']\n",
        ")\n",
        "\n",
        "print(\"OPTIMIZER =\", OPTIMIZER)"
      ],
      "execution_count": null,
      "outputs": []
    },
    {
      "cell_type": "code",
      "metadata": {
        "execution": {
          "iopub.status.busy": "2021-06-24T16:22:36.369048Z",
          "iopub.execute_input": "2021-06-24T16:22:36.369381Z",
          "iopub.status.idle": "2021-06-24T16:22:36.375135Z",
          "shell.execute_reply.started": "2021-06-24T16:22:36.369329Z",
          "shell.execute_reply": "2021-06-24T16:22:36.374375Z"
        },
        "trusted": true,
        "id": "9-pUh3OGstKV"
      },
      "source": [
        "# save the best model with least validation loss\n",
        "checkpointer = ModelCheckpoint(filepath = work_dir+checkpointer_name, \n",
        "                               #monitor='val_accuracy',\n",
        "                               monitor='val_loss',\n",
        "                               save_weights_only=False,  \n",
        "                               mode='auto', \n",
        "                               verbose = 1, # 0 = silent, 1 = progress bar, 2 = one line per epoch\n",
        "                               save_best_only =False\n",
        "                               )\n",
        "checkpointer_best = ModelCheckpoint(filepath = work_dir+\"best_\"+checkpointer_name, \n",
        "                                    monitor='val_loss', \n",
        "                                    save_weights_only=False,\n",
        "                                    mode='auto',  \n",
        "                                    verbose = 1, \n",
        "                                    save_best_only = True\n",
        "                                    )\n",
        "early_stopping = EarlyStopping(monitor='loss', patience=early_stop_after_epochs)"
      ],
      "execution_count": null,
      "outputs": []
    },
    {
      "cell_type": "code",
      "metadata": {
        "execution": {
          "iopub.status.busy": "2021-06-24T16:22:36.376288Z",
          "iopub.execute_input": "2021-06-24T16:22:36.376837Z",
          "iopub.status.idle": "2021-06-24T16:22:36.391903Z",
          "shell.execute_reply.started": "2021-06-24T16:22:36.376802Z",
          "shell.execute_reply": "2021-06-24T16:22:36.391157Z"
        },
        "trusted": true,
        "id": "sy8VinMLstKV"
      },
      "source": [
        "'''\n",
        "if 'count_no_improvement' not in globals():\n",
        "    count_no_improvement = 0\n",
        "    print(\"count_no_improvement =\", count_no_improvement)\n",
        "#'''\n",
        "'''\n",
        "count_no_improvement = 0\n",
        "epoch_initial = False\n",
        "#'''\n",
        "min_delta = 0.0009\n",
        "print(\"count_no_improvement =\", count_no_improvement)\n",
        "\n",
        "def checkBestPerformance(epoch, logs):\n",
        "    save_filepath = work_dir+\"best_\"+checkpointer_name\n",
        "\n",
        "    global epoch_initial\n",
        "    if epoch_initial == True:\n",
        "        epoch_initial = False\n",
        "        model.save(filepath = save_filepath)\n",
        "        print(\". Model saved!\")\n",
        "\n",
        "    elif epoch_initial == False:\n",
        "        global count_no_improvement\n",
        "\n",
        "        log_data = pd.read_csv(work_dir+log_name, sep=',', usecols=['val_loss', 'val_accuracy'], engine='python')\n",
        "        min_val_loss = float(str(min(log_data.val_loss.values))[:6])\n",
        "        max_val_acc = float(str(max(log_data.val_accuracy.values))[:6])\n",
        "\n",
        "        current_val_acc = float(str(logs['val_accuracy'])[:6])\n",
        "        current_val_loss = float(str(logs['val_loss'])[:6])\n",
        "\n",
        "        if (current_val_loss < min_val_loss) and (abs(current_val_loss-min_val_loss) >= min_delta):\n",
        "            count_no_improvement = 0\n",
        "            model.save(filepath = save_filepath)\n",
        "            print(\"\\nval_loss decreased from\",min_val_loss,\" to\",current_val_loss,\"( val_accuracy =\",current_val_acc,\").\")\n",
        "\n",
        "        elif (current_val_loss==min_val_loss) and (current_val_acc>max_val_acc):\n",
        "            count_no_improvement = 0\n",
        "            model.save(filepath = save_filepath)\n",
        "            print(\"\\nval_accuracy increased to\", current_val_acc, \".\")\n",
        "\n",
        "        else:\n",
        "            count_no_improvement += 1\n",
        "            print(\". count_no_improvement =\", count_no_improvement)\n",
        "\n",
        "        if count_no_improvement >= early_stop_after_epochs:\n",
        "            global list_callbacks\n",
        "            del list_callbacks, count_no_improvement\n",
        "            #print(\"count_no_improvement =\", count_no_improvement, \"... list_callbacks =\", list_callbacks)"
      ],
      "execution_count": null,
      "outputs": []
    },
    {
      "cell_type": "code",
      "metadata": {
        "execution": {
          "iopub.status.busy": "2021-06-24T16:22:36.393127Z",
          "iopub.execute_input": "2021-06-24T16:22:36.393662Z",
          "iopub.status.idle": "2021-06-24T16:22:36.61906Z",
          "shell.execute_reply.started": "2021-06-24T16:22:36.393625Z",
          "shell.execute_reply": "2021-06-24T16:22:36.618112Z"
        },
        "trusted": true,
        "id": "UyKwoOCKstKV"
      },
      "source": [
        "epochs_completed = 0\n",
        "list_callbacks = []\n",
        "csv_logger = CSVLogger(work_dir+log_name, separator=',', append=True)\n",
        "\n",
        "#if 'list_callbacks' in globals():\n",
        "#    del list_callbacks\n",
        "\n",
        "try:\n",
        "    log_data = pd.read_csv(work_dir+log_name, sep=',', usecols=['epoch'], engine='python')\n",
        "    epochs_completed = log_data.shape[0]\n",
        "\n",
        "    #if epochs_completed > 0:\n",
        "    model = load_model(work_dir+checkpointer_name)\n",
        "    list_callbacks = [checkpointer, LambdaCallback(on_epoch_end=checkBestPerformance), csv_logger]\n",
        "    print(\"epochs_completed =\", epochs_completed)\n",
        "\n",
        "except Exception as error:\n",
        "    if epochs_completed == 0:\n",
        "        # list_callbacks = [checkpointer, checkpointer_best, csv_logger, early_stopping] \n",
        "        list_callbacks = [checkpointer, LambdaCallback(on_epoch_end=checkBestPerformance), csv_logger]\n",
        "        print(\"epochs_completed =\", epochs_completed)\n",
        "    elif epochs_completed > 0:\n",
        "        print(error)\n",
        "\n",
        "print('checkpointer_name =', checkpointer_name)"
      ],
      "execution_count": null,
      "outputs": []
    },
    {
      "cell_type": "code",
      "metadata": {
        "execution": {
          "iopub.status.busy": "2021-06-24T16:22:36.620481Z",
          "iopub.execute_input": "2021-06-24T16:22:36.620825Z",
          "iopub.status.idle": "2021-06-25T00:36:22.523572Z",
          "shell.execute_reply.started": "2021-06-24T16:22:36.620788Z",
          "shell.execute_reply": "2021-06-25T00:36:22.510837Z"
        },
        "trusted": true,
        "id": "9zjqqjsAstKW"
      },
      "source": [
        "print('checkpointer_name =', checkpointer_name)\n",
        "print(\"Previously completed epochs =\", epochs_completed)\n",
        "print(\"count_no_improvement =\", count_no_improvement, \"\\n\")\n",
        "\n",
        "#'''\n",
        "try:\n",
        "    start_time = time.time()\n",
        "    history = model.fit(train_generator, \n",
        "                        steps_per_epoch=total_train_data // BATCH_SIZE,\n",
        "                        shuffle=True, \n",
        "                        epochs = NUM_EPOCHS - epochs_completed, \n",
        "                        validation_data=val_generator,\n",
        "                        validation_steps=total_val_data // BATCH_SIZE,\n",
        "                        callbacks=list_callbacks\n",
        "                        )\n",
        "    elapsed_time = time.time() - start_time \n",
        "    print(\"\\nTime elapsed: \", elapsed_time)\n",
        "\n",
        "except Exception as error:\n",
        "    print(\"\\nError:\", error)\n",
        "#'''"
      ],
      "execution_count": null,
      "outputs": []
    },
    {
      "cell_type": "code",
      "metadata": {
        "execution": {
          "iopub.status.busy": "2021-06-25T00:36:46.848168Z",
          "iopub.execute_input": "2021-06-25T00:36:46.848465Z",
          "iopub.status.idle": "2021-06-25T00:43:31.20587Z",
          "shell.execute_reply.started": "2021-06-25T00:36:46.848432Z",
          "shell.execute_reply": "2021-06-25T00:43:31.204954Z"
        },
        "trusted": true,
        "id": "6kImZBikstKX"
      },
      "source": [
        "'''\n",
        "Record: :\n",
        ";\n",
        "---\n",
        "\n",
        "#'''\n",
        "\n",
        "csv_logger = CSVLogger(work_dir+log_name, separator=',', append=True)\n",
        "log_data = pd.read_csv(work_dir+log_name, sep=',', usecols=['epoch'], engine='python')\n",
        "epochs_completed = log_data.shape[0]\n",
        "\n",
        "result = model.evaluate(test_generator, steps=total_test_data // BATCH_SIZE)\n",
        "print(\"Test Acc: {}, AUC: {}, Test Loss: {}: ep{}, {}\\n\".format(round(result[1],4), round(result[2],4), round(result[0],4), epochs_completed, checkpointer_name))\n"
      ],
      "execution_count": null,
      "outputs": []
    },
    {
      "cell_type": "code",
      "metadata": {
        "execution": {
          "iopub.status.busy": "2021-06-25T00:43:31.208829Z",
          "iopub.execute_input": "2021-06-25T00:43:31.209146Z",
          "iopub.status.idle": "2021-06-25T00:43:42.592705Z",
          "shell.execute_reply.started": "2021-06-25T00:43:31.209117Z",
          "shell.execute_reply": "2021-06-25T00:43:42.591761Z"
        },
        "trusted": true,
        "id": "cg5LK7AlstKX"
      },
      "source": [
        "#checkpointer_name = \"weights.Fashion.DenseNet121.wInit.None.TrainableAfterallDefault.opt.SGD.drop.0.0.batch32.Flatten.run_1.hdf5\"\n",
        "model_loaded = load_model(work_dir+\"best_\"+checkpointer_name)\n",
        "print(\"Loaded \"+work_dir+\"best_\"+checkpointer_name+\".\")"
      ],
      "execution_count": null,
      "outputs": []
    },
    {
      "cell_type": "code",
      "metadata": {
        "execution": {
          "iopub.status.busy": "2021-06-25T00:43:42.595643Z",
          "iopub.execute_input": "2021-06-25T00:43:42.596144Z",
          "iopub.status.idle": "2021-06-25T00:46:36.297867Z",
          "shell.execute_reply.started": "2021-06-25T00:43:42.596105Z",
          "shell.execute_reply": "2021-06-25T00:46:36.297034Z"
        },
        "trusted": true,
        "id": "Q3lHNS7HstKY"
      },
      "source": [
        "'''\n",
        "Record: :\n",
        ";\n",
        "---\n",
        "\n",
        "#'''\n",
        "'''\n",
        "csv_logger = CSVLogger(work_dir+log_name, separator=',', append=True)\n",
        "log_data = pd.read_csv(work_dir+log_name, sep=',', usecols=['epoch'], engine='python')\n",
        "epochs_completed = log_data.shape[0]\n",
        "#'''\n",
        "\n",
        "result2 = model_loaded.evaluate(test_generator, steps=total_test_data // BATCH_SIZE)\n",
        "#print(\"nLayers: {}, nNeurons: {}, DROPOUT: {}, Test Acc: {}, Test Loss: {}\".format(NUM_LAYERS, NUM_NEURONS, DROPOUT, round(result2[1], 4), round(result2[0], 4)))\n",
        "print(\"Test Acc: {}, AUC: {}, Test Loss: {}: ep{}, {}\\n\".format(round(result2[1],4), round(result2[2],4), round(result2[0],4), epochs_completed, \"best_\"+checkpointer_name))\n"
      ],
      "execution_count": null,
      "outputs": []
    },
    {
      "cell_type": "code",
      "metadata": {
        "execution": {
          "iopub.status.busy": "2021-06-25T00:46:36.300901Z",
          "iopub.execute_input": "2021-06-25T00:46:36.301168Z",
          "iopub.status.idle": "2021-06-25T00:46:36.309703Z",
          "shell.execute_reply.started": "2021-06-25T00:46:36.301141Z",
          "shell.execute_reply": "2021-06-25T00:46:36.308913Z"
        },
        "trusted": true,
        "id": "V-zZAtzXstKZ"
      },
      "source": [
        "# metrics=['accuracy', 'AUC', 'TruePositives', 'TrueNegatives', 'FalsePositives', 'FalseNegatives']\n",
        "result2 "
      ],
      "execution_count": null,
      "outputs": []
    },
    {
      "cell_type": "code",
      "metadata": {
        "execution": {
          "iopub.status.busy": "2021-06-25T00:46:36.311276Z",
          "iopub.execute_input": "2021-06-25T00:46:36.312039Z",
          "iopub.status.idle": "2021-06-25T00:46:36.318468Z",
          "shell.execute_reply.started": "2021-06-25T00:46:36.312002Z",
          "shell.execute_reply": "2021-06-25T00:46:36.317503Z"
        },
        "trusted": true,
        "id": "bgbIQCrCstKa"
      },
      "source": [
        "TP = result2[3]\n",
        "TN = result2[4]\n",
        "FP = result2[5]\n",
        "FN = result2[6]\n",
        "print(f\"TP={TP}, TN={TN}, FP={FP}, FN={FN}\")"
      ],
      "execution_count": null,
      "outputs": []
    },
    {
      "cell_type": "code",
      "metadata": {
        "execution": {
          "iopub.status.busy": "2021-06-25T00:46:36.319848Z",
          "iopub.execute_input": "2021-06-25T00:46:36.320465Z",
          "iopub.status.idle": "2021-06-25T00:46:36.328567Z",
          "shell.execute_reply.started": "2021-06-25T00:46:36.32043Z",
          "shell.execute_reply": "2021-06-25T00:46:36.327549Z"
        },
        "trusted": true,
        "id": "X-zFgL5xstKb"
      },
      "source": [
        "'''\n",
        "run_1: accuracy=0.9896, sensitivity=recall=0.9896, specificity=0.9949, PPV=precision=0.9897, NPV=0.9948, f1_score=0.9896, auc=0.99\n",
        "\n",
        "'''"
      ],
      "execution_count": null,
      "outputs": []
    },
    {
      "cell_type": "code",
      "metadata": {
        "execution": {
          "iopub.status.busy": "2021-06-25T01:02:52.843044Z",
          "iopub.execute_input": "2021-06-25T01:02:52.843402Z",
          "iopub.status.idle": "2021-06-25T01:02:52.851235Z",
          "shell.execute_reply.started": "2021-06-25T01:02:52.843363Z",
          "shell.execute_reply": "2021-06-25T01:02:52.850073Z"
        },
        "trusted": true,
        "id": "HV-zR6kRstKb"
      },
      "source": [
        "accuracy = round(result2[1], 4)\n",
        "sensitivity = round((TP / (TP+FN)), 4)\n",
        "specificity = round((TN / (FP+TN)), 4)\n",
        "#PPV = round((TP / (TP+FP)), 4)\n",
        "NPV = round((TN / (TN+FN)), 4)\n",
        "precision = round((TP / (TP+FP)), 4) # PPV and precision are same.\n",
        "recall = sensitivity # sensitivity and recall are same.\n",
        "f1_score = round((2*precision*recall) / (precision+recall), 4)\n",
        "auc = round(result2[1], 2)\n",
        "\n",
        "print(f\"accuracy={accuracy}, sensitivity=recall={sensitivity}, specificity={specificity}, PPV=precision={precision}, NPV={NPV}, f1_score={f1_score}, auc={auc}\")"
      ],
      "execution_count": null,
      "outputs": []
    },
    {
      "cell_type": "code",
      "metadata": {
        "execution": {
          "iopub.status.busy": "2021-06-25T00:46:36.342342Z",
          "iopub.execute_input": "2021-06-25T00:46:36.342915Z",
          "iopub.status.idle": "2021-06-25T00:46:36.357037Z",
          "shell.execute_reply.started": "2021-06-25T00:46:36.342865Z",
          "shell.execute_reply": "2021-06-25T00:46:36.356274Z"
        },
        "trusted": true,
        "id": "YzO2bsGBstKc"
      },
      "source": [
        "import csv\n",
        "\n",
        "with open(work_dir+'Records.csv', \"a\") as fp:\n",
        "    wr = csv.writer(fp, dialect='excel')\n",
        "    try:\n",
        "        wr.writerow([checkpointer_name[8:-5], round(result2[1], 4), round(result2[0], 4), elapsed_time])\n",
        "    except:\n",
        "        wr.writerow([checkpointer_name[8:-5], round(result2[1], 4), round(result2[0], 4)])\n",
        "print(\"Saved results.\")"
      ],
      "execution_count": null,
      "outputs": []
    },
    {
      "cell_type": "code",
      "metadata": {
        "execution": {
          "iopub.status.busy": "2021-06-25T00:46:36.358929Z",
          "iopub.execute_input": "2021-06-25T00:46:36.359288Z",
          "iopub.status.idle": "2021-06-25T00:49:25.001961Z",
          "shell.execute_reply.started": "2021-06-25T00:46:36.359231Z",
          "shell.execute_reply": "2021-06-25T00:49:25.001141Z"
        },
        "trusted": true,
        "id": "7EqIKHQnstKc"
      },
      "source": [
        "#Confution Matrix and Classification Report\n",
        "#'''\n",
        "Y_pred = model_loaded.predict_generator(test_generator, verbose=1)\n",
        "#'''\n",
        "#'''\n",
        "save_predictions_filename = f\"Y_pred.{checkpointer_name[8:-5]}\"\n",
        "np.save(f\"{work_dir}{save_predictions_filename}\", Y_pred, allow_pickle=True)\n",
        "print(f\"Saved: {work_dir}{save_predictions_filename}\")\n",
        "#'''"
      ],
      "execution_count": null,
      "outputs": []
    },
    {
      "cell_type": "code",
      "metadata": {
        "execution": {
          "iopub.status.busy": "2021-06-25T00:49:25.003369Z",
          "iopub.execute_input": "2021-06-25T00:49:25.003724Z",
          "iopub.status.idle": "2021-06-25T00:49:25.009271Z",
          "shell.execute_reply.started": "2021-06-25T00:49:25.003685Z",
          "shell.execute_reply": "2021-06-25T00:49:25.008324Z"
        },
        "trusted": true,
        "id": "Zod-JFHJstKd"
      },
      "source": [
        "'''\n",
        "save_predictions_filename = f\"Y_pred.{checkpointer_name[8:-5]}\"\n",
        "np.save(f\"{work_dir}{save_predictions_filename}\", Y_pred, allow_pickle=True)\n",
        "print(f\"Saved: {work_dir}{save_predictions_filename}\")\n",
        "#'''"
      ],
      "execution_count": null,
      "outputs": []
    },
    {
      "cell_type": "code",
      "metadata": {
        "execution": {
          "iopub.status.busy": "2021-06-25T09:48:04.657709Z",
          "iopub.execute_input": "2021-06-25T09:48:04.658259Z",
          "iopub.status.idle": "2021-06-25T09:48:04.663863Z",
          "shell.execute_reply.started": "2021-06-25T09:48:04.658216Z",
          "shell.execute_reply": "2021-06-25T09:48:04.662861Z"
        },
        "trusted": true,
        "id": "z0PF1jnUstKf",
        "outputId": "86ea7a94-87d7-4086-e541-9c9559e05912"
      },
      "source": [
        "len(test_generator.labels)"
      ],
      "execution_count": null,
      "outputs": [
        {
          "output_type": "execute_result",
          "data": {
            "text/plain": [
              "25658"
            ]
          },
          "metadata": {
            "tags": []
          },
          "execution_count": 14
        }
      ]
    },
    {
      "cell_type": "code",
      "metadata": {
        "execution": {
          "iopub.status.busy": "2021-06-25T10:02:54.774953Z",
          "iopub.execute_input": "2021-06-25T10:02:54.776228Z",
          "iopub.status.idle": "2021-06-25T10:02:54.817535Z",
          "shell.execute_reply.started": "2021-06-25T10:02:54.776084Z",
          "shell.execute_reply": "2021-06-25T10:02:54.816048Z"
        },
        "trusted": true,
        "id": "L70GNnV2stKh",
        "outputId": "80f46082-3b98-454a-fe36-f75595555ffc"
      },
      "source": [
        "Y_pred_loaded = np.load(f\"../input/notebooke960295c6e-y-pred/notebooke960295c6e_Y_pred.COVIDx_CT_2A_Kaggle.rgb.(256 256).DataFlow.TrainValTest.pad0.TransferLearning3D.DenseNet201.wInit.imagenet.TrainableAfter.allDefault.Dense.1024.1024.2048.actF.e.npy\", allow_pickle=True)\n",
        "#Y_pred_loaded = np.load(f\"{work_dir}{save_predictions_filename}.npy\", allow_pickle=True)\n",
        "print(f\"Y_pred_loaded.shape = {Y_pred_loaded.shape}\")"
      ],
      "execution_count": null,
      "outputs": [
        {
          "output_type": "stream",
          "text": [
            "Y_pred_loaded.shape = (25658, 3)\n"
          ],
          "name": "stdout"
        }
      ]
    },
    {
      "cell_type": "code",
      "metadata": {
        "execution": {
          "iopub.status.busy": "2021-06-25T10:03:19.612596Z",
          "iopub.execute_input": "2021-06-25T10:03:19.612970Z",
          "iopub.status.idle": "2021-06-25T10:03:19.618505Z",
          "shell.execute_reply.started": "2021-06-25T10:03:19.612939Z",
          "shell.execute_reply": "2021-06-25T10:03:19.617097Z"
        },
        "trusted": true,
        "id": "B9aY8IwrstKi"
      },
      "source": [
        "y_pred = np.argmax(Y_pred_loaded, axis=1)"
      ],
      "execution_count": null,
      "outputs": []
    },
    {
      "cell_type": "code",
      "metadata": {
        "execution": {
          "iopub.status.busy": "2021-06-25T10:03:25.672671Z",
          "iopub.execute_input": "2021-06-25T10:03:25.673067Z",
          "iopub.status.idle": "2021-06-25T10:03:25.676794Z",
          "shell.execute_reply.started": "2021-06-25T10:03:25.673034Z",
          "shell.execute_reply": "2021-06-25T10:03:25.675945Z"
        },
        "trusted": true,
        "id": "A6Pl-DNzstKi"
      },
      "source": [
        "y_true = test_generator.classes"
      ],
      "execution_count": null,
      "outputs": []
    },
    {
      "cell_type": "code",
      "metadata": {
        "execution": {
          "iopub.status.busy": "2021-06-25T10:03:31.569554Z",
          "iopub.execute_input": "2021-06-25T10:03:31.570099Z",
          "iopub.status.idle": "2021-06-25T10:03:31.577230Z",
          "shell.execute_reply.started": "2021-06-25T10:03:31.570063Z",
          "shell.execute_reply": "2021-06-25T10:03:31.576451Z"
        },
        "trusted": true,
        "id": "XtdEuOwSstKj",
        "outputId": "61c455a5-1111-4d2d-d1e4-28892f80065a"
      },
      "source": [
        "list_class_names_in_generator = list(test_generator.class_indices.values())\n",
        "list_class_names_in_generator[:5]"
      ],
      "execution_count": null,
      "outputs": [
        {
          "output_type": "execute_result",
          "data": {
            "text/plain": [
              "[0, 1, 2]"
            ]
          },
          "metadata": {
            "tags": []
          },
          "execution_count": 18
        }
      ]
    },
    {
      "cell_type": "code",
      "metadata": {
        "id": "oUQ9H1WZstKj"
      },
      "source": [
        ""
      ],
      "execution_count": null,
      "outputs": []
    },
    {
      "cell_type": "code",
      "metadata": {
        "execution": {
          "iopub.status.busy": "2021-06-25T11:04:06.563747Z",
          "iopub.execute_input": "2021-06-25T11:04:06.564264Z",
          "iopub.status.idle": "2021-06-25T11:04:06.639474Z",
          "shell.execute_reply.started": "2021-06-25T11:04:06.564232Z",
          "shell.execute_reply": "2021-06-25T11:04:06.638343Z"
        },
        "trusted": true,
        "id": "ZNzk8SnmstKk"
      },
      "source": [
        "TP_class_0 = 0\n",
        "TP_class_1 = 0\n",
        "TP_class_2 = 0\n",
        "\n",
        "TN_class_0 = 0\n",
        "TN_class_1 = 0\n",
        "TN_class_2 = 0\n",
        "\n",
        "FP_class_0 = 0\n",
        "FP_class_1 = 0\n",
        "FP_class_2 = 0\n",
        "\n",
        "FN_class_0 = 0\n",
        "FN_class_1 = 0\n",
        "FN_class_2 = 0\n",
        "\n",
        "for true_class,pred_class in zip(y_true,y_pred):\n",
        "    # Correct classifications:\n",
        "    if true_class == pred_class:\n",
        "        if pred_class == 0:\n",
        "            TP_class_0 += 1\n",
        "        else:\n",
        "            TN_class_0 += 1\n",
        "            \n",
        "        if pred_class == 1:\n",
        "            TP_class_1 += 1\n",
        "        else:\n",
        "            TN_class_1 += 1\n",
        "            \n",
        "        if pred_class == 2:\n",
        "            TP_class_2 += 1\n",
        "        else:\n",
        "            TN_class_2 += 1\n",
        "            \n",
        "    # Incorrect classifications:\n",
        "    elif true_class != pred_class:\n",
        "        if pred_class == 0:\n",
        "            FP_class_0 += 1\n",
        "        else:\n",
        "            FN_class_0 += 1\n",
        "\n",
        "        if pred_class == 1:\n",
        "            FP_class_1 += 1\n",
        "        else:\n",
        "            FN_class_1 += 1\n",
        "\n",
        "        if pred_class == 2:\n",
        "            FP_class_2 += 1\n",
        "        else:\n",
        "            FN_class_2 += 1"
      ],
      "execution_count": null,
      "outputs": []
    },
    {
      "cell_type": "code",
      "metadata": {
        "execution": {
          "iopub.status.busy": "2021-06-25T11:04:51.647916Z",
          "iopub.execute_input": "2021-06-25T11:04:51.648328Z",
          "iopub.status.idle": "2021-06-25T11:04:51.657609Z",
          "shell.execute_reply.started": "2021-06-25T11:04:51.648292Z",
          "shell.execute_reply": "2021-06-25T11:04:51.656071Z"
        },
        "trusted": true,
        "id": "SIFDAps1stKk",
        "outputId": "1062b54a-968a-40af-be7d-f5d6c70d513d"
      },
      "source": [
        "print(f\"TP_class_0 = {TP_class_0}\")\n",
        "print(f\"TP_class_1 = {TP_class_1}\")\n",
        "print(f\"TP_class_2 = {TP_class_2}\")\n",
        "\n",
        "print(f\"\\nTN_class_0 = {TN_class_0}\")\n",
        "print(f\"TN_class_1 = {TN_class_1}\")\n",
        "print(f\"TN_class_2 = {TN_class_2}\")\n",
        "\n",
        "print(f\"\\nFP_class_0 = {FP_class_0}\")\n",
        "print(f\"FP_class_1 = {FP_class_1}\")\n",
        "print(f\"FP_class_2 = {FP_class_2}\")\n",
        "\n",
        "print(f\"\\nFN_class_0 = {FN_class_0}\")\n",
        "print(f\"FN_class_1 = {FN_class_1}\")\n",
        "print(f\"FN_class_2 = {FN_class_2}\")"
      ],
      "execution_count": null,
      "outputs": [
        {
          "output_type": "stream",
          "text": [
            "TP_class_0 = 12079\n",
            "TP_class_1 = 7370\n",
            "TP_class_2 = 5943\n",
            "\n",
            "TN_class_0 = 13313\n",
            "TN_class_1 = 18022\n",
            "TN_class_2 = 19449\n",
            "\n",
            "FP_class_0 = 69\n",
            "FP_class_1 = 44\n",
            "FP_class_2 = 153\n",
            "\n",
            "FN_class_0 = 197\n",
            "FN_class_1 = 222\n",
            "FN_class_2 = 113\n"
          ],
          "name": "stdout"
        }
      ]
    },
    {
      "cell_type": "code",
      "metadata": {
        "execution": {
          "iopub.status.busy": "2021-06-25T11:11:41.726867Z",
          "iopub.execute_input": "2021-06-25T11:11:41.727234Z",
          "iopub.status.idle": "2021-06-25T11:11:41.735959Z",
          "shell.execute_reply.started": "2021-06-25T11:11:41.727203Z",
          "shell.execute_reply": "2021-06-25T11:11:41.734703Z"
        },
        "trusted": true,
        "id": "enii3fRrstKl",
        "outputId": "5ce84e3e-6a9a-4367-8edd-10e31e26da1d"
      },
      "source": [
        "# Sensitivity: (Normal=0, Pneumonia=1, COVID-19=2)\n",
        "# Sensitivity and Recall are same.\n",
        "sensitivity_class_0 = round((TP_class_0 / (TP_class_0+FN_class_0)), 4)\n",
        "sensitivity_class_1 = round((TP_class_1 / (TP_class_1+FN_class_1)), 4)\n",
        "sensitivity_class_2 = round((TP_class_2 / (TP_class_2+FN_class_2)), 4)\n",
        "\n",
        "print(f\"sensitivity_class_0 = {sensitivity_class_0}\")\n",
        "print(f\"sensitivity_class_1 = {sensitivity_class_1}\")\n",
        "print(f\"sensitivity_class_2 = {sensitivity_class_2}\")"
      ],
      "execution_count": null,
      "outputs": [
        {
          "output_type": "stream",
          "text": [
            "sensitivity_class_0 = 0.984\n",
            "sensitivity_class_1 = 0.9708\n",
            "sensitivity_class_2 = 0.9813\n"
          ],
          "name": "stdout"
        }
      ]
    },
    {
      "cell_type": "code",
      "metadata": {
        "execution": {
          "iopub.status.busy": "2021-06-25T11:13:47.686221Z",
          "iopub.execute_input": "2021-06-25T11:13:47.686586Z",
          "iopub.status.idle": "2021-06-25T11:13:47.693363Z",
          "shell.execute_reply.started": "2021-06-25T11:13:47.686556Z",
          "shell.execute_reply": "2021-06-25T11:13:47.692083Z"
        },
        "trusted": true,
        "id": "FVtjkTC3stKm",
        "outputId": "0ca345c3-c26e-49dc-e6e5-44210ab9f234"
      },
      "source": [
        "# PPV: (Normal=0, Pneumonia=1, COVID-19=2)\n",
        "# PPV and Precision are same.\n",
        "ppv_class_0 = round((TP_class_0 / (TP_class_0+FP_class_0)), 4)\n",
        "ppv_class_1 = round((TP_class_1 / (TP_class_1+FP_class_1)), 4)\n",
        "ppv_class_2 = round((TP_class_2 / (TP_class_2+FP_class_2)), 4)\n",
        "\n",
        "print(f\"ppv_class_0 = {ppv_class_0}\")\n",
        "print(f\"ppv_class_1 = {ppv_class_1}\")\n",
        "print(f\"ppv_class_2 = {ppv_class_2}\")"
      ],
      "execution_count": null,
      "outputs": [
        {
          "output_type": "stream",
          "text": [
            "ppv_class_0 = 0.9943\n",
            "ppv_class_1 = 0.9941\n",
            "ppv_class_2 = 0.9749\n"
          ],
          "name": "stdout"
        }
      ]
    },
    {
      "cell_type": "code",
      "metadata": {
        "execution": {
          "iopub.status.busy": "2021-06-25T12:28:56.553403Z",
          "iopub.execute_input": "2021-06-25T12:28:56.553859Z",
          "iopub.status.idle": "2021-06-25T12:28:56.561307Z",
          "shell.execute_reply.started": "2021-06-25T12:28:56.553797Z",
          "shell.execute_reply": "2021-06-25T12:28:56.560296Z"
        },
        "trusted": true,
        "id": "AcD9lv8rstKm",
        "outputId": "1a230a4a-d0de-4a41-9f01-34a72689b4f0"
      },
      "source": [
        "# Specificity: (Normal=0, Pneumonia=1, COVID-19=2)\n",
        "specificity_class_0 = round((TN_class_0 / (FP_class_0+TN_class_0)), 4)\n",
        "specificity_class_1 = round((TN_class_1 / (FP_class_1+TN_class_1)), 4)\n",
        "specificity_class_2 = round((TN_class_2 / (FP_class_2+TN_class_2)), 4)\n",
        "\n",
        "print(f\"specificity_class_0 = {specificity_class_0}\")\n",
        "print(f\"specificity_class_1 = {specificity_class_1}\")\n",
        "print(f\"specificity_class_2 = {specificity_class_2}\")"
      ],
      "execution_count": null,
      "outputs": [
        {
          "output_type": "stream",
          "text": [
            "specificity_class_0 = 0.9948\n",
            "specificity_class_1 = 0.9976\n",
            "specificity_class_2 = 0.9922\n"
          ],
          "name": "stdout"
        }
      ]
    },
    {
      "cell_type": "code",
      "metadata": {
        "execution": {
          "iopub.status.busy": "2021-06-25T12:30:40.905035Z",
          "iopub.execute_input": "2021-06-25T12:30:40.905426Z",
          "iopub.status.idle": "2021-06-25T12:30:40.911594Z",
          "shell.execute_reply.started": "2021-06-25T12:30:40.905396Z",
          "shell.execute_reply": "2021-06-25T12:30:40.910527Z"
        },
        "trusted": true,
        "id": "REH87wKnstKm",
        "outputId": "720b7219-09a2-4487-cb34-5ab275cfc16e"
      },
      "source": [
        "# NPV: (Normal=0, Pneumonia=1, COVID-19=2)\n",
        "npv_class_0 = round((TN_class_0 / (TN_class_0+FN_class_0)), 4)\n",
        "npv_class_1 = round((TN_class_1 / (TN_class_1+FN_class_1)), 4)\n",
        "npv_class_2 = round((TN_class_2 / (TN_class_2+FN_class_2)), 4)\n",
        "\n",
        "print(f\"npv_class_0 = {npv_class_0}\")\n",
        "print(f\"npv_class_1 = {npv_class_1}\")\n",
        "print(f\"npv_class_2 = {npv_class_2}\")"
      ],
      "execution_count": null,
      "outputs": [
        {
          "output_type": "stream",
          "text": [
            "npv_class_0 = 0.9854\n",
            "npv_class_1 = 0.9878\n",
            "npv_class_2 = 0.9942\n"
          ],
          "name": "stdout"
        }
      ]
    },
    {
      "cell_type": "code",
      "metadata": {
        "execution": {
          "iopub.status.busy": "2021-06-25T12:36:50.491201Z",
          "iopub.execute_input": "2021-06-25T12:36:50.491570Z",
          "iopub.status.idle": "2021-06-25T12:36:50.499962Z",
          "shell.execute_reply.started": "2021-06-25T12:36:50.491540Z",
          "shell.execute_reply": "2021-06-25T12:36:50.498890Z"
        },
        "trusted": true,
        "id": "fRRlLBHxstKn",
        "outputId": "5bc5f55c-7ba3-4c97-9b84-c2b1735afb99"
      },
      "source": [
        "np_metrics = np.array([[sensitivity_class_0, ppv_class_0, specificity_class_0, npv_class_0],\n",
        "              [sensitivity_class_1, ppv_class_1, specificity_class_1, npv_class_1],\n",
        "              [sensitivity_class_2, ppv_class_2, specificity_class_2, npv_class_2]])\n",
        "np_metrics.shape"
      ],
      "execution_count": null,
      "outputs": [
        {
          "output_type": "execute_result",
          "data": {
            "text/plain": [
              "(3, 4)"
            ]
          },
          "metadata": {
            "tags": []
          },
          "execution_count": 76
        }
      ]
    },
    {
      "cell_type": "code",
      "metadata": {
        "execution": {
          "iopub.status.busy": "2021-06-25T12:41:43.772692Z",
          "iopub.execute_input": "2021-06-25T12:41:43.773196Z",
          "iopub.status.idle": "2021-06-25T12:41:43.789221Z",
          "shell.execute_reply.started": "2021-06-25T12:41:43.773166Z",
          "shell.execute_reply": "2021-06-25T12:41:43.788524Z"
        },
        "trusted": true,
        "id": "3O3cHPB7stKo",
        "outputId": "ff6fc412-119a-40ba-b45b-05bcd6ebd668"
      },
      "source": [
        "df_metrics = pd.DataFrame(np_metrics)\n",
        "df_metrics.columns=['Sensitivity', 'PPV', 'Specificity', 'NPV']\n",
        "df_metrics.index=['Normal', 'Pneumonia', 'COVID-19']\n",
        "df_metrics"
      ],
      "execution_count": null,
      "outputs": [
        {
          "output_type": "execute_result",
          "data": {
            "text/plain": [
              "           Sensitivity     PPV  Specificity     NPV\n",
              "Normal          0.9840  0.9943       0.9948  0.9854\n",
              "Pneumonia       0.9708  0.9941       0.9976  0.9878\n",
              "COVID-19        0.9813  0.9749       0.9922  0.9942"
            ],
            "text/html": [
              "<div>\n",
              "<style scoped>\n",
              "    .dataframe tbody tr th:only-of-type {\n",
              "        vertical-align: middle;\n",
              "    }\n",
              "\n",
              "    .dataframe tbody tr th {\n",
              "        vertical-align: top;\n",
              "    }\n",
              "\n",
              "    .dataframe thead th {\n",
              "        text-align: right;\n",
              "    }\n",
              "</style>\n",
              "<table border=\"1\" class=\"dataframe\">\n",
              "  <thead>\n",
              "    <tr style=\"text-align: right;\">\n",
              "      <th></th>\n",
              "      <th>Sensitivity</th>\n",
              "      <th>PPV</th>\n",
              "      <th>Specificity</th>\n",
              "      <th>NPV</th>\n",
              "    </tr>\n",
              "  </thead>\n",
              "  <tbody>\n",
              "    <tr>\n",
              "      <th>Normal</th>\n",
              "      <td>0.9840</td>\n",
              "      <td>0.9943</td>\n",
              "      <td>0.9948</td>\n",
              "      <td>0.9854</td>\n",
              "    </tr>\n",
              "    <tr>\n",
              "      <th>Pneumonia</th>\n",
              "      <td>0.9708</td>\n",
              "      <td>0.9941</td>\n",
              "      <td>0.9976</td>\n",
              "      <td>0.9878</td>\n",
              "    </tr>\n",
              "    <tr>\n",
              "      <th>COVID-19</th>\n",
              "      <td>0.9813</td>\n",
              "      <td>0.9749</td>\n",
              "      <td>0.9922</td>\n",
              "      <td>0.9942</td>\n",
              "    </tr>\n",
              "  </tbody>\n",
              "</table>\n",
              "</div>"
            ]
          },
          "metadata": {
            "tags": []
          },
          "execution_count": 78
        }
      ]
    },
    {
      "cell_type": "code",
      "metadata": {
        "execution": {
          "iopub.status.busy": "2021-06-25T12:47:17.610033Z",
          "iopub.execute_input": "2021-06-25T12:47:17.610393Z",
          "iopub.status.idle": "2021-06-25T12:47:17.616303Z",
          "shell.execute_reply.started": "2021-06-25T12:47:17.610363Z",
          "shell.execute_reply": "2021-06-25T12:47:17.615100Z"
        },
        "trusted": true,
        "id": "XUtuqBTastKo"
      },
      "source": [
        "df_metrics.to_csv('metrics_COVIDx_CT_2A_notebooke960295c6e_v3.csv')"
      ],
      "execution_count": null,
      "outputs": []
    },
    {
      "cell_type": "code",
      "metadata": {
        "id": "1157tM8dstKq"
      },
      "source": [
        ""
      ],
      "execution_count": null,
      "outputs": []
    },
    {
      "cell_type": "code",
      "metadata": {
        "execution": {
          "iopub.status.busy": "2021-06-25T10:03:42.466971Z",
          "iopub.execute_input": "2021-06-25T10:03:42.467477Z",
          "iopub.status.idle": "2021-06-25T10:03:42.500225Z",
          "shell.execute_reply.started": "2021-06-25T10:03:42.467445Z",
          "shell.execute_reply": "2021-06-25T10:03:42.499297Z"
        },
        "trusted": true,
        "id": "8TicvVhhstKr"
      },
      "source": [
        "list_y_true_rearranged = []\n",
        "list_y_pred_rearranged = []\n",
        "\n",
        "for true_class,pred_class in zip(y_true,y_pred):\n",
        "    #print(f\"true_class = {true_class}; pred_class = {pred_class}\")\n",
        "    #y_true_rearranged = int(list_class_names_in_generator[true_class][5:])\n",
        "    #y_pred_rearranged = int(list_class_names_in_generator[pred_class][5:])\n",
        "\n",
        "    y_true_rearranged = int(list_class_names_in_generator[true_class])\n",
        "    y_pred_rearranged = int(list_class_names_in_generator[pred_class])\n",
        "\n",
        "    list_y_true_rearranged.append(y_true_rearranged)\n",
        "    list_y_pred_rearranged.append(y_pred_rearranged)"
      ],
      "execution_count": null,
      "outputs": []
    },
    {
      "cell_type": "code",
      "metadata": {
        "execution": {
          "iopub.status.busy": "2021-06-25T10:03:48.391250Z",
          "iopub.execute_input": "2021-06-25T10:03:48.391846Z",
          "iopub.status.idle": "2021-06-25T10:03:48.408439Z",
          "shell.execute_reply.started": "2021-06-25T10:03:48.391792Z",
          "shell.execute_reply": "2021-06-25T10:03:48.407608Z"
        },
        "trusted": true,
        "id": "y2YblUz3stKr",
        "outputId": "c834bf74-4730-441b-b812-a9fc982ab965"
      },
      "source": [
        "np_y_true_rearranged = np.array(list_y_true_rearranged)\n",
        "np_y_pred_rearranged = np.array(list_y_pred_rearranged)\n",
        "\n",
        "print(f\"np_y_true_rearranged.shape = {np_y_true_rearranged.shape}\")\n",
        "print(f\"np_y_pred_rearranged.shape = {np_y_pred_rearranged.shape}\")\n",
        "print(f\"np_y_true_rearranged: {np_y_true_rearranged}\")\n",
        "print(f\"np_y_pred_rearranged: {np_y_pred_rearranged}\")"
      ],
      "execution_count": null,
      "outputs": [
        {
          "output_type": "stream",
          "text": [
            "np_y_true_rearranged.shape = (25658,)\n",
            "np_y_pred_rearranged.shape = (25658,)\n",
            "np_y_true_rearranged: [2 2 2 ... 2 2 2]\n",
            "np_y_pred_rearranged: [2 2 2 ... 2 2 2]\n"
          ],
          "name": "stdout"
        }
      ]
    },
    {
      "cell_type": "code",
      "metadata": {
        "execution": {
          "iopub.status.busy": "2021-06-25T10:03:59.518634Z",
          "iopub.execute_input": "2021-06-25T10:03:59.519056Z",
          "iopub.status.idle": "2021-06-25T10:03:59.528182Z",
          "shell.execute_reply.started": "2021-06-25T10:03:59.519024Z",
          "shell.execute_reply": "2021-06-25T10:03:59.527091Z"
        },
        "trusted": true,
        "id": "cLQQTrGWstKs",
        "outputId": "cdb20ce8-76fb-47d2-d3ca-446338ad1e80"
      },
      "source": [
        "print(f\"np_y_true_rearranged.shape = {np_y_true_rearranged.shape}\\n\")\n",
        "\n",
        "index = -5\n",
        "print(f\"y_true[{index}:] = {y_true[index:]}\")\n",
        "print(f\"y_pred[{index}:] = {y_pred[index:]}\\n\")\n",
        "print(f\"np_y_true_rearranged[{index}:] = {np_y_true_rearranged[index:]}\")\n",
        "print(f\"np_y_pred_rearranged[{index}:] = {np_y_pred_rearranged[index:]}\\n\")\n",
        "print(f\"np.unique(np_y_true_rearranged) = {np.unique(np_y_true_rearranged)}\")\n",
        "print(f\"np.unique(np_y_pred_rearranged) = {np.unique(np_y_pred_rearranged)}\")"
      ],
      "execution_count": null,
      "outputs": [
        {
          "output_type": "stream",
          "text": [
            "np_y_true_rearranged.shape = (25658,)\n",
            "\n",
            "y_true[-5:] = [2, 2, 2, 2, 2]\n",
            "y_pred[-5:] = [2 2 2 2 2]\n",
            "\n",
            "np_y_true_rearranged[-5:] = [2 2 2 2 2]\n",
            "np_y_pred_rearranged[-5:] = [2 2 2 2 2]\n",
            "\n",
            "np.unique(np_y_true_rearranged) = [0 1 2]\n",
            "np.unique(np_y_pred_rearranged) = [0 1 2]\n"
          ],
          "name": "stdout"
        }
      ]
    },
    {
      "cell_type": "code",
      "metadata": {
        "id": "GMIm_Sb0stKt"
      },
      "source": [
        ""
      ],
      "execution_count": null,
      "outputs": []
    },
    {
      "cell_type": "code",
      "metadata": {
        "execution": {
          "iopub.status.busy": "2021-06-25T10:04:27.759413Z",
          "iopub.execute_input": "2021-06-25T10:04:27.759927Z",
          "iopub.status.idle": "2021-06-25T10:04:27.803010Z",
          "shell.execute_reply.started": "2021-06-25T10:04:27.759894Z",
          "shell.execute_reply": "2021-06-25T10:04:27.802086Z"
        },
        "trusted": true,
        "id": "xABfVj9fstKt",
        "outputId": "0ac5fc5a-2b25-439a-8eb6-5d5abc50bdc7"
      },
      "source": [
        "conf_matrix = sklearn.metrics.confusion_matrix(np_y_true_rearranged, np_y_pred_rearranged)\n",
        "print(f\"Confusion Matrix:\\n{conf_matrix}\")"
      ],
      "execution_count": null,
      "outputs": [
        {
          "output_type": "stream",
          "text": [
            "Confusion Matrix:\n",
            "[[12079    14   152]\n",
            " [   24  7370     1]\n",
            " [   45    30  5943]]\n"
          ],
          "name": "stdout"
        }
      ]
    },
    {
      "cell_type": "code",
      "metadata": {
        "execution": {
          "iopub.status.busy": "2021-06-25T10:04:30.997507Z",
          "iopub.execute_input": "2021-06-25T10:04:30.997905Z",
          "iopub.status.idle": "2021-06-25T10:04:31.196624Z",
          "shell.execute_reply.started": "2021-06-25T10:04:30.997868Z",
          "shell.execute_reply": "2021-06-25T10:04:31.195199Z"
        },
        "trusted": true,
        "id": "bi3rrCdLstKu",
        "outputId": "ac17d110-93a3-422f-dd78-c1c487d9cdc3"
      },
      "source": [
        "#plt.figure(figsize = (30,30))\n",
        "plt.matshow(conf_matrix)"
      ],
      "execution_count": null,
      "outputs": [
        {
          "output_type": "execute_result",
          "data": {
            "text/plain": [
              "<matplotlib.image.AxesImage at 0x7f40926956d0>"
            ]
          },
          "metadata": {
            "tags": []
          },
          "execution_count": 23
        },
        {
          "output_type": "display_data",
          "data": {
            "text/plain": [
              "<Figure size 288x288 with 1 Axes>"
            ],
            "image/png": "[encoded data removed]"
          },
          "metadata": {
            "tags": [],
            "needs_background": "light"
          }
        }
      ]
    },
    {
      "cell_type": "code",
      "metadata": {
        "execution": {
          "iopub.status.busy": "2021-06-25T10:23:50.989256Z",
          "iopub.execute_input": "2021-06-25T10:23:50.989786Z",
          "iopub.status.idle": "2021-06-25T10:23:50.995456Z",
          "shell.execute_reply.started": "2021-06-25T10:23:50.989740Z",
          "shell.execute_reply": "2021-06-25T10:23:50.994605Z"
        },
        "trusted": true,
        "id": "7vHN4KNnstKu"
      },
      "source": [
        "# Normal=0, Pneumonia=1, and COVID-19=2\n",
        "df_conf_matrix = pd.DataFrame(conf_matrix, index = ['Normal','Pneumonia','COVID-19'],\n",
        "                  columns = ['Normal','Pneumonia','COVID-19'])"
      ],
      "execution_count": null,
      "outputs": []
    },
    {
      "cell_type": "code",
      "metadata": {
        "execution": {
          "iopub.status.busy": "2021-06-25T10:31:43.600853Z",
          "iopub.execute_input": "2021-06-25T10:31:43.601245Z",
          "iopub.status.idle": "2021-06-25T10:31:44.519077Z",
          "shell.execute_reply.started": "2021-06-25T10:31:43.601209Z",
          "shell.execute_reply": "2021-06-25T10:31:44.517911Z"
        },
        "trusted": true,
        "id": "lbyHmAtDstKu",
        "outputId": "a6c1338a-3355-4447-8f6d-4deb88038781"
      },
      "source": [
        "title = \"Confusion matrix for \"+dataset+\" \"+impl_type+\"\\n\"\n",
        "plt.figure(figsize = (5,3))\n",
        "plt.title(title)\n",
        "ax = sn.heatmap(df_conf_matrix, annot=True)\n",
        "ax.xaxis.tick_top() # x axis on top\n",
        "plt.yticks(rotation=70) \n",
        "\n",
        "img_path = work_dir+'conf_matrix_'+checkpointer_name[8:-5]+'.png'\n",
        "plt.savefig(img_path, dpi=600)\n",
        "print(f\"img_path = {img_path}\")"
      ],
      "execution_count": null,
      "outputs": [
        {
          "output_type": "stream",
          "text": [
            "img_path = ./conf_matrix_COVIDx_CT_2A_Kaggle.rgb.(256, 256).DataFlow.TrainValTest.pad0.TransferLearning3D.DenseNet201.wInit.imagenet.TrainableAfter.allDefault.Dense.1024.1024.2048.actF.elu.opt.Adam.drop.0.5.batch16.Flatten.l2.0.001.run_1.png\n"
          ],
          "name": "stdout"
        },
        {
          "output_type": "display_data",
          "data": {
            "text/plain": [
              "<Figure size 360x216 with 2 Axes>"
            ],
            "image/png": "[encoded data removed]"
          },
          "metadata": {
            "tags": [],
            "needs_background": "light"
          }
        }
      ]
    },
    {
      "cell_type": "code",
      "metadata": {
        "id": "Vc-xpfs0stKv"
      },
      "source": [
        ""
      ],
      "execution_count": null,
      "outputs": []
    },
    {
      "cell_type": "code",
      "metadata": {
        "execution": {
          "iopub.status.busy": "2021-06-25T00:49:26.078414Z",
          "iopub.execute_input": "2021-06-25T00:49:26.078761Z",
          "iopub.status.idle": "2021-06-25T00:49:26.084728Z",
          "shell.execute_reply.started": "2021-06-25T00:49:26.078724Z",
          "shell.execute_reply": "2021-06-25T00:49:26.083775Z"
        },
        "trusted": true,
        "id": "BFD5PY7bstKv"
      },
      "source": [
        "test_generator.class_indices.keys()"
      ],
      "execution_count": null,
      "outputs": []
    },
    {
      "cell_type": "code",
      "metadata": {
        "execution": {
          "iopub.status.busy": "2021-06-25T00:49:26.088611Z",
          "iopub.execute_input": "2021-06-25T00:49:26.089046Z",
          "iopub.status.idle": "2021-06-25T00:49:26.115343Z",
          "shell.execute_reply.started": "2021-06-25T00:49:26.089011Z",
          "shell.execute_reply": "2021-06-25T00:49:26.11445Z"
        },
        "trusted": true,
        "id": "epoJ9uJQstKw"
      },
      "source": [
        "#'''\n",
        "print('Classification Report')\n",
        "print(sklearn.metrics.classification_report(np_y_true_rearranged, np_y_pred_rearranged, target_names=test_generator.class_indices.keys()))\n",
        "#'''"
      ],
      "execution_count": null,
      "outputs": []
    },
    {
      "cell_type": "code",
      "metadata": {
        "execution": {
          "iopub.status.busy": "2021-06-25T00:49:26.116708Z",
          "iopub.execute_input": "2021-06-25T00:49:26.11704Z",
          "iopub.status.idle": "2021-06-25T00:49:26.127046Z",
          "shell.execute_reply.started": "2021-06-25T00:49:26.117007Z",
          "shell.execute_reply": "2021-06-25T00:49:26.126322Z"
        },
        "trusted": true,
        "id": "3rOYJ9vjstKw"
      },
      "source": [
        "log_data = pd.read_csv(work_dir+log_name, sep=',', engine='python') "
      ],
      "execution_count": null,
      "outputs": []
    },
    {
      "cell_type": "code",
      "metadata": {
        "execution": {
          "iopub.status.busy": "2021-06-25T00:49:26.128476Z",
          "iopub.execute_input": "2021-06-25T00:49:26.128807Z",
          "iopub.status.idle": "2021-06-25T00:49:26.152692Z",
          "shell.execute_reply.started": "2021-06-25T00:49:26.128775Z",
          "shell.execute_reply": "2021-06-25T00:49:26.151592Z"
        },
        "trusted": true,
        "id": "WMAaUXjestKw"
      },
      "source": [
        "# Getting the model history keys \n",
        "#history.history.keys()\n",
        "log_data.head()"
      ],
      "execution_count": null,
      "outputs": []
    },
    {
      "cell_type": "code",
      "metadata": {
        "execution": {
          "iopub.status.busy": "2021-06-25T00:49:26.154241Z",
          "iopub.execute_input": "2021-06-25T00:49:26.154656Z",
          "iopub.status.idle": "2021-06-25T00:49:26.899156Z",
          "shell.execute_reply.started": "2021-06-25T00:49:26.15462Z",
          "shell.execute_reply": "2021-06-25T00:49:26.898312Z"
        },
        "trusted": true,
        "id": "B-t3mz1lstKx"
      },
      "source": [
        "# plot the training artifacts\n",
        "title = \"Val loss for \"+dataset+\" \"+impl_type+\"\\n\"\n",
        "\n",
        "plt.plot(log_data['loss'])\n",
        "plt.plot(log_data['val_loss'])\n",
        "plt.title(title)\n",
        "plt.ylabel('loss')\n",
        "plt.xlabel('epoch')\n",
        "plt.legend(['train_loss','val_loss'], loc = 'best')\n",
        "plt.grid(b=True, which='major', axis='both')\n",
        "\n",
        "img_path = work_dir+'vLoss_'+checkpointer_name[8:-5]+'.png'\n",
        "plt.savefig(img_path, dpi=600)\n",
        "plt.show()\n",
        "print('img_path =', img_path)"
      ],
      "execution_count": null,
      "outputs": []
    },
    {
      "cell_type": "code",
      "metadata": {
        "execution": {
          "iopub.status.busy": "2021-06-25T00:49:26.900529Z",
          "iopub.execute_input": "2021-06-25T00:49:26.901075Z",
          "iopub.status.idle": "2021-06-25T00:49:27.652612Z",
          "shell.execute_reply.started": "2021-06-25T00:49:26.901037Z",
          "shell.execute_reply": "2021-06-25T00:49:27.65164Z"
        },
        "trusted": true,
        "id": "X94pcLaLstKx"
      },
      "source": [
        "title = \"Val acc for \"+dataset+\" \"+impl_type+\"\\n\"\n",
        "\n",
        "plt.plot(log_data['accuracy'])\n",
        "plt.plot(log_data['val_accuracy'])\n",
        "plt.title(title)\n",
        "plt.ylabel('accuracy')\n",
        "plt.xlabel('epoch')\n",
        "plt.legend(['train_accuracy','val_accuracy'], loc = 'best')\n",
        "plt.grid(b=True, which='major', axis='both')\n",
        "\n",
        "img_path = work_dir+'vAcc_'+checkpointer_name[8:-5]+'.png'\n",
        "plt.savefig(img_path, dpi=600)\n",
        "plt.show()\n",
        "print('img_path =', img_path)"
      ],
      "execution_count": null,
      "outputs": []
    },
    {
      "cell_type": "code",
      "metadata": {
        "id": "PvFw7pc2stKy"
      },
      "source": [
        ""
      ],
      "execution_count": null,
      "outputs": []
    },
    {
      "cell_type": "code",
      "metadata": {
        "id": "pjH2hJZ8stKy"
      },
      "source": [
        ""
      ],
      "execution_count": null,
      "outputs": []
    },
    {
      "cell_type": "code",
      "metadata": {
        "id": "UcEST_0ustKy"
      },
      "source": [
        ""
      ],
      "execution_count": null,
      "outputs": []
    },
    {
      "cell_type": "code",
      "metadata": {
        "id": "e8K_wa15stKz"
      },
      "source": [
        ""
      ],
      "execution_count": null,
      "outputs": []
    },
    {
      "cell_type": "code",
      "metadata": {
        "id": "d1xc3Wm3stKz"
      },
      "source": [
        ""
      ],
      "execution_count": null,
      "outputs": []
    },
    {
      "cell_type": "code",
      "metadata": {
        "id": "8T84Lty_stKz"
      },
      "source": [
        ""
      ],
      "execution_count": null,
      "outputs": []
    }
  ]
}